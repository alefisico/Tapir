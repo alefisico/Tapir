{
 "cells": [
  {
   "cell_type": "markdown",
   "metadata": {},
   "source": [
    "# Draw histograms"
   ]
  },
  {
   "cell_type": "code",
   "execution_count": 2,
   "metadata": {},
   "outputs": [
    {
     "name": "stdout",
     "output_type": "stream",
     "text": [
      "Welcome to JupyROOT 6.18/00\n",
      "Directory  Plots/  already exists\n"
     ]
    }
   ],
   "source": [
    "import numpy as np\n",
    "import json\n",
    "import os\n",
    "import ROOT\n",
    "import CMS_lumi as CMS_lumi \n",
    "import tdrstyle as tdrstyle\n",
    "from collections import OrderedDict\n",
    "\n",
    "%jsroot on\n",
    "ROOT.gROOT.ForceStyle()\n",
    "tdrstyle.setTDRStyle()\n",
    "ROOT.gStyle.SetOptStat(0)\n",
    "\n",
    "outputFolder = 'Plots/'\n",
    "if not os.path.exists(outputFolder):\n",
    "    os.mkdir(outputFolder)\n",
    "    print(\"Directory \" , outputFolder ,  \" Created \")\n",
    "else:    \n",
    "    print(\"Directory \" , outputFolder ,  \" already exists\")"
   ]
  },
  {
   "cell_type": "markdown",
   "metadata": {},
   "source": [
    "## Load rootfiles"
   ]
  },
  {
   "cell_type": "code",
   "execution_count": 3,
   "metadata": {},
   "outputs": [],
   "source": [
    "versionRootfiles = 'v02'\n",
    "lumi=41529\n",
    "\n",
    "bkgFiles = {}\n",
    "bkgFiles[\"ST_tW_antitop\"] = [ ROOT.TFile('Rootfiles/'+versionRootfiles+'/histograms_ST_tW_antitop_5f_inclusiveDecays_TuneCP5_PSweights_13TeV-powheg-pythia8.root'), 1 ]\n",
    "bkgFiles[\"ST_tW_top\"] = [ ROOT.TFile('Rootfiles/'+versionRootfiles+'/histograms_ST_tW_top_5f_inclusiveDecays_TuneCP5_PSweights_13TeV-powheg-pythia8.root'), 1 ]\n",
    "bkgFiles[\"TTTo2L2Nu\"] = [ ROOT.TFile('Rootfiles/'+versionRootfiles+'/histograms_TTTo2L2Nu_TuneCP5_13TeV-powheg-pythia8.root'), lumi*88.342/283000430.596, 28 ]\n",
    "bkgFiles[\"TTToHadronic\"] = [ ROOT.TFile('Rootfiles/'+versionRootfiles+'/histograms_TTToHadronic_TuneCP5_13TeV-powheg-pythia8.root'), 1, 28 ]\n",
    "bkgFiles[\"TTToSemiLeptonic\"] = [ ROOT.TFile('Rootfiles/'+versionRootfiles+'/histograms_TTToSemiLeptonic_TuneCP5_13TeV-powheg-pythia8.root'), lumi*365.46/720253370.04, 27 ]\n",
    "bkgFiles[\"TTWJetsToQQ\"] = [ ROOT.TFile('Rootfiles/'+versionRootfiles+'/histograms_TTWJetsToQQ_TuneCP5_13TeV-amcatnloFXFX-madspin-pythia8.root'), 1 ]\n",
    "bkgFiles[\"TTZToQQ\"] = [ ROOT.TFile('Rootfiles/'+versionRootfiles+'/histograms_TTZToQQ_TuneCP5_13TeV-amcatnlo-pythia8.root'), 1 ]\n",
    "bkgFiles[\"WW\"] = [ ROOT.TFile('Rootfiles/'+versionRootfiles+'/histograms_WW_TuneCP5_13TeV-pythia8.root'), 1 ]\n",
    "#bkgFiles[\"\"] = [ ROOT.TFile('Rootfiles/'+versionRootfiles+'/'), 1 ]\n",
    "#bkgFiles[\"\"] = [ ROOT.TFile('Rootfiles/'+versionRootfiles+'/'), 1 ]\n",
    "\n",
    "signalFiles = {}\n",
    "signalFiles[\"ttHToNonbb\"] = [ ROOT.TFile('Rootfiles/'+versionRootfiles+'/histograms_ttHToNonbb_M125_TuneCP5_13TeV-powheg-pythia8.root'), 1 ]\n",
    "signalFiles[\"ttHTobb\"] = [ ROOT.TFile('Rootfiles/'+versionRootfiles+'/histograms_ttHTobb_M125_TuneCP5_13TeV-powheg-pythia8.root'), lumi*0.2934045/4216319.32, 9 ]\n",
    "signalFiles[\"ttHTobb_ttToSemiLep\"] = [ ROOT.TFile('Rootfiles/'+versionRootfiles+'/histograms_ttHTobb_ttToSemiLep_M125_TuneCP5_13TeV-powheg-pythia8.root'), 1 ]\n",
    "#signalFiles[\"\"] = [ ROOT.TFile('Rootfiles/'+versionRootfiles+'/'), 1 ]"
   ]
  },
  {
   "cell_type": "markdown",
   "metadata": {},
   "source": [
    "### Helpful functions"
   ]
  },
  {
   "cell_type": "code",
   "execution_count": 4,
   "metadata": {},
   "outputs": [],
   "source": [
    "def addingText( listSel, xMin=0.65, yMax=0.65, align='right' ):\n",
    "\n",
    "    for i in range( len( listSel ) ):\n",
    "        textBox=ROOT.TLatex()\n",
    "        textBox.SetNDC()\n",
    "        textBox.SetTextSize(0.04) \n",
    "        #if 'right' in align: textBox.SetTextAlign(31)\n",
    "        textBox.SetTextFont(62) ### 62 is bold, 42 is normal\n",
    "        textBox.DrawLatex(xMin, yMax, listSel[i])\n",
    "        yMax = yMax -0.05"
   ]
  },
  {
   "cell_type": "markdown",
   "metadata": {},
   "source": [
    "## Single plots"
   ]
  },
  {
   "cell_type": "code",
   "execution_count": 5,
   "metadata": {},
   "outputs": [],
   "source": [
    "canvas = {}\n",
    "def plotSimple( inFile, sample, name, rebinX='', xmin='', xmax='', labX=0.92, labY=0.50, axisX='', axisY='', log=False, ext='png', version=versionRootfiles, Norm=False ):\n",
    "    \"\"\"\"Take root file, make simple plot\"\"\"\n",
    "    \n",
    "    outputFileName = name+'_'+sample+'_simplePlot'+version+'.'+ext\n",
    "    print('Processing.......', outputFileName)\n",
    "    \n",
    "    histo = inFile.Get( 'tthbb13/'+name )\n",
    "    \n",
    "    binWidth = histo.GetBinWidth(1)\n",
    "\n",
    "    histo.SetLineColor(ROOT.kBlue)\n",
    "    histo.SetLineWidth(2)\n",
    "    histo.SetFillStyle(1001)\n",
    "    histo.SetTitle(sample+' '+name)\n",
    "    if rebinX: histo.Rebin( rebinX )\n",
    "\n",
    "    #tdrstyle.SetPadRightMargin(0.05)\n",
    "    canvas[name] = ROOT.TCanvas('c'+name+sample, 'c'+name+sample, 10, 10, 750, 500 )\n",
    "    \n",
    "    if log: \n",
    "        canvas[name].SetLogy()\n",
    "        outName = outputFileName.replace('_simplePlot','_Log_simplePlot')\n",
    "    else: outName = outputFileName \n",
    "    canvas[name].Draw()\n",
    "\n",
    "    legend=ROOT.TLegend(0.60,0.75,0.90,0.90)\n",
    "    legend.SetFillStyle(0)\n",
    "    legend.SetTextSize(0.04)\n",
    "    legend.AddEntry( histo, sample, 'l' )\n",
    "    \n",
    "    if xmax: histo.GetXaxis().SetRangeUser( xmin, xmax )\n",
    "    histo.GetYaxis().SetTitleOffset(0.90)\n",
    "    histo.Draw('hist')\n",
    "    if not axisY: histo.GetYaxis().SetTitle( 'Events / '+str(binWidth) )\n",
    "    if axisX: histo.GetXaxis().SetTitle( axisX )\n",
    "\n",
    "    CMS_lumi.extraText = \"Simulation Preliminary\"\n",
    "    CMS_lumi.lumi_13TeV = ''\n",
    "    CMS_lumi.CMS_lumi(canvas[name], 4, 0)\n",
    "\n",
    "    legend.Draw()\n",
    "    #addingText( sample, labX, labY, 'right')\n",
    "    canvas[name].Modified()\n",
    "    canvas[name].Update()\n",
    "    canvas[name].SaveAs( 'Plots/'+outName )\n",
    "    del canvas[name]"
   ]
  },
  {
   "cell_type": "code",
   "execution_count": 7,
   "metadata": {
    "scrolled": false
   },
   "outputs": [
    {
     "name": "stdout",
     "output_type": "stream",
     "text": [
      "ngoodEvents\n",
      "Processing....... ngoodEvents_ttHTobb_simplePlotv02.png\n",
      "ngoodEvents\n",
      "Processing....... ngoodEvents_TTToSemiLeptonic_simplePlotv02.png\n",
      "TopCandMass\n",
      "Processing....... TopCandMass_ttHTobb_simplePlotv02.png\n",
      "TopCandMass\n",
      "Processing....... TopCandMass_TTToSemiLeptonic_simplePlotv02.png\n",
      "HiggsCandMass\n",
      "Processing....... HiggsCandMass_ttHTobb_simplePlotv02.png\n",
      "HiggsCandMass\n",
      "Processing....... HiggsCandMass_TTToSemiLeptonic_simplePlotv02.png\n",
      "WCandMass\n",
      "Processing....... WCandMass_ttHTobb_simplePlotv02.png\n",
      "WCandMass\n",
      "Processing....... WCandMass_TTToSemiLeptonic_simplePlotv02.png\n",
      "HiggsCandMass_WHiggs\n",
      "Processing....... HiggsCandMass_WHiggs_ttHTobb_simplePlotv02.png\n",
      "HiggsCandMass_WHiggs\n",
      "Processing....... HiggsCandMass_WHiggs_TTToSemiLeptonic_simplePlotv02.png\n",
      "WCandMass_WHiggs\n",
      "Processing....... WCandMass_WHiggs_ttHTobb_simplePlotv02.png\n",
      "WCandMass_WHiggs\n",
      "Processing....... WCandMass_WHiggs_TTToSemiLeptonic_simplePlotv02.png\n",
      "lepTopCandMass_boostedW\n",
      "Processing....... lepTopCandMass_boostedW_ttHTobb_simplePlotv02.png\n",
      "lepTopCandMass_boostedW\n",
      "Processing....... lepTopCandMass_boostedW_TTToSemiLeptonic_simplePlotv02.png\n",
      "hadTopCandMass_boostedW\n",
      "Processing....... hadTopCandMass_boostedW_ttHTobb_simplePlotv02.png\n",
      "hadTopCandMass_boostedW\n",
      "Processing....... hadTopCandMass_boostedW_TTToSemiLeptonic_simplePlotv02.png\n",
      "boostedHiggsCandMass_boostedW\n",
      "Processing....... boostedHiggsCandMass_boostedW_ttHTobb_simplePlotv02.png\n",
      "boostedHiggsCandMass_boostedW\n",
      "Processing....... boostedHiggsCandMass_boostedW_TTToSemiLeptonic_simplePlotv02.png\n",
      "resolvedHiggsCandMass_boostedW\n",
      "Processing....... resolvedHiggsCandMass_boostedW_ttHTobb_simplePlotv02.png\n",
      "resolvedHiggsCandMass_boostedW\n",
      "Processing....... resolvedHiggsCandMass_boostedW_TTToSemiLeptonic_simplePlotv02.png\n"
     ]
    },
    {
     "name": "stderr",
     "output_type": "stream",
     "text": [
      "Warning in <TCanvas::Constructor>: Deleting canvas with same name: cngoodEventsttHTobb\n",
      "Info in <TCanvas::Print>: png file Plots/ngoodEvents_ttHTobb_Log_simplePlotv02.png has been created\n",
      "Warning in <TCanvas::Constructor>: Deleting canvas with same name: cngoodEventsTTToSemiLeptonic\n",
      "Info in <TCanvas::Print>: png file Plots/ngoodEvents_TTToSemiLeptonic_Log_simplePlotv02.png has been created\n",
      "Warning in <TCanvas::Constructor>: Deleting canvas with same name: cTopCandMassttHTobb\n",
      "Info in <TCanvas::Print>: png file Plots/TopCandMass_ttHTobb_simplePlotv02.png has been created\n",
      "Warning in <TCanvas::Constructor>: Deleting canvas with same name: cTopCandMassTTToSemiLeptonic\n",
      "Info in <TCanvas::Print>: png file Plots/TopCandMass_TTToSemiLeptonic_simplePlotv02.png has been created\n",
      "Warning in <TCanvas::Constructor>: Deleting canvas with same name: cHiggsCandMassttHTobb\n",
      "Info in <TCanvas::Print>: png file Plots/HiggsCandMass_ttHTobb_simplePlotv02.png has been created\n",
      "Warning in <TCanvas::Constructor>: Deleting canvas with same name: cHiggsCandMassTTToSemiLeptonic\n",
      "Info in <TCanvas::Print>: png file Plots/HiggsCandMass_TTToSemiLeptonic_simplePlotv02.png has been created\n",
      "Warning in <TCanvas::Constructor>: Deleting canvas with same name: cWCandMassttHTobb\n",
      "Info in <TCanvas::Print>: png file Plots/WCandMass_ttHTobb_simplePlotv02.png has been created\n",
      "Warning in <TCanvas::Constructor>: Deleting canvas with same name: cWCandMassTTToSemiLeptonic\n",
      "Info in <TCanvas::Print>: png file Plots/WCandMass_TTToSemiLeptonic_simplePlotv02.png has been created\n",
      "Warning in <TCanvas::Constructor>: Deleting canvas with same name: cHiggsCandMass_WHiggsttHTobb\n",
      "Info in <TCanvas::Print>: png file Plots/HiggsCandMass_WHiggs_ttHTobb_simplePlotv02.png has been created\n",
      "Warning in <TCanvas::Constructor>: Deleting canvas with same name: cHiggsCandMass_WHiggsTTToSemiLeptonic\n",
      "Info in <TCanvas::Print>: png file Plots/HiggsCandMass_WHiggs_TTToSemiLeptonic_simplePlotv02.png has been created\n",
      "Warning in <TCanvas::Constructor>: Deleting canvas with same name: cWCandMass_WHiggsttHTobb\n",
      "Info in <TCanvas::Print>: png file Plots/WCandMass_WHiggs_ttHTobb_simplePlotv02.png has been created\n",
      "Warning in <TCanvas::Constructor>: Deleting canvas with same name: cWCandMass_WHiggsTTToSemiLeptonic\n",
      "Info in <TCanvas::Print>: png file Plots/WCandMass_WHiggs_TTToSemiLeptonic_simplePlotv02.png has been created\n",
      "Warning in <TCanvas::Constructor>: Deleting canvas with same name: clepTopCandMass_boostedWttHTobb\n",
      "Info in <TCanvas::Print>: png file Plots/lepTopCandMass_boostedW_ttHTobb_simplePlotv02.png has been created\n",
      "Warning in <TCanvas::Constructor>: Deleting canvas with same name: clepTopCandMass_boostedWTTToSemiLeptonic\n",
      "Info in <TCanvas::Print>: png file Plots/lepTopCandMass_boostedW_TTToSemiLeptonic_simplePlotv02.png has been created\n",
      "Warning in <TCanvas::Constructor>: Deleting canvas with same name: chadTopCandMass_boostedWttHTobb\n",
      "Info in <TCanvas::Print>: png file Plots/hadTopCandMass_boostedW_ttHTobb_simplePlotv02.png has been created\n",
      "Warning in <TCanvas::Constructor>: Deleting canvas with same name: chadTopCandMass_boostedWTTToSemiLeptonic\n",
      "Info in <TCanvas::Print>: png file Plots/hadTopCandMass_boostedW_TTToSemiLeptonic_simplePlotv02.png has been created\n",
      "Info in <TCanvas::Print>: png file Plots/boostedHiggsCandMass_boostedW_ttHTobb_simplePlotv02.png has been created\n",
      "Info in <TCanvas::Print>: png file Plots/boostedHiggsCandMass_boostedW_TTToSemiLeptonic_simplePlotv02.png has been created\n",
      "Info in <TCanvas::Print>: png file Plots/resolvedHiggsCandMass_boostedW_ttHTobb_simplePlotv02.png has been created\n",
      "Info in <TCanvas::Print>: png file Plots/resolvedHiggsCandMass_boostedW_TTToSemiLeptonic_simplePlotv02.png has been created\n"
     ]
    },
    {
     "data": {
      "text/html": [
       "\n",
       "<div id=\"root_plot_17\"\n",
       "     style=\"width: 746px; height: 472px\">\n",
       "</div>\n",
       "\n",
       "<script>\n",
       " requirejs.config({\n",
       "     paths: {\n",
       "       'JSRootCore' : 'https://root.cern.ch/js/notebook//scripts/JSRootCore',\n",
       "     }\n",
       "   });\n",
       " require(['JSRootCore'],\n",
       "     function(Core) {\n",
       "       var obj = Core.JSONR_unref({\"_typename\":\"TCanvas\",\"fUniqueID\":0,\"fBits\":53673992,\"fLineColor\":1,\"fLineStyle\":1,\"fLineWidth\":1,\"fFillColor\":0,\"fFillStyle\":1001,\"fLeftMargin\":0.12,\"fRightMargin\":0.1,\"fBottomMargin\":0.12,\"fTopMargin\":0.09,\"fXfile\":2,\"fYfile\":2,\"fAfile\":1,\"fXstat\":0.99,\"fYstat\":0.99,\"fAstat\":2,\"fFrameFillColor\":0,\"fFrameLineColor\":1,\"fFrameFillStyle\":0,\"fFrameLineStyle\":1,\"fFrameLineWidth\":1,\"fFrameBorderSize\":1,\"fFrameBorderMode\":0,\"fX1\":-1.23076924840374,\"fY1\":2.01791107362177,\"fX2\":9.02564107854456,\"fY2\":5.32676331055807,\"fXtoAbsPixelk\":89.520050666976,\"fXtoPixelk\":89.520050666976,\"fXtoPixel\":72.734999499768,\"fYtoAbsPixelk\":759.850325124817,\"fYtoPixelk\":759.850325124817,\"fYtoPixel\":-142.647651270469,\"fUtoAbsPixelk\":5e-5,\"fUtoPixelk\":5e-5,\"fUtoPixel\":746,\"fVtoAbsPixelk\":472.00005,\"fVtoPixelk\":472,\"fVtoPixel\":-472,\"fAbsPixeltoXk\":-1.23076924840374,\"fPixeltoXk\":-1.23076924840374,\"fPixeltoX\":0.0137485393122631,\"fAbsPixeltoYk\":5.32676331055807,\"fPixeltoYk\":2.01791107362177,\"fPixeltoY\":-0.00701028016300062,\"fXlowNDC\":0,\"fYlowNDC\":0,\"fXUpNDC\":0,\"fYUpNDC\":0,\"fWNDC\":1,\"fHNDC\":1,\"fAbsXlowNDC\":0,\"fAbsYlowNDC\":0,\"fAbsWNDC\":1,\"fAbsHNDC\":1,\"fUxmin\":0,\"fUymin\":2.41497334797082,\"fUxmax\":8,\"fUymax\":5.02896658630663,\"fTheta\":30,\"fPhi\":30,\"fAspectRatio\":0,\"fNumber\":0,\"fTickx\":1,\"fTicky\":1,\"fLogx\":0,\"fLogy\":1,\"fLogz\":0,\"fPadPaint\":0,\"fCrosshair\":0,\"fCrosshairPos\":0,\"fBorderSize\":2,\"fBorderMode\":0,\"fModified\":true,\"fGridx\":false,\"fGridy\":false,\"fAbsCoord\":false,\"fEditable\":true,\"fFixedAspectRatio\":false,\"fPrimitives\":{\"_typename\":\"TList\",\"name\":\"TList\",\"arr\":[{\"_typename\":\"TFrame\",\"fUniqueID\":0,\"fBits\":50331656,\"fLineColor\":1,\"fLineStyle\":1,\"fLineWidth\":1,\"fFillColor\":0,\"fFillStyle\":0,\"fX1\":0,\"fY1\":2.41497334797082,\"fX2\":8,\"fY2\":5.02896658630663,\"fBorderSize\":1,\"fBorderMode\":0},{\"_typename\":\"TH1F\",\"fUniqueID\":0,\"fBits\":50332168,\"fName\":\"ngoodEvents\",\"fTitle\":\"ttHTobb ngoodEvents\",\"fLineColor\":600,\"fLineStyle\":0,\"fLineWidth\":2,\"fFillColor\":0,\"fFillStyle\":1001,\"fMarkerColor\":1,\"fMarkerStyle\":1,\"fMarkerSize\":1,\"fNcells\":12,\"fXaxis\":{\"_typename\":\"TAxis\",\"fUniqueID\":0,\"fBits\":50333704,\"fName\":\"xaxis\",\"fTitle\":\"Categories\",\"fNdivisions\":510,\"fAxisColor\":1,\"fLabelColor\":1,\"fLabelFont\":42,\"fLabelOffset\":0.007,\"fLabelSize\":0.05,\"fTickLength\":0.03,\"fTitleOffset\":0.9,\"fTitleSize\":0.06,\"fTitleColor\":1,\"fTitleFont\":42,\"fNbins\":10,\"fXmin\":0,\"fXmax\":10,\"fXbins\":[],\"fFirst\":1,\"fLast\":8,\"fBits2\":0,\"fTimeDisplay\":false,\"fTimeFormat\":\"\",\"fLabels\":null,\"fModLabs\":null},\"fYaxis\":{\"_typename\":\"TAxis\",\"fUniqueID\":0,\"fBits\":50331656,\"fName\":\"yaxis\",\"fTitle\":\"Events \\/ 1.0\",\"fNdivisions\":510,\"fAxisColor\":1,\"fLabelColor\":1,\"fLabelFont\":42,\"fLabelOffset\":0.007,\"fLabelSize\":0.05,\"fTickLength\":0.03,\"fTitleOffset\":0.9,\"fTitleSize\":0.06,\"fTitleColor\":1,\"fTitleFont\":42,\"fNbins\":1,\"fXmin\":0,\"fXmax\":1,\"fXbins\":[],\"fFirst\":0,\"fLast\":0,\"fBits2\":0,\"fTimeDisplay\":false,\"fTimeFormat\":\"\",\"fLabels\":null,\"fModLabs\":null},\"fZaxis\":{\"_typename\":\"TAxis\",\"fUniqueID\":0,\"fBits\":50331648,\"fName\":\"zaxis\",\"fTitle\":\"\",\"fNdivisions\":510,\"fAxisColor\":1,\"fLabelColor\":1,\"fLabelFont\":42,\"fLabelOffset\":0.007,\"fLabelSize\":0.05,\"fTickLength\":0.03,\"fTitleOffset\":1,\"fTitleSize\":0.06,\"fTitleColor\":1,\"fTitleFont\":42,\"fNbins\":1,\"fXmin\":0,\"fXmax\":1,\"fXbins\":[],\"fFirst\":0,\"fLast\":0,\"fBits2\":0,\"fTimeDisplay\":false,\"fTimeFormat\":\"\",\"fLabels\":null,\"fModLabs\":null},\"fBarOffset\":0,\"fBarWidth\":1000,\"fEntries\":125352,\"fTsumw\":125352,\"fTsumw2\":125352,\"fTsumwx\":356534,\"fTsumwx2\":1653874,\"fMaximum\":-1111,\"fMinimum\":-1111,\"fNormFactor\":0,\"fContour\":[],\"fSumw2\":[],\"fOption\":\"\",\"fFunctions\":{\"_typename\":\"TList\",\"name\":\"TList\",\"arr\":[],\"opt\":[]},\"fBufferSize\":0,\"fBuffer\":[],\"fBinStatErrOpt\":0,\"fStatOverflows\":2,\"fArray\":[0,56418,520,4642,1353,45019,4481,12919,0,0,0,0]},{\"_typename\":\"TLatex\",\"fUniqueID\":0,\"fBits\":50348041,\"fName\":\"\",\"fTitle\":\"\",\"fTextAngle\":0,\"fTextSize\":0.054,\"fTextAlign\":31,\"fTextColor\":1,\"fTextFont\":42,\"fX\":0.899999998509884,\"fY\":0.927999997138977,\"fLineColor\":1,\"fLineStyle\":1,\"fLineWidth\":2,\"fLimitFactorSize\":3,\"fOriginSize\":0.04},{\"_typename\":\"TLatex\",\"fUniqueID\":0,\"fBits\":50348041,\"fName\":\"\",\"fTitle\":\"CMS\",\"fTextAngle\":0,\"fTextSize\":0.063,\"fTextAlign\":11,\"fTextColor\":1,\"fTextFont\":61,\"fX\":0.119999997317791,\"fY\":0.927999997138977,\"fLineColor\":1,\"fLineStyle\":1,\"fLineWidth\":2,\"fLimitFactorSize\":3,\"fOriginSize\":0.04},{\"_typename\":\"TLatex\",\"fUniqueID\":0,\"fBits\":50348041,\"fName\":\"\",\"fTitle\":\"Simulation Preliminary\",\"fTextAngle\":0,\"fTextSize\":0.0441,\"fTextAlign\":11,\"fTextColor\":1,\"fTextFont\":52,\"fX\":0.213599997460842,\"fY\":0.927999997138977,\"fLineColor\":1,\"fLineStyle\":1,\"fLineWidth\":2,\"fLimitFactorSize\":3,\"fOriginSize\":0.0441000014543533}],\"opt\":[\"\",\"hist\",\"\",\"\",\"\"]},\"fExecs\":null,\"fName\":\"cngoodEventsttHTobb\",\"fTitle\":\"cngoodEventsttHTobb\",\"fNumPaletteColor\":0,\"fNextPaletteColor\":0,\"fDISPLAY\":\"$DISPLAY\",\"fDoubleBuffer\":0,\"fRetained\":true,\"fXsizeUser\":0,\"fYsizeUser\":0,\"fXsizeReal\":20,\"fYsizeReal\":13.33333,\"fWindowTopX\":0,\"fWindowTopY\":0,\"fWindowWidth\":0,\"fWindowHeight\":0,\"fCw\":746,\"fCh\":472,\"fCatt\":{\"_typename\":\"TAttCanvas\",\"fXBetween\":2,\"fYBetween\":2,\"fTitleFromTop\":1.2,\"fXdate\":0.2,\"fYdate\":0.3,\"fAdate\":1},\"kMoveOpaque\":true,\"kResizeOpaque\":true,\"fHighLightColor\":2,\"fBatch\":true,\"kShowEventStatus\":false,\"kAutoExec\":true,\"kMenuBar\":true});\n",
       "       Core.draw(\"root_plot_17\", obj, \"\");\n",
       "     }\n",
       " );\n",
       "</script>\n"
      ],
      "text/plain": [
       "<IPython.core.display.HTML object>"
      ]
     },
     "metadata": {},
     "output_type": "display_data"
    },
    {
     "data": {
      "text/html": [
       "\n",
       "<div id=\"root_plot_18\"\n",
       "     style=\"width: 746px; height: 472px\">\n",
       "</div>\n",
       "\n",
       "<script>\n",
       " requirejs.config({\n",
       "     paths: {\n",
       "       'JSRootCore' : 'https://root.cern.ch/js/notebook//scripts/JSRootCore',\n",
       "     }\n",
       "   });\n",
       " require(['JSRootCore'],\n",
       "     function(Core) {\n",
       "       var obj = Core.JSONR_unref({\"_typename\":\"TCanvas\",\"fUniqueID\":0,\"fBits\":53673992,\"fLineColor\":1,\"fLineStyle\":1,\"fLineWidth\":1,\"fFillColor\":0,\"fFillStyle\":1001,\"fLeftMargin\":0.12,\"fRightMargin\":0.1,\"fBottomMargin\":0.12,\"fTopMargin\":0.09,\"fXfile\":2,\"fYfile\":2,\"fAfile\":1,\"fXstat\":0.99,\"fYstat\":0.99,\"fAstat\":2,\"fFrameFillColor\":0,\"fFrameLineColor\":1,\"fFrameFillStyle\":0,\"fFrameLineStyle\":1,\"fFrameLineWidth\":1,\"fFrameBorderSize\":1,\"fFrameBorderMode\":0,\"fX1\":-1.23076924840374,\"fY1\":2.6305688514379,\"fX2\":9.02564107854456,\"fY2\":6.16107761904173,\"fXtoAbsPixelk\":89.520050666976,\"fXtoPixelk\":89.520050666976,\"fXtoPixel\":72.734999499768,\"fYtoAbsPixelk\":823.68548108346,\"fYtoPixelk\":823.68548108346,\"fYtoPixel\":-133.691779590268,\"fUtoAbsPixelk\":5e-5,\"fUtoPixelk\":5e-5,\"fUtoPixel\":746,\"fVtoAbsPixelk\":472.00005,\"fVtoPixelk\":472,\"fVtoPixel\":-472,\"fAbsPixeltoXk\":-1.23076924840374,\"fPixeltoXk\":-1.23076924840374,\"fPixeltoX\":0.0137485393122631,\"fAbsPixeltoYk\":6.16107761904173,\"fPixeltoYk\":2.6305688514379,\"fPixeltoY\":-0.00747989145678778,\"fXlowNDC\":0,\"fYlowNDC\":0,\"fXUpNDC\":0,\"fYUpNDC\":0,\"fWNDC\":1,\"fHNDC\":1,\"fAbsXlowNDC\":0,\"fAbsYlowNDC\":0,\"fAbsWNDC\":1,\"fAbsHNDC\":1,\"fUxmin\":0,\"fUymin\":3.0542299098634,\"fUxmax\":8,\"fUymax\":5.84333180549434,\"fTheta\":30,\"fPhi\":30,\"fAspectRatio\":0,\"fNumber\":0,\"fTickx\":1,\"fTicky\":1,\"fLogx\":0,\"fLogy\":1,\"fLogz\":0,\"fPadPaint\":0,\"fCrosshair\":0,\"fCrosshairPos\":0,\"fBorderSize\":2,\"fBorderMode\":0,\"fModified\":true,\"fGridx\":false,\"fGridy\":false,\"fAbsCoord\":false,\"fEditable\":true,\"fFixedAspectRatio\":false,\"fPrimitives\":{\"_typename\":\"TList\",\"name\":\"TList\",\"arr\":[{\"_typename\":\"TFrame\",\"fUniqueID\":0,\"fBits\":50331656,\"fLineColor\":1,\"fLineStyle\":1,\"fLineWidth\":1,\"fFillColor\":0,\"fFillStyle\":0,\"fX1\":0,\"fY1\":3.0542299098634,\"fX2\":8,\"fY2\":5.84333180549434,\"fBorderSize\":1,\"fBorderMode\":0},{\"_typename\":\"TH1F\",\"fUniqueID\":0,\"fBits\":50332168,\"fName\":\"ngoodEvents\",\"fTitle\":\"TTToSemiLeptonic ngoodEvents\",\"fLineColor\":600,\"fLineStyle\":0,\"fLineWidth\":2,\"fFillColor\":0,\"fFillStyle\":1001,\"fMarkerColor\":1,\"fMarkerStyle\":1,\"fMarkerSize\":1,\"fNcells\":12,\"fXaxis\":{\"_typename\":\"TAxis\",\"fUniqueID\":0,\"fBits\":50333704,\"fName\":\"xaxis\",\"fTitle\":\"Categories\",\"fNdivisions\":510,\"fAxisColor\":1,\"fLabelColor\":1,\"fLabelFont\":42,\"fLabelOffset\":0.007,\"fLabelSize\":0.05,\"fTickLength\":0.03,\"fTitleOffset\":0.9,\"fTitleSize\":0.06,\"fTitleColor\":1,\"fTitleFont\":42,\"fNbins\":10,\"fXmin\":0,\"fXmax\":10,\"fXbins\":[],\"fFirst\":1,\"fLast\":8,\"fBits2\":0,\"fTimeDisplay\":false,\"fTimeFormat\":\"\",\"fLabels\":null,\"fModLabs\":null},\"fYaxis\":{\"_typename\":\"TAxis\",\"fUniqueID\":0,\"fBits\":50331656,\"fName\":\"yaxis\",\"fTitle\":\"Events \\/ 1.0\",\"fNdivisions\":510,\"fAxisColor\":1,\"fLabelColor\":1,\"fLabelFont\":42,\"fLabelOffset\":0.007,\"fLabelSize\":0.05,\"fTickLength\":0.03,\"fTitleOffset\":0.9,\"fTitleSize\":0.06,\"fTitleColor\":1,\"fTitleFont\":42,\"fNbins\":1,\"fXmin\":0,\"fXmax\":1,\"fXbins\":[],\"fFirst\":0,\"fLast\":0,\"fBits2\":0,\"fTimeDisplay\":false,\"fTimeFormat\":\"\",\"fLabels\":null,\"fModLabs\":null},\"fZaxis\":{\"_typename\":\"TAxis\",\"fUniqueID\":0,\"fBits\":50331648,\"fName\":\"zaxis\",\"fTitle\":\"\",\"fNdivisions\":510,\"fAxisColor\":1,\"fLabelColor\":1,\"fLabelFont\":42,\"fLabelOffset\":0.007,\"fLabelSize\":0.05,\"fTickLength\":0.03,\"fTitleOffset\":1,\"fTitleSize\":0.06,\"fTitleColor\":1,\"fTitleFont\":42,\"fNbins\":1,\"fXmin\":0,\"fXmax\":1,\"fXbins\":[],\"fFirst\":0,\"fLast\":0,\"fBits2\":0,\"fTimeDisplay\":false,\"fTimeFormat\":\"\",\"fLabels\":null,\"fModLabs\":null},\"fBarOffset\":0,\"fBarWidth\":1000,\"fEntries\":829249,\"fTsumw\":829249,\"fTsumw2\":829249,\"fTsumwx\":2357827.5,\"fTsumwx2\":10718224.25,\"fMaximum\":-1111,\"fMinimum\":-1111,\"fNormFactor\":0,\"fContour\":[],\"fSumw2\":[],\"fOption\":\"\",\"fFunctions\":{\"_typename\":\"TList\",\"name\":\"TList\",\"arr\":[],\"opt\":[]},\"fBufferSize\":0,\"fBuffer\":[],\"fBinStatErrOpt\":0,\"fStatOverflows\":2,\"fArray\":[0,367945,2266,21589,8088,339340,23991,66030,0,0,0,0]},{\"_typename\":\"TLatex\",\"fUniqueID\":0,\"fBits\":50348041,\"fName\":\"\",\"fTitle\":\"\",\"fTextAngle\":0,\"fTextSize\":0.054,\"fTextAlign\":31,\"fTextColor\":1,\"fTextFont\":42,\"fX\":0.899999998509884,\"fY\":0.927999997138977,\"fLineColor\":1,\"fLineStyle\":1,\"fLineWidth\":2,\"fLimitFactorSize\":3,\"fOriginSize\":0.04},{\"_typename\":\"TLatex\",\"fUniqueID\":0,\"fBits\":50348041,\"fName\":\"\",\"fTitle\":\"CMS\",\"fTextAngle\":0,\"fTextSize\":0.063,\"fTextAlign\":11,\"fTextColor\":1,\"fTextFont\":61,\"fX\":0.119999997317791,\"fY\":0.927999997138977,\"fLineColor\":1,\"fLineStyle\":1,\"fLineWidth\":2,\"fLimitFactorSize\":3,\"fOriginSize\":0.04},{\"_typename\":\"TLatex\",\"fUniqueID\":0,\"fBits\":50348041,\"fName\":\"\",\"fTitle\":\"Simulation Preliminary\",\"fTextAngle\":0,\"fTextSize\":0.0441,\"fTextAlign\":11,\"fTextColor\":1,\"fTextFont\":52,\"fX\":0.213599997460842,\"fY\":0.927999997138977,\"fLineColor\":1,\"fLineStyle\":1,\"fLineWidth\":2,\"fLimitFactorSize\":3,\"fOriginSize\":0.0441000014543533}],\"opt\":[\"\",\"hist\",\"\",\"\",\"\"]},\"fExecs\":null,\"fName\":\"cngoodEventsTTToSemiLeptonic\",\"fTitle\":\"cngoodEventsTTToSemiLeptonic\",\"fNumPaletteColor\":0,\"fNextPaletteColor\":0,\"fDISPLAY\":\"$DISPLAY\",\"fDoubleBuffer\":0,\"fRetained\":true,\"fXsizeUser\":0,\"fYsizeUser\":0,\"fXsizeReal\":20,\"fYsizeReal\":13.33333,\"fWindowTopX\":0,\"fWindowTopY\":0,\"fWindowWidth\":0,\"fWindowHeight\":0,\"fCw\":746,\"fCh\":472,\"fCatt\":{\"_typename\":\"TAttCanvas\",\"fXBetween\":2,\"fYBetween\":2,\"fTitleFromTop\":1.2,\"fXdate\":0.2,\"fYdate\":0.3,\"fAdate\":1},\"kMoveOpaque\":true,\"kResizeOpaque\":true,\"fHighLightColor\":2,\"fBatch\":true,\"kShowEventStatus\":false,\"kAutoExec\":true,\"kMenuBar\":true});\n",
       "       Core.draw(\"root_plot_18\", obj, \"\");\n",
       "     }\n",
       " );\n",
       "</script>\n"
      ],
      "text/plain": [
       "<IPython.core.display.HTML object>"
      ]
     },
     "metadata": {},
     "output_type": "display_data"
    },
    {
     "data": {
      "text/html": [
       "\n",
       "<div id=\"root_plot_19\"\n",
       "     style=\"width: 746px; height: 472px\">\n",
       "</div>\n",
       "\n",
       "<script>\n",
       " requirejs.config({\n",
       "     paths: {\n",
       "       'JSRootCore' : 'https://root.cern.ch/js/notebook//scripts/JSRootCore',\n",
       "     }\n",
       "   });\n",
       " require(['JSRootCore'],\n",
       "     function(Core) {\n",
       "       var obj = Core.JSONR_unref({\"_typename\":\"TCanvas\",\"fUniqueID\":0,\"fBits\":53673992,\"fLineColor\":1,\"fLineStyle\":1,\"fLineWidth\":1,\"fFillColor\":0,\"fFillStyle\":1001,\"fLeftMargin\":0.12,\"fRightMargin\":0.1,\"fBottomMargin\":0.12,\"fTopMargin\":0.09,\"fXfile\":2,\"fYfile\":2,\"fAfile\":1,\"fXstat\":0.99,\"fYstat\":0.99,\"fAstat\":2,\"fFrameFillColor\":0,\"fFrameLineColor\":1,\"fFrameFillStyle\":0,\"fFrameLineStyle\":1,\"fFrameLineWidth\":1,\"fFrameBorderSize\":1,\"fFrameBorderMode\":0,\"fX1\":-11.5384621336263,\"fY1\":-34.6101274799117,\"fX2\":334.615386400879,\"fY2\":253.807597221593,\"fXtoAbsPixelk\":24.8667177782933,\"fXtoPixelk\":24.8667177782933,\"fXtoPixel\":2.15511109628942,\"fYtoAbsPixelk\":415.360049155998,\"fYtoPixelk\":415.360049155998,\"fYtoPixel\":-1.63651523320382,\"fUtoAbsPixelk\":5e-5,\"fUtoPixelk\":5e-5,\"fUtoPixel\":746,\"fVtoAbsPixelk\":472.00005,\"fVtoPixelk\":472,\"fVtoPixel\":-472,\"fAbsPixeltoXk\":-11.5384621336263,\"fPixeltoXk\":-11.5384621336263,\"fPixeltoX\":0.464013201788881,\"fAbsPixeltoYk\":253.807597221593,\"fPixeltoYk\":-34.6101274799117,\"fPixeltoY\":-0.61105450148624,\"fXlowNDC\":0,\"fYlowNDC\":0,\"fXUpNDC\":0,\"fYUpNDC\":0,\"fWNDC\":1,\"fHNDC\":1,\"fAbsXlowNDC\":0,\"fAbsYlowNDC\":0,\"fAbsWNDC\":1,\"fAbsHNDC\":1,\"fUxmin\":30,\"fUymin\":0,\"fUxmax\":300,\"fUymax\":227.85,\"fTheta\":30,\"fPhi\":30,\"fAspectRatio\":0,\"fNumber\":0,\"fTickx\":1,\"fTicky\":1,\"fLogx\":0,\"fLogy\":0,\"fLogz\":0,\"fPadPaint\":0,\"fCrosshair\":0,\"fCrosshairPos\":0,\"fBorderSize\":2,\"fBorderMode\":0,\"fModified\":true,\"fGridx\":false,\"fGridy\":false,\"fAbsCoord\":false,\"fEditable\":true,\"fFixedAspectRatio\":false,\"fPrimitives\":{\"_typename\":\"TList\",\"name\":\"TList\",\"arr\":[{\"_typename\":\"TFrame\",\"fUniqueID\":0,\"fBits\":50331656,\"fLineColor\":1,\"fLineStyle\":1,\"fLineWidth\":1,\"fFillColor\":0,\"fFillStyle\":0,\"fX1\":30,\"fY1\":0,\"fX2\":300,\"fY2\":227.85,\"fBorderSize\":1,\"fBorderMode\":0},{\"_typename\":\"TH1F\",\"fUniqueID\":0,\"fBits\":50332168,\"fName\":\"TopCandMass\",\"fTitle\":\"ttHTobb TopCandMass\",\"fLineColor\":600,\"fLineStyle\":0,\"fLineWidth\":2,\"fFillColor\":0,\"fFillStyle\":1001,\"fMarkerColor\":1,\"fMarkerStyle\":1,\"fMarkerSize\":1,\"fNcells\":62,\"fXaxis\":{\"_typename\":\"TAxis\",\"fUniqueID\":0,\"fBits\":50333704,\"fName\":\"xaxis\",\"fTitle\":\"Top candidate mass [GeV]\",\"fNdivisions\":510,\"fAxisColor\":1,\"fLabelColor\":1,\"fLabelFont\":42,\"fLabelOffset\":0.007,\"fLabelSize\":0.05,\"fTickLength\":0.03,\"fTitleOffset\":0.9,\"fTitleSize\":0.06,\"fTitleColor\":1,\"fTitleFont\":42,\"fNbins\":60,\"fXmin\":0,\"fXmax\":300,\"fXbins\":[],\"fFirst\":7,\"fLast\":60,\"fBits2\":0,\"fTimeDisplay\":false,\"fTimeFormat\":\"\",\"fLabels\":null,\"fModLabs\":null},\"fYaxis\":{\"_typename\":\"TAxis\",\"fUniqueID\":0,\"fBits\":50331656,\"fName\":\"yaxis\",\"fTitle\":\"Events \\/ 5.0\",\"fNdivisions\":510,\"fAxisColor\":1,\"fLabelColor\":1,\"fLabelFont\":42,\"fLabelOffset\":0.007,\"fLabelSize\":0.05,\"fTickLength\":0.03,\"fTitleOffset\":0.9,\"fTitleSize\":0.06,\"fTitleColor\":1,\"fTitleFont\":42,\"fNbins\":1,\"fXmin\":0,\"fXmax\":1,\"fXbins\":[],\"fFirst\":0,\"fLast\":0,\"fBits2\":0,\"fTimeDisplay\":false,\"fTimeFormat\":\"\",\"fLabels\":null,\"fModLabs\":null},\"fZaxis\":{\"_typename\":\"TAxis\",\"fUniqueID\":0,\"fBits\":50331648,\"fName\":\"zaxis\",\"fTitle\":\"\",\"fNdivisions\":510,\"fAxisColor\":1,\"fLabelColor\":1,\"fLabelFont\":42,\"fLabelOffset\":0.007,\"fLabelSize\":0.05,\"fTickLength\":0.03,\"fTitleOffset\":1,\"fTitleSize\":0.06,\"fTitleColor\":1,\"fTitleFont\":42,\"fNbins\":1,\"fXmin\":0,\"fXmax\":1,\"fXbins\":[],\"fFirst\":0,\"fLast\":0,\"fBits2\":0,\"fTimeDisplay\":false,\"fTimeFormat\":\"\",\"fLabels\":null,\"fModLabs\":null},\"fBarOffset\":0,\"fBarWidth\":1000,\"fEntries\":125352,\"fTsumw\":4823,\"fTsumw2\":4823,\"fTsumwx\":684522.5,\"fTsumwx2\":106510943.75,\"fMaximum\":-1111,\"fMinimum\":-1111,\"fNormFactor\":0,\"fContour\":[],\"fSumw2\":[],\"fOption\":\"\",\"fFunctions\":{\"_typename\":\"TList\",\"name\":\"TList\",\"arr\":[],\"opt\":[]},\"fBufferSize\":0,\"fBuffer\":[],\"fBinStatErrOpt\":0,\"fStatOverflows\":2,\"fArray\":[119087,1376,3,5,3,2,10,10,6,14,14,21,18,30,33,53,100,129,136,158,195,179,200,167,189,196,157,182,185,178,170,182,197,210,217,217,184,177,131,128,78,69,54,37,24,21,17,24,27,14,12,18,6,9,10,11,10,2,5,8,4,43]},{\"_typename\":\"TLatex\",\"fUniqueID\":0,\"fBits\":50348041,\"fName\":\"\",\"fTitle\":\"\",\"fTextAngle\":0,\"fTextSize\":0.054,\"fTextAlign\":31,\"fTextColor\":1,\"fTextFont\":42,\"fX\":0.899999998509884,\"fY\":0.927999997138977,\"fLineColor\":1,\"fLineStyle\":1,\"fLineWidth\":2,\"fLimitFactorSize\":3,\"fOriginSize\":0.04},{\"_typename\":\"TLatex\",\"fUniqueID\":0,\"fBits\":50348041,\"fName\":\"\",\"fTitle\":\"CMS\",\"fTextAngle\":0,\"fTextSize\":0.063,\"fTextAlign\":11,\"fTextColor\":1,\"fTextFont\":61,\"fX\":0.119999997317791,\"fY\":0.927999997138977,\"fLineColor\":1,\"fLineStyle\":1,\"fLineWidth\":2,\"fLimitFactorSize\":3,\"fOriginSize\":0.04},{\"_typename\":\"TLatex\",\"fUniqueID\":0,\"fBits\":50348041,\"fName\":\"\",\"fTitle\":\"Simulation Preliminary\",\"fTextAngle\":0,\"fTextSize\":0.0441,\"fTextAlign\":11,\"fTextColor\":1,\"fTextFont\":52,\"fX\":0.213599997460842,\"fY\":0.927999997138977,\"fLineColor\":1,\"fLineStyle\":1,\"fLineWidth\":2,\"fLimitFactorSize\":3,\"fOriginSize\":0.0441000014543533}],\"opt\":[\"\",\"hist\",\"\",\"\",\"\"]},\"fExecs\":null,\"fName\":\"cTopCandMassttHTobb\",\"fTitle\":\"cTopCandMassttHTobb\",\"fNumPaletteColor\":0,\"fNextPaletteColor\":0,\"fDISPLAY\":\"$DISPLAY\",\"fDoubleBuffer\":0,\"fRetained\":true,\"fXsizeUser\":0,\"fYsizeUser\":0,\"fXsizeReal\":20,\"fYsizeReal\":13.33333,\"fWindowTopX\":0,\"fWindowTopY\":0,\"fWindowWidth\":0,\"fWindowHeight\":0,\"fCw\":746,\"fCh\":472,\"fCatt\":{\"_typename\":\"TAttCanvas\",\"fXBetween\":2,\"fYBetween\":2,\"fTitleFromTop\":1.2,\"fXdate\":0.2,\"fYdate\":0.3,\"fAdate\":1},\"kMoveOpaque\":true,\"kResizeOpaque\":true,\"fHighLightColor\":2,\"fBatch\":true,\"kShowEventStatus\":false,\"kAutoExec\":true,\"kMenuBar\":true});\n",
       "       Core.draw(\"root_plot_19\", obj, \"\");\n",
       "     }\n",
       " );\n",
       "</script>\n"
      ],
      "text/plain": [
       "<IPython.core.display.HTML object>"
      ]
     },
     "metadata": {},
     "output_type": "display_data"
    },
    {
     "data": {
      "text/html": [
       "\n",
       "<div id=\"root_plot_20\"\n",
       "     style=\"width: 746px; height: 472px\">\n",
       "</div>\n",
       "\n",
       "<script>\n",
       " requirejs.config({\n",
       "     paths: {\n",
       "       'JSRootCore' : 'https://root.cern.ch/js/notebook//scripts/JSRootCore',\n",
       "     }\n",
       "   });\n",
       " require(['JSRootCore'],\n",
       "     function(Core) {\n",
       "       var obj = Core.JSONR_unref({\"_typename\":\"TCanvas\",\"fUniqueID\":0,\"fBits\":53673992,\"fLineColor\":1,\"fLineStyle\":1,\"fLineWidth\":1,\"fFillColor\":0,\"fFillStyle\":1001,\"fLeftMargin\":0.12,\"fRightMargin\":0.1,\"fBottomMargin\":0.12,\"fTopMargin\":0.09,\"fXfile\":2,\"fYfile\":2,\"fAfile\":1,\"fXstat\":0.99,\"fYstat\":0.99,\"fAstat\":2,\"fFrameFillColor\":0,\"fFrameLineColor\":1,\"fFrameFillStyle\":0,\"fFrameLineStyle\":1,\"fFrameLineWidth\":1,\"fFrameBorderSize\":1,\"fFrameBorderMode\":0,\"fX1\":-11.5384621336263,\"fY1\":-227.278486907254,\"fX2\":334.615386400879,\"fY2\":1666.70887576392,\"fXtoAbsPixelk\":24.8667177782933,\"fXtoPixelk\":24.8667177782933,\"fXtoPixel\":2.15511109628942,\"fYtoAbsPixelk\":415.360049155998,\"fYtoPixelk\":415.360049155998,\"fYtoPixel\":-0.249209688144021,\"fUtoAbsPixelk\":5e-5,\"fUtoPixelk\":5e-5,\"fUtoPixel\":746,\"fVtoAbsPixelk\":472.00005,\"fVtoPixelk\":472,\"fVtoPixel\":-472,\"fAbsPixeltoXk\":-11.5384621336263,\"fPixeltoXk\":-11.5384621336263,\"fPixeltoX\":0.464013201788881,\"fAbsPixeltoYk\":1666.70887576392,\"fPixeltoYk\":-227.278486907254,\"fPixeltoY\":-4.01268509040503,\"fXlowNDC\":0,\"fYlowNDC\":0,\"fXUpNDC\":0,\"fYUpNDC\":0,\"fWNDC\":1,\"fHNDC\":1,\"fAbsXlowNDC\":0,\"fAbsYlowNDC\":0,\"fAbsWNDC\":1,\"fAbsHNDC\":1,\"fUxmin\":30,\"fUymin\":0,\"fUxmax\":300,\"fUymax\":1496.25,\"fTheta\":30,\"fPhi\":30,\"fAspectRatio\":0,\"fNumber\":0,\"fTickx\":1,\"fTicky\":1,\"fLogx\":0,\"fLogy\":0,\"fLogz\":0,\"fPadPaint\":0,\"fCrosshair\":0,\"fCrosshairPos\":0,\"fBorderSize\":2,\"fBorderMode\":0,\"fModified\":true,\"fGridx\":false,\"fGridy\":false,\"fAbsCoord\":false,\"fEditable\":true,\"fFixedAspectRatio\":false,\"fPrimitives\":{\"_typename\":\"TList\",\"name\":\"TList\",\"arr\":[{\"_typename\":\"TFrame\",\"fUniqueID\":0,\"fBits\":50331656,\"fLineColor\":1,\"fLineStyle\":1,\"fLineWidth\":1,\"fFillColor\":0,\"fFillStyle\":0,\"fX1\":30,\"fY1\":0,\"fX2\":300,\"fY2\":1496.25,\"fBorderSize\":1,\"fBorderMode\":0},{\"_typename\":\"TH1F\",\"fUniqueID\":0,\"fBits\":50332168,\"fName\":\"TopCandMass\",\"fTitle\":\"TTToSemiLeptonic TopCandMass\",\"fLineColor\":600,\"fLineStyle\":0,\"fLineWidth\":2,\"fFillColor\":0,\"fFillStyle\":1001,\"fMarkerColor\":1,\"fMarkerStyle\":1,\"fMarkerSize\":1,\"fNcells\":62,\"fXaxis\":{\"_typename\":\"TAxis\",\"fUniqueID\":0,\"fBits\":50333704,\"fName\":\"xaxis\",\"fTitle\":\"Top candidate mass [GeV]\",\"fNdivisions\":510,\"fAxisColor\":1,\"fLabelColor\":1,\"fLabelFont\":42,\"fLabelOffset\":0.007,\"fLabelSize\":0.05,\"fTickLength\":0.03,\"fTitleOffset\":0.9,\"fTitleSize\":0.06,\"fTitleColor\":1,\"fTitleFont\":42,\"fNbins\":60,\"fXmin\":0,\"fXmax\":300,\"fXbins\":[],\"fFirst\":7,\"fLast\":60,\"fBits2\":0,\"fTimeDisplay\":false,\"fTimeFormat\":\"\",\"fLabels\":null,\"fModLabs\":null},\"fYaxis\":{\"_typename\":\"TAxis\",\"fUniqueID\":0,\"fBits\":50331656,\"fName\":\"yaxis\",\"fTitle\":\"Events \\/ 5.0\",\"fNdivisions\":510,\"fAxisColor\":1,\"fLabelColor\":1,\"fLabelFont\":42,\"fLabelOffset\":0.007,\"fLabelSize\":0.05,\"fTickLength\":0.03,\"fTitleOffset\":0.9,\"fTitleSize\":0.06,\"fTitleColor\":1,\"fTitleFont\":42,\"fNbins\":1,\"fXmin\":0,\"fXmax\":1,\"fXbins\":[],\"fFirst\":0,\"fLast\":0,\"fBits2\":0,\"fTimeDisplay\":false,\"fTimeFormat\":\"\",\"fLabels\":null,\"fModLabs\":null},\"fZaxis\":{\"_typename\":\"TAxis\",\"fUniqueID\":0,\"fBits\":50331648,\"fName\":\"zaxis\",\"fTitle\":\"\",\"fNdivisions\":510,\"fAxisColor\":1,\"fLabelColor\":1,\"fLabelFont\":42,\"fLabelOffset\":0.007,\"fLabelSize\":0.05,\"fTickLength\":0.03,\"fTitleOffset\":1,\"fTitleSize\":0.06,\"fTitleColor\":1,\"fTitleFont\":42,\"fNbins\":1,\"fXmin\":0,\"fXmax\":1,\"fXbins\":[],\"fFirst\":0,\"fLast\":0,\"fBits2\":0,\"fTimeDisplay\":false,\"fTimeFormat\":\"\",\"fLabels\":null,\"fModLabs\":null},\"fBarOffset\":0,\"fBarWidth\":1000,\"fEntries\":829249,\"fTsumw\":23889,\"fTsumw2\":23889,\"fTsumwx\":3459522.5,\"fTsumwx2\":539180156.25,\"fMaximum\":-1111,\"fMinimum\":-1111,\"fNormFactor\":0,\"fContour\":[],\"fSumw2\":[],\"fOption\":\"\",\"fFunctions\":{\"_typename\":\"TList\",\"name\":\"TList\",\"arr\":[],\"opt\":[]},\"fBufferSize\":0,\"fBuffer\":[],\"fBinStatErrOpt\":0,\"fStatOverflows\":2,\"fArray\":[795615,9633,23,6,8,11,15,20,24,32,37,55,79,108,153,251,408,591,748,756,763,765,798,786,692,729,749,748,781,854,916,970,1149,1230,1371,1425,1419,1209,956,668,467,308,185,123,98,62,64,57,46,45,34,33,21,17,17,20,13,10,12,11,6,49]},{\"_typename\":\"TLatex\",\"fUniqueID\":0,\"fBits\":50348041,\"fName\":\"\",\"fTitle\":\"\",\"fTextAngle\":0,\"fTextSize\":0.054,\"fTextAlign\":31,\"fTextColor\":1,\"fTextFont\":42,\"fX\":0.899999998509884,\"fY\":0.927999997138977,\"fLineColor\":1,\"fLineStyle\":1,\"fLineWidth\":2,\"fLimitFactorSize\":3,\"fOriginSize\":0.04},{\"_typename\":\"TLatex\",\"fUniqueID\":0,\"fBits\":50348041,\"fName\":\"\",\"fTitle\":\"CMS\",\"fTextAngle\":0,\"fTextSize\":0.063,\"fTextAlign\":11,\"fTextColor\":1,\"fTextFont\":61,\"fX\":0.119999997317791,\"fY\":0.927999997138977,\"fLineColor\":1,\"fLineStyle\":1,\"fLineWidth\":2,\"fLimitFactorSize\":3,\"fOriginSize\":0.04},{\"_typename\":\"TLatex\",\"fUniqueID\":0,\"fBits\":50348041,\"fName\":\"\",\"fTitle\":\"Simulation Preliminary\",\"fTextAngle\":0,\"fTextSize\":0.0441,\"fTextAlign\":11,\"fTextColor\":1,\"fTextFont\":52,\"fX\":0.213599997460842,\"fY\":0.927999997138977,\"fLineColor\":1,\"fLineStyle\":1,\"fLineWidth\":2,\"fLimitFactorSize\":3,\"fOriginSize\":0.0441000014543533}],\"opt\":[\"\",\"hist\",\"\",\"\",\"\"]},\"fExecs\":null,\"fName\":\"cTopCandMassTTToSemiLeptonic\",\"fTitle\":\"cTopCandMassTTToSemiLeptonic\",\"fNumPaletteColor\":0,\"fNextPaletteColor\":0,\"fDISPLAY\":\"$DISPLAY\",\"fDoubleBuffer\":0,\"fRetained\":true,\"fXsizeUser\":0,\"fYsizeUser\":0,\"fXsizeReal\":20,\"fYsizeReal\":13.33333,\"fWindowTopX\":0,\"fWindowTopY\":0,\"fWindowWidth\":0,\"fWindowHeight\":0,\"fCw\":746,\"fCh\":472,\"fCatt\":{\"_typename\":\"TAttCanvas\",\"fXBetween\":2,\"fYBetween\":2,\"fTitleFromTop\":1.2,\"fXdate\":0.2,\"fYdate\":0.3,\"fAdate\":1},\"kMoveOpaque\":true,\"kResizeOpaque\":true,\"fHighLightColor\":2,\"fBatch\":true,\"kShowEventStatus\":false,\"kAutoExec\":true,\"kMenuBar\":true});\n",
       "       Core.draw(\"root_plot_20\", obj, \"\");\n",
       "     }\n",
       " );\n",
       "</script>\n"
      ],
      "text/plain": [
       "<IPython.core.display.HTML object>"
      ]
     },
     "metadata": {},
     "output_type": "display_data"
    },
    {
     "data": {
      "text/html": [
       "\n",
       "<div id=\"root_plot_21\"\n",
       "     style=\"width: 746px; height: 472px\">\n",
       "</div>\n",
       "\n",
       "<script>\n",
       " requirejs.config({\n",
       "     paths: {\n",
       "       'JSRootCore' : 'https://root.cern.ch/js/notebook//scripts/JSRootCore',\n",
       "     }\n",
       "   });\n",
       " require(['JSRootCore'],\n",
       "     function(Core) {\n",
       "       var obj = Core.JSONR_unref({\"_typename\":\"TCanvas\",\"fUniqueID\":0,\"fBits\":53673992,\"fLineColor\":1,\"fLineStyle\":1,\"fLineWidth\":1,\"fFillColor\":0,\"fFillStyle\":1001,\"fLeftMargin\":0.12,\"fRightMargin\":0.1,\"fBottomMargin\":0.12,\"fTopMargin\":0.09,\"fXfile\":2,\"fYfile\":2,\"fAfile\":1,\"fXstat\":0.99,\"fYstat\":0.99,\"fAstat\":2,\"fFrameFillColor\":0,\"fFrameLineColor\":1,\"fFrameFillStyle\":0,\"fFrameLineStyle\":1,\"fFrameLineWidth\":1,\"fFrameBorderSize\":1,\"fFrameBorderMode\":0,\"fX1\":-3.84615433110289,\"fY1\":-188.043042851686,\"fX2\":278.205129659975,\"fY2\":1378.9822908952,\"fXtoAbsPixelk\":10.1727784854109,\"fXtoPixelk\":10.1727784854109,\"fXtoPixel\":2.64490907271884,\"fYtoAbsPixelk\":415.360049155998,\"fYtoPixelk\":415.360049155998,\"fYtoPixel\":-0.30120763834201,\"fUtoAbsPixelk\":5e-5,\"fUtoPixelk\":5e-5,\"fUtoPixel\":746,\"fVtoAbsPixelk\":472.00005,\"fVtoPixelk\":472,\"fVtoPixel\":-472,\"fAbsPixeltoXk\":-3.84615433110289,\"fPixeltoXk\":-3.84615433110289,\"fPixeltoX\":0.378084831087236,\"fAbsPixeltoYk\":1378.9822908952,\"fPixeltoYk\":-188.043042851686,\"fPixeltoY\":-3.31996892742985,\"fXlowNDC\":0,\"fYlowNDC\":0,\"fXUpNDC\":0,\"fYUpNDC\":0,\"fWNDC\":1,\"fHNDC\":1,\"fAbsXlowNDC\":0,\"fAbsYlowNDC\":0,\"fAbsWNDC\":1,\"fAbsHNDC\":1,\"fUxmin\":30,\"fUymin\":0,\"fUxmax\":250,\"fUymax\":1237.95,\"fTheta\":30,\"fPhi\":30,\"fAspectRatio\":0,\"fNumber\":0,\"fTickx\":1,\"fTicky\":1,\"fLogx\":0,\"fLogy\":0,\"fLogz\":0,\"fPadPaint\":0,\"fCrosshair\":0,\"fCrosshairPos\":0,\"fBorderSize\":2,\"fBorderMode\":0,\"fModified\":true,\"fGridx\":false,\"fGridy\":false,\"fAbsCoord\":false,\"fEditable\":true,\"fFixedAspectRatio\":false,\"fPrimitives\":{\"_typename\":\"TList\",\"name\":\"TList\",\"arr\":[{\"_typename\":\"TFrame\",\"fUniqueID\":0,\"fBits\":50331656,\"fLineColor\":1,\"fLineStyle\":1,\"fLineWidth\":1,\"fFillColor\":0,\"fFillStyle\":0,\"fX1\":30,\"fY1\":0,\"fX2\":250,\"fY2\":1237.95,\"fBorderSize\":1,\"fBorderMode\":0},{\"_typename\":\"TH1F\",\"fUniqueID\":0,\"fBits\":50332168,\"fName\":\"HiggsCandMass\",\"fTitle\":\"ttHTobb HiggsCandMass\",\"fLineColor\":600,\"fLineStyle\":0,\"fLineWidth\":2,\"fFillColor\":0,\"fFillStyle\":1001,\"fMarkerColor\":1,\"fMarkerStyle\":1,\"fMarkerSize\":1,\"fNcells\":62,\"fXaxis\":{\"_typename\":\"TAxis\",\"fUniqueID\":0,\"fBits\":50333704,\"fName\":\"xaxis\",\"fTitle\":\"Higgs candidate mass [GeV]\",\"fNdivisions\":510,\"fAxisColor\":1,\"fLabelColor\":1,\"fLabelFont\":42,\"fLabelOffset\":0.007,\"fLabelSize\":0.05,\"fTickLength\":0.03,\"fTitleOffset\":0.9,\"fTitleSize\":0.06,\"fTitleColor\":1,\"fTitleFont\":42,\"fNbins\":60,\"fXmin\":0,\"fXmax\":300,\"fXbins\":[],\"fFirst\":7,\"fLast\":50,\"fBits2\":0,\"fTimeDisplay\":false,\"fTimeFormat\":\"\",\"fLabels\":null,\"fModLabs\":null},\"fYaxis\":{\"_typename\":\"TAxis\",\"fUniqueID\":0,\"fBits\":50331656,\"fName\":\"yaxis\",\"fTitle\":\"Events \\/ 5.0\",\"fNdivisions\":510,\"fAxisColor\":1,\"fLabelColor\":1,\"fLabelFont\":42,\"fLabelOffset\":0.007,\"fLabelSize\":0.05,\"fTickLength\":0.03,\"fTitleOffset\":0.9,\"fTitleSize\":0.06,\"fTitleColor\":1,\"fTitleFont\":42,\"fNbins\":1,\"fXmin\":0,\"fXmax\":1,\"fXbins\":[],\"fFirst\":0,\"fLast\":0,\"fBits2\":0,\"fTimeDisplay\":false,\"fTimeFormat\":\"\",\"fLabels\":null,\"fModLabs\":null},\"fZaxis\":{\"_typename\":\"TAxis\",\"fUniqueID\":0,\"fBits\":50331648,\"fName\":\"zaxis\",\"fTitle\":\"\",\"fNdivisions\":510,\"fAxisColor\":1,\"fLabelColor\":1,\"fLabelFont\":42,\"fLabelOffset\":0.007,\"fLabelSize\":0.05,\"fTickLength\":0.03,\"fTitleOffset\":1,\"fTitleSize\":0.06,\"fTitleColor\":1,\"fTitleFont\":42,\"fNbins\":1,\"fXmin\":0,\"fXmax\":1,\"fXbins\":[],\"fFirst\":0,\"fLast\":0,\"fBits2\":0,\"fTimeDisplay\":false,\"fTimeFormat\":\"\",\"fLabels\":null,\"fModLabs\":null},\"fBarOffset\":0,\"fBarWidth\":1000,\"fEntries\":125352,\"fTsumw\":17911,\"fTsumw2\":17911,\"fTsumwx\":1740332.5,\"fTsumwx2\":188307893.75,\"fMaximum\":-1111,\"fMinimum\":-1111,\"fNormFactor\":0,\"fContour\":[],\"fSumw2\":[],\"fOption\":\"\",\"fFunctions\":{\"_typename\":\"TList\",\"name\":\"TList\",\"arr\":[],\"opt\":[]},\"fBufferSize\":0,\"fBuffer\":[],\"fBinStatErrOpt\":0,\"fStatOverflows\":2,\"fArray\":[107229,72,22,3,5,17,38,87,177,340,397,459,607,765,913,985,1131,1133,1179,1087,1033,904,862,850,846,778,698,605,440,358,237,181,154,130,105,82,68,74,52,29,36,24,31,15,10,8,8,7,15,7,4,5,3,5,3,3,3,2,3,1,2,25]},{\"_typename\":\"TLatex\",\"fUniqueID\":0,\"fBits\":50348041,\"fName\":\"\",\"fTitle\":\"\",\"fTextAngle\":0,\"fTextSize\":0.054,\"fTextAlign\":31,\"fTextColor\":1,\"fTextFont\":42,\"fX\":0.899999998509884,\"fY\":0.927999997138977,\"fLineColor\":1,\"fLineStyle\":1,\"fLineWidth\":2,\"fLimitFactorSize\":3,\"fOriginSize\":0.04},{\"_typename\":\"TLatex\",\"fUniqueID\":0,\"fBits\":50348041,\"fName\":\"\",\"fTitle\":\"CMS\",\"fTextAngle\":0,\"fTextSize\":0.063,\"fTextAlign\":11,\"fTextColor\":1,\"fTextFont\":61,\"fX\":0.119999997317791,\"fY\":0.927999997138977,\"fLineColor\":1,\"fLineStyle\":1,\"fLineWidth\":2,\"fLimitFactorSize\":3,\"fOriginSize\":0.04},{\"_typename\":\"TLatex\",\"fUniqueID\":0,\"fBits\":50348041,\"fName\":\"\",\"fTitle\":\"Simulation Preliminary\",\"fTextAngle\":0,\"fTextSize\":0.0441,\"fTextAlign\":11,\"fTextColor\":1,\"fTextFont\":52,\"fX\":0.213599997460842,\"fY\":0.927999997138977,\"fLineColor\":1,\"fLineStyle\":1,\"fLineWidth\":2,\"fLimitFactorSize\":3,\"fOriginSize\":0.0441000014543533}],\"opt\":[\"\",\"hist\",\"\",\"\",\"\"]},\"fExecs\":null,\"fName\":\"cHiggsCandMassttHTobb\",\"fTitle\":\"cHiggsCandMassttHTobb\",\"fNumPaletteColor\":0,\"fNextPaletteColor\":0,\"fDISPLAY\":\"$DISPLAY\",\"fDoubleBuffer\":0,\"fRetained\":true,\"fXsizeUser\":0,\"fYsizeUser\":0,\"fXsizeReal\":20,\"fYsizeReal\":13.33333,\"fWindowTopX\":0,\"fWindowTopY\":0,\"fWindowWidth\":0,\"fWindowHeight\":0,\"fCw\":746,\"fCh\":472,\"fCatt\":{\"_typename\":\"TAttCanvas\",\"fXBetween\":2,\"fYBetween\":2,\"fTitleFromTop\":1.2,\"fXdate\":0.2,\"fYdate\":0.3,\"fAdate\":1},\"kMoveOpaque\":true,\"kResizeOpaque\":true,\"fHighLightColor\":2,\"fBatch\":true,\"kShowEventStatus\":false,\"kAutoExec\":true,\"kMenuBar\":true});\n",
       "       Core.draw(\"root_plot_21\", obj, \"\");\n",
       "     }\n",
       " );\n",
       "</script>\n"
      ],
      "text/plain": [
       "<IPython.core.display.HTML object>"
      ]
     },
     "metadata": {},
     "output_type": "display_data"
    },
    {
     "data": {
      "text/html": [
       "\n",
       "<div id=\"root_plot_22\"\n",
       "     style=\"width: 746px; height: 472px\">\n",
       "</div>\n",
       "\n",
       "<script>\n",
       " requirejs.config({\n",
       "     paths: {\n",
       "       'JSRootCore' : 'https://root.cern.ch/js/notebook//scripts/JSRootCore',\n",
       "     }\n",
       "   });\n",
       " require(['JSRootCore'],\n",
       "     function(Core) {\n",
       "       var obj = Core.JSONR_unref({\"_typename\":\"TCanvas\",\"fUniqueID\":0,\"fBits\":53673992,\"fLineColor\":1,\"fLineStyle\":1,\"fLineWidth\":1,\"fFillColor\":0,\"fFillStyle\":1001,\"fLeftMargin\":0.12,\"fRightMargin\":0.1,\"fBottomMargin\":0.12,\"fTopMargin\":0.09,\"fXfile\":2,\"fYfile\":2,\"fAfile\":1,\"fXstat\":0.99,\"fYstat\":0.99,\"fAstat\":2,\"fFrameFillColor\":0,\"fFrameLineColor\":1,\"fFrameFillStyle\":0,\"fFrameLineStyle\":1,\"fFrameLineWidth\":1,\"fFrameBorderSize\":1,\"fFrameBorderMode\":0,\"fX1\":-3.84615433110289,\"fY1\":-1203.69876539582,\"fX2\":278.205129659975,\"fY2\":8827.12413009846,\"fXtoAbsPixelk\":10.1727784854109,\"fXtoPixelk\":10.1727784854109,\"fXtoPixel\":2.64490907271884,\"fYtoAbsPixelk\":415.360049155998,\"fYtoPixelk\":415.360049155998,\"fYtoPixel\":-0.04705496297936,\"fUtoAbsPixelk\":5e-5,\"fUtoPixelk\":5e-5,\"fUtoPixel\":746,\"fVtoAbsPixelk\":472.00005,\"fVtoPixelk\":472,\"fVtoPixel\":-472,\"fAbsPixeltoXk\":-3.84615433110289,\"fPixeltoXk\":-3.84615433110289,\"fPixeltoX\":0.378084831087236,\"fAbsPixeltoYk\":8827.12413009846,\"fPixeltoYk\":-1203.69876539582,\"fPixeltoY\":-21.2517434226574,\"fXlowNDC\":0,\"fYlowNDC\":0,\"fXUpNDC\":0,\"fYUpNDC\":0,\"fWNDC\":1,\"fHNDC\":1,\"fAbsXlowNDC\":0,\"fAbsYlowNDC\":0,\"fAbsWNDC\":1,\"fAbsHNDC\":1,\"fUxmin\":30,\"fUymin\":0,\"fUxmax\":250,\"fUymax\":7924.35,\"fTheta\":30,\"fPhi\":30,\"fAspectRatio\":0,\"fNumber\":0,\"fTickx\":1,\"fTicky\":1,\"fLogx\":0,\"fLogy\":0,\"fLogz\":0,\"fPadPaint\":0,\"fCrosshair\":0,\"fCrosshairPos\":0,\"fBorderSize\":2,\"fBorderMode\":0,\"fModified\":true,\"fGridx\":false,\"fGridy\":false,\"fAbsCoord\":false,\"fEditable\":true,\"fFixedAspectRatio\":false,\"fPrimitives\":{\"_typename\":\"TList\",\"name\":\"TList\",\"arr\":[{\"_typename\":\"TFrame\",\"fUniqueID\":0,\"fBits\":50331656,\"fLineColor\":1,\"fLineStyle\":1,\"fLineWidth\":1,\"fFillColor\":0,\"fFillStyle\":0,\"fX1\":30,\"fY1\":0,\"fX2\":250,\"fY2\":7924.35,\"fBorderSize\":1,\"fBorderMode\":0},{\"_typename\":\"TH1F\",\"fUniqueID\":0,\"fBits\":50332168,\"fName\":\"HiggsCandMass\",\"fTitle\":\"TTToSemiLeptonic HiggsCandMass\",\"fLineColor\":600,\"fLineStyle\":0,\"fLineWidth\":2,\"fFillColor\":0,\"fFillStyle\":1001,\"fMarkerColor\":1,\"fMarkerStyle\":1,\"fMarkerSize\":1,\"fNcells\":62,\"fXaxis\":{\"_typename\":\"TAxis\",\"fUniqueID\":0,\"fBits\":50333704,\"fName\":\"xaxis\",\"fTitle\":\"Higgs candidate mass [GeV]\",\"fNdivisions\":510,\"fAxisColor\":1,\"fLabelColor\":1,\"fLabelFont\":42,\"fLabelOffset\":0.007,\"fLabelSize\":0.05,\"fTickLength\":0.03,\"fTitleOffset\":0.9,\"fTitleSize\":0.06,\"fTitleColor\":1,\"fTitleFont\":42,\"fNbins\":60,\"fXmin\":0,\"fXmax\":300,\"fXbins\":[],\"fFirst\":7,\"fLast\":50,\"fBits2\":0,\"fTimeDisplay\":false,\"fTimeFormat\":\"\",\"fLabels\":null,\"fModLabs\":null},\"fYaxis\":{\"_typename\":\"TAxis\",\"fUniqueID\":0,\"fBits\":50331656,\"fName\":\"yaxis\",\"fTitle\":\"Events \\/ 5.0\",\"fNdivisions\":510,\"fAxisColor\":1,\"fLabelColor\":1,\"fLabelFont\":42,\"fLabelOffset\":0.007,\"fLabelSize\":0.05,\"fTickLength\":0.03,\"fTitleOffset\":0.9,\"fTitleSize\":0.06,\"fTitleColor\":1,\"fTitleFont\":42,\"fNbins\":1,\"fXmin\":0,\"fXmax\":1,\"fXbins\":[],\"fFirst\":0,\"fLast\":0,\"fBits2\":0,\"fTimeDisplay\":false,\"fTimeFormat\":\"\",\"fLabels\":null,\"fModLabs\":null},\"fZaxis\":{\"_typename\":\"TAxis\",\"fUniqueID\":0,\"fBits\":50331648,\"fName\":\"zaxis\",\"fTitle\":\"\",\"fNdivisions\":510,\"fAxisColor\":1,\"fLabelColor\":1,\"fLabelFont\":42,\"fLabelOffset\":0.007,\"fLabelSize\":0.05,\"fTickLength\":0.03,\"fTitleOffset\":1,\"fTitleSize\":0.06,\"fTitleColor\":1,\"fTitleFont\":42,\"fNbins\":1,\"fXmin\":0,\"fXmax\":1,\"fXbins\":[],\"fFirst\":0,\"fLast\":0,\"fBits2\":0,\"fTimeDisplay\":false,\"fTimeFormat\":\"\",\"fLabels\":null,\"fModLabs\":null},\"fBarOffset\":0,\"fBarWidth\":1000,\"fEntries\":829249,\"fTsumw\":89511,\"fTsumw2\":89511,\"fTsumwx\":8394902.5,\"fTsumwx2\":861403243.75,\"fMaximum\":-1111,\"fMinimum\":-1111,\"fNormFactor\":0,\"fContour\":[],\"fSumw2\":[],\"fOption\":\"\",\"fFunctions\":{\"_typename\":\"TList\",\"name\":\"TList\",\"arr\":[],\"opt\":[]},\"fBufferSize\":0,\"fBuffer\":[],\"fBinStatErrOpt\":0,\"fStatOverflows\":2,\"fArray\":[739308,217,56,3,7,12,62,142,419,756,1430,2112,3112,4063,5240,6284,7284,7467,7547,6685,5825,5014,4335,3746,3212,2746,2300,1888,1575,1258,997,784,631,527,469,379,333,261,204,153,92,72,49,28,19,23,16,13,9,7,5,8,5,3,4,7,5,2,0,1,8,30]},{\"_typename\":\"TLatex\",\"fUniqueID\":0,\"fBits\":50348041,\"fName\":\"\",\"fTitle\":\"\",\"fTextAngle\":0,\"fTextSize\":0.054,\"fTextAlign\":31,\"fTextColor\":1,\"fTextFont\":42,\"fX\":0.899999998509884,\"fY\":0.927999997138977,\"fLineColor\":1,\"fLineStyle\":1,\"fLineWidth\":2,\"fLimitFactorSize\":3,\"fOriginSize\":0.04},{\"_typename\":\"TLatex\",\"fUniqueID\":0,\"fBits\":50348041,\"fName\":\"\",\"fTitle\":\"CMS\",\"fTextAngle\":0,\"fTextSize\":0.063,\"fTextAlign\":11,\"fTextColor\":1,\"fTextFont\":61,\"fX\":0.119999997317791,\"fY\":0.927999997138977,\"fLineColor\":1,\"fLineStyle\":1,\"fLineWidth\":2,\"fLimitFactorSize\":3,\"fOriginSize\":0.04},{\"_typename\":\"TLatex\",\"fUniqueID\":0,\"fBits\":50348041,\"fName\":\"\",\"fTitle\":\"Simulation Preliminary\",\"fTextAngle\":0,\"fTextSize\":0.0441,\"fTextAlign\":11,\"fTextColor\":1,\"fTextFont\":52,\"fX\":0.213599997460842,\"fY\":0.927999997138977,\"fLineColor\":1,\"fLineStyle\":1,\"fLineWidth\":2,\"fLimitFactorSize\":3,\"fOriginSize\":0.0441000014543533}],\"opt\":[\"\",\"hist\",\"\",\"\",\"\"]},\"fExecs\":null,\"fName\":\"cHiggsCandMassTTToSemiLeptonic\",\"fTitle\":\"cHiggsCandMassTTToSemiLeptonic\",\"fNumPaletteColor\":0,\"fNextPaletteColor\":0,\"fDISPLAY\":\"$DISPLAY\",\"fDoubleBuffer\":0,\"fRetained\":true,\"fXsizeUser\":0,\"fYsizeUser\":0,\"fXsizeReal\":20,\"fYsizeReal\":13.33333,\"fWindowTopX\":0,\"fWindowTopY\":0,\"fWindowWidth\":0,\"fWindowHeight\":0,\"fCw\":746,\"fCh\":472,\"fCatt\":{\"_typename\":\"TAttCanvas\",\"fXBetween\":2,\"fYBetween\":2,\"fTitleFromTop\":1.2,\"fXdate\":0.2,\"fYdate\":0.3,\"fAdate\":1},\"kMoveOpaque\":true,\"kResizeOpaque\":true,\"fHighLightColor\":2,\"fBatch\":true,\"kShowEventStatus\":false,\"kAutoExec\":true,\"kMenuBar\":true});\n",
       "       Core.draw(\"root_plot_22\", obj, \"\");\n",
       "     }\n",
       " );\n",
       "</script>\n"
      ],
      "text/plain": [
       "<IPython.core.display.HTML object>"
      ]
     },
     "metadata": {},
     "output_type": "display_data"
    },
    {
     "data": {
      "text/html": [
       "\n",
       "<div id=\"root_plot_23\"\n",
       "     style=\"width: 746px; height: 472px\">\n",
       "</div>\n",
       "\n",
       "<script>\n",
       " requirejs.config({\n",
       "     paths: {\n",
       "       'JSRootCore' : 'https://root.cern.ch/js/notebook//scripts/JSRootCore',\n",
       "     }\n",
       "   });\n",
       " require(['JSRootCore'],\n",
       "     function(Core) {\n",
       "       var obj = Core.JSONR_unref({\"_typename\":\"TCanvas\",\"fUniqueID\":0,\"fBits\":53673992,\"fLineColor\":1,\"fLineStyle\":1,\"fLineWidth\":1,\"fFillColor\":0,\"fFillStyle\":1001,\"fLeftMargin\":0.12,\"fRightMargin\":0.1,\"fBottomMargin\":0.12,\"fTopMargin\":0.09,\"fXfile\":2,\"fYfile\":2,\"fAfile\":1,\"fXstat\":0.99,\"fYstat\":0.99,\"fAstat\":2,\"fFrameFillColor\":0,\"fFrameLineColor\":1,\"fFrameFillStyle\":0,\"fFrameLineStyle\":1,\"fFrameLineWidth\":1,\"fFrameBorderSize\":1,\"fFrameBorderMode\":0,\"fX1\":3.84615347142049,\"fY1\":-723.463309902671,\"fX2\":221.794872919072,\"fY2\":5305.39751611589,\"fXtoAbsPixelk\":-13.1646545091671,\"fXtoPixelk\":-13.1646545091671,\"fXtoPixel\":3.42282350587144,\"fYtoAbsPixelk\":415.360049155998,\"fYtoPixelk\":415.360049155998,\"fYtoPixel\":-0.0782900806008002,\"fUtoAbsPixelk\":5e-5,\"fUtoPixelk\":5e-5,\"fUtoPixel\":746,\"fVtoAbsPixelk\":472.00005,\"fVtoPixelk\":472,\"fVtoPixel\":-472,\"fAbsPixeltoXk\":3.84615347142049,\"fPixeltoXk\":3.84615347142049,\"fPixeltoX\":0.292156460385592,\"fAbsPixeltoYk\":5305.39751611589,\"fPixeltoYk\":-723.463309902671,\"fPixeltoY\":-12.7730102246156,\"fXlowNDC\":0,\"fYlowNDC\":0,\"fXUpNDC\":0,\"fYUpNDC\":0,\"fWNDC\":1,\"fHNDC\":1,\"fAbsXlowNDC\":0,\"fAbsYlowNDC\":0,\"fAbsWNDC\":1,\"fAbsHNDC\":1,\"fUxmin\":30,\"fUymin\":0,\"fUxmax\":200,\"fUymax\":4762.8,\"fTheta\":30,\"fPhi\":30,\"fAspectRatio\":0,\"fNumber\":0,\"fTickx\":1,\"fTicky\":1,\"fLogx\":0,\"fLogy\":0,\"fLogz\":0,\"fPadPaint\":0,\"fCrosshair\":0,\"fCrosshairPos\":0,\"fBorderSize\":2,\"fBorderMode\":0,\"fModified\":true,\"fGridx\":false,\"fGridy\":false,\"fAbsCoord\":false,\"fEditable\":true,\"fFixedAspectRatio\":false,\"fPrimitives\":{\"_typename\":\"TList\",\"name\":\"TList\",\"arr\":[{\"_typename\":\"TFrame\",\"fUniqueID\":0,\"fBits\":50331656,\"fLineColor\":1,\"fLineStyle\":1,\"fLineWidth\":1,\"fFillColor\":0,\"fFillStyle\":0,\"fX1\":30,\"fY1\":0,\"fX2\":200,\"fY2\":4762.8,\"fBorderSize\":1,\"fBorderMode\":0},{\"_typename\":\"TH1F\",\"fUniqueID\":0,\"fBits\":50332168,\"fName\":\"WCandMass\",\"fTitle\":\"ttHTobb WCandMass\",\"fLineColor\":600,\"fLineStyle\":0,\"fLineWidth\":2,\"fFillColor\":0,\"fFillStyle\":1001,\"fMarkerColor\":1,\"fMarkerStyle\":1,\"fMarkerSize\":1,\"fNcells\":62,\"fXaxis\":{\"_typename\":\"TAxis\",\"fUniqueID\":0,\"fBits\":50333704,\"fName\":\"xaxis\",\"fTitle\":\"W candidate mass [GeV]\",\"fNdivisions\":510,\"fAxisColor\":1,\"fLabelColor\":1,\"fLabelFont\":42,\"fLabelOffset\":0.007,\"fLabelSize\":0.05,\"fTickLength\":0.03,\"fTitleOffset\":0.9,\"fTitleSize\":0.06,\"fTitleColor\":1,\"fTitleFont\":42,\"fNbins\":60,\"fXmin\":0,\"fXmax\":300,\"fXbins\":[],\"fFirst\":7,\"fLast\":40,\"fBits2\":0,\"fTimeDisplay\":false,\"fTimeFormat\":\"\",\"fLabels\":null,\"fModLabs\":null},\"fYaxis\":{\"_typename\":\"TAxis\",\"fUniqueID\":0,\"fBits\":50331656,\"fName\":\"yaxis\",\"fTitle\":\"Events \\/ 5.0\",\"fNdivisions\":510,\"fAxisColor\":1,\"fLabelColor\":1,\"fLabelFont\":42,\"fLabelOffset\":0.007,\"fLabelSize\":0.05,\"fTickLength\":0.03,\"fTitleOffset\":0.9,\"fTitleSize\":0.06,\"fTitleColor\":1,\"fTitleFont\":42,\"fNbins\":1,\"fXmin\":0,\"fXmax\":1,\"fXbins\":[],\"fFirst\":0,\"fLast\":0,\"fBits2\":0,\"fTimeDisplay\":false,\"fTimeFormat\":\"\",\"fLabels\":null,\"fModLabs\":null},\"fZaxis\":{\"_typename\":\"TAxis\",\"fUniqueID\":0,\"fBits\":50331648,\"fName\":\"zaxis\",\"fTitle\":\"\",\"fNdivisions\":510,\"fAxisColor\":1,\"fLabelColor\":1,\"fLabelFont\":42,\"fLabelOffset\":0.007,\"fLabelSize\":0.05,\"fTickLength\":0.03,\"fTitleOffset\":1,\"fTitleSize\":0.06,\"fTitleColor\":1,\"fTitleFont\":42,\"fNbins\":1,\"fXmin\":0,\"fXmax\":1,\"fXbins\":[],\"fFirst\":0,\"fLast\":0,\"fBits2\":0,\"fTimeDisplay\":false,\"fTimeFormat\":\"\",\"fLabels\":null,\"fModLabs\":null},\"fBarOffset\":0,\"fBarWidth\":1000,\"fEntries\":125352,\"fTsumw\":47469,\"fTsumw2\":47469,\"fTsumwx\":4455977.5,\"fTsumwx2\":455132931.25,\"fMaximum\":-1111,\"fMinimum\":-1111,\"fNormFactor\":0,\"fContour\":[],\"fSumw2\":[],\"fOption\":\"\",\"fFunctions\":{\"_typename\":\"TList\",\"name\":\"TList\",\"arr\":[],\"opt\":[]},\"fBufferSize\":0,\"fBuffer\":[],\"fBinStatErrOpt\":0,\"fStatOverflows\":2,\"fArray\":[75036,2242,29,17,22,43,110,190,318,523,749,1035,1453,1695,2302,2923,3617,4431,4536,4063,3375,2719,2273,1908,1650,1420,1176,1006,840,681,570,454,347,290,235,172,157,126,97,88,50,51,48,33,25,28,25,19,22,22,13,8,10,10,6,8,4,4,2,5,4,37]},{\"_typename\":\"TLatex\",\"fUniqueID\":0,\"fBits\":50348041,\"fName\":\"\",\"fTitle\":\"\",\"fTextAngle\":0,\"fTextSize\":0.054,\"fTextAlign\":31,\"fTextColor\":1,\"fTextFont\":42,\"fX\":0.899999998509884,\"fY\":0.927999997138977,\"fLineColor\":1,\"fLineStyle\":1,\"fLineWidth\":2,\"fLimitFactorSize\":3,\"fOriginSize\":0.04},{\"_typename\":\"TLatex\",\"fUniqueID\":0,\"fBits\":50348041,\"fName\":\"\",\"fTitle\":\"CMS\",\"fTextAngle\":0,\"fTextSize\":0.063,\"fTextAlign\":11,\"fTextColor\":1,\"fTextFont\":61,\"fX\":0.119999997317791,\"fY\":0.927999997138977,\"fLineColor\":1,\"fLineStyle\":1,\"fLineWidth\":2,\"fLimitFactorSize\":3,\"fOriginSize\":0.04},{\"_typename\":\"TLatex\",\"fUniqueID\":0,\"fBits\":50348041,\"fName\":\"\",\"fTitle\":\"Simulation Preliminary\",\"fTextAngle\":0,\"fTextSize\":0.0441,\"fTextAlign\":11,\"fTextColor\":1,\"fTextFont\":52,\"fX\":0.213599997460842,\"fY\":0.927999997138977,\"fLineColor\":1,\"fLineStyle\":1,\"fLineWidth\":2,\"fLimitFactorSize\":3,\"fOriginSize\":0.0441000014543533}],\"opt\":[\"\",\"hist\",\"\",\"\",\"\"]},\"fExecs\":null,\"fName\":\"cWCandMassttHTobb\",\"fTitle\":\"cWCandMassttHTobb\",\"fNumPaletteColor\":0,\"fNextPaletteColor\":0,\"fDISPLAY\":\"$DISPLAY\",\"fDoubleBuffer\":0,\"fRetained\":true,\"fXsizeUser\":0,\"fYsizeUser\":0,\"fXsizeReal\":20,\"fYsizeReal\":13.33333,\"fWindowTopX\":0,\"fWindowTopY\":0,\"fWindowWidth\":0,\"fWindowHeight\":0,\"fCw\":746,\"fCh\":472,\"fCatt\":{\"_typename\":\"TAttCanvas\",\"fXBetween\":2,\"fYBetween\":2,\"fTitleFromTop\":1.2,\"fXdate\":0.2,\"fYdate\":0.3,\"fAdate\":1},\"kMoveOpaque\":true,\"kResizeOpaque\":true,\"fHighLightColor\":2,\"fBatch\":true,\"kShowEventStatus\":false,\"kAutoExec\":true,\"kMenuBar\":true});\n",
       "       Core.draw(\"root_plot_23\", obj, \"\");\n",
       "     }\n",
       " );\n",
       "</script>\n"
      ],
      "text/plain": [
       "<IPython.core.display.HTML object>"
      ]
     },
     "metadata": {},
     "output_type": "display_data"
    },
    {
     "data": {
      "text/html": [
       "\n",
       "<div id=\"root_plot_24\"\n",
       "     style=\"width: 746px; height: 472px\">\n",
       "</div>\n",
       "\n",
       "<script>\n",
       " requirejs.config({\n",
       "     paths: {\n",
       "       'JSRootCore' : 'https://root.cern.ch/js/notebook//scripts/JSRootCore',\n",
       "     }\n",
       "   });\n",
       " require(['JSRootCore'],\n",
       "     function(Core) {\n",
       "       var obj = Core.JSONR_unref({\"_typename\":\"TCanvas\",\"fUniqueID\":0,\"fBits\":53673992,\"fLineColor\":1,\"fLineStyle\":1,\"fLineWidth\":1,\"fFillColor\":0,\"fFillStyle\":1001,\"fLeftMargin\":0.12,\"fRightMargin\":0.1,\"fBottomMargin\":0.12,\"fTopMargin\":0.09,\"fXfile\":2,\"fYfile\":2,\"fAfile\":1,\"fXstat\":0.99,\"fYstat\":0.99,\"fAstat\":2,\"fFrameFillColor\":0,\"fFrameLineColor\":1,\"fFrameFillStyle\":0,\"fFrameLineStyle\":1,\"fFrameLineWidth\":1,\"fFrameBorderSize\":1,\"fFrameBorderMode\":0,\"fX1\":3.84615347142049,\"fY1\":-6614.52169053871,\"fX2\":221.794872919072,\"fY2\":48506.4915759167,\"fXtoAbsPixelk\":-13.1646545091671,\"fXtoPixelk\":-13.1646545091671,\"fXtoPixel\":3.42282350587144,\"fYtoAbsPixelk\":415.360049155998,\"fYtoPixelk\":415.360049155998,\"fYtoPixel\":-0.00856297756571252,\"fUtoAbsPixelk\":5e-5,\"fUtoPixelk\":5e-5,\"fUtoPixel\":746,\"fVtoAbsPixelk\":472.00005,\"fVtoPixelk\":472,\"fVtoPixel\":-472,\"fAbsPixeltoXk\":3.84615347142049,\"fPixeltoXk\":3.84615347142049,\"fPixeltoX\":0.292156460385592,\"fAbsPixeltoYk\":48506.4915759167,\"fPixeltoYk\":-6614.52169053871,\"fPixeltoY\":-116.781807767914,\"fXlowNDC\":0,\"fYlowNDC\":0,\"fXUpNDC\":0,\"fYUpNDC\":0,\"fWNDC\":1,\"fHNDC\":1,\"fAbsXlowNDC\":0,\"fAbsYlowNDC\":0,\"fAbsWNDC\":1,\"fAbsHNDC\":1,\"fUxmin\":30,\"fUymin\":0,\"fUxmax\":200,\"fUymax\":43545.6,\"fTheta\":30,\"fPhi\":30,\"fAspectRatio\":0,\"fNumber\":0,\"fTickx\":1,\"fTicky\":1,\"fLogx\":0,\"fLogy\":0,\"fLogz\":0,\"fPadPaint\":0,\"fCrosshair\":0,\"fCrosshairPos\":0,\"fBorderSize\":2,\"fBorderMode\":0,\"fModified\":true,\"fGridx\":false,\"fGridy\":false,\"fAbsCoord\":false,\"fEditable\":true,\"fFixedAspectRatio\":false,\"fPrimitives\":{\"_typename\":\"TList\",\"name\":\"TList\",\"arr\":[{\"_typename\":\"TFrame\",\"fUniqueID\":0,\"fBits\":50331656,\"fLineColor\":1,\"fLineStyle\":1,\"fLineWidth\":1,\"fFillColor\":0,\"fFillStyle\":0,\"fX1\":30,\"fY1\":0,\"fX2\":200,\"fY2\":43545.6,\"fBorderSize\":1,\"fBorderMode\":0},{\"_typename\":\"TH1F\",\"fUniqueID\":0,\"fBits\":50332168,\"fName\":\"WCandMass\",\"fTitle\":\"TTToSemiLeptonic WCandMass\",\"fLineColor\":600,\"fLineStyle\":0,\"fLineWidth\":2,\"fFillColor\":0,\"fFillStyle\":1001,\"fMarkerColor\":1,\"fMarkerStyle\":1,\"fMarkerSize\":1,\"fNcells\":62,\"fXaxis\":{\"_typename\":\"TAxis\",\"fUniqueID\":0,\"fBits\":50333704,\"fName\":\"xaxis\",\"fTitle\":\"W candidate mass [GeV]\",\"fNdivisions\":510,\"fAxisColor\":1,\"fLabelColor\":1,\"fLabelFont\":42,\"fLabelOffset\":0.007,\"fLabelSize\":0.05,\"fTickLength\":0.03,\"fTitleOffset\":0.9,\"fTitleSize\":0.06,\"fTitleColor\":1,\"fTitleFont\":42,\"fNbins\":60,\"fXmin\":0,\"fXmax\":300,\"fXbins\":[],\"fFirst\":7,\"fLast\":40,\"fBits2\":0,\"fTimeDisplay\":false,\"fTimeFormat\":\"\",\"fLabels\":null,\"fModLabs\":null},\"fYaxis\":{\"_typename\":\"TAxis\",\"fUniqueID\":0,\"fBits\":50331656,\"fName\":\"yaxis\",\"fTitle\":\"Events \\/ 5.0\",\"fNdivisions\":510,\"fAxisColor\":1,\"fLabelColor\":1,\"fLabelFont\":42,\"fLabelOffset\":0.007,\"fLabelSize\":0.05,\"fTickLength\":0.03,\"fTitleOffset\":0.9,\"fTitleSize\":0.06,\"fTitleColor\":1,\"fTitleFont\":42,\"fNbins\":1,\"fXmin\":0,\"fXmax\":1,\"fXbins\":[],\"fFirst\":0,\"fLast\":0,\"fBits2\":0,\"fTimeDisplay\":false,\"fTimeFormat\":\"\",\"fLabels\":null,\"fModLabs\":null},\"fZaxis\":{\"_typename\":\"TAxis\",\"fUniqueID\":0,\"fBits\":50331648,\"fName\":\"zaxis\",\"fTitle\":\"\",\"fNdivisions\":510,\"fAxisColor\":1,\"fLabelColor\":1,\"fLabelFont\":42,\"fLabelOffset\":0.007,\"fLabelSize\":0.05,\"fTickLength\":0.03,\"fTitleOffset\":1,\"fTitleSize\":0.06,\"fTitleColor\":1,\"fTitleFont\":42,\"fNbins\":1,\"fXmin\":0,\"fXmax\":1,\"fXbins\":[],\"fFirst\":0,\"fLast\":0,\"fBits2\":0,\"fTimeDisplay\":false,\"fTimeFormat\":\"\",\"fLabels\":null,\"fModLabs\":null},\"fBarOffset\":0,\"fBarWidth\":1000,\"fEntries\":829249,\"fTsumw\":349321,\"fTsumw2\":349321,\"fTsumwx\":31925467.5,\"fTsumwx2\":3124839006.25,\"fMaximum\":-1111,\"fMinimum\":-1111,\"fNormFactor\":0,\"fContour\":[],\"fSumw2\":[],\"fOption\":\"\",\"fFunctions\":{\"_typename\":\"TList\",\"name\":\"TList\",\"arr\":[],\"opt\":[]},\"fBufferSize\":0,\"fBuffer\":[],\"fBinStatErrOpt\":0,\"fStatOverflows\":2,\"fArray\":[465323,12619,118,63,114,189,393,700,1375,2383,4121,6481,9308,12816,17467,23358,31056,38924,41472,35845,27254,19741,14842,11870,9585,7978,6801,5486,4381,3661,2864,2256,1735,1321,1068,867,698,562,460,339,246,180,147,100,92,79,52,50,45,45,35,26,24,32,19,20,20,14,8,10,8,103]},{\"_typename\":\"TLatex\",\"fUniqueID\":0,\"fBits\":50348041,\"fName\":\"\",\"fTitle\":\"\",\"fTextAngle\":0,\"fTextSize\":0.054,\"fTextAlign\":31,\"fTextColor\":1,\"fTextFont\":42,\"fX\":0.899999998509884,\"fY\":0.927999997138977,\"fLineColor\":1,\"fLineStyle\":1,\"fLineWidth\":2,\"fLimitFactorSize\":3,\"fOriginSize\":0.04},{\"_typename\":\"TLatex\",\"fUniqueID\":0,\"fBits\":50348041,\"fName\":\"\",\"fTitle\":\"CMS\",\"fTextAngle\":0,\"fTextSize\":0.063,\"fTextAlign\":11,\"fTextColor\":1,\"fTextFont\":61,\"fX\":0.119999997317791,\"fY\":0.927999997138977,\"fLineColor\":1,\"fLineStyle\":1,\"fLineWidth\":2,\"fLimitFactorSize\":3,\"fOriginSize\":0.04},{\"_typename\":\"TLatex\",\"fUniqueID\":0,\"fBits\":50348041,\"fName\":\"\",\"fTitle\":\"Simulation Preliminary\",\"fTextAngle\":0,\"fTextSize\":0.0441,\"fTextAlign\":11,\"fTextColor\":1,\"fTextFont\":52,\"fX\":0.213599997460842,\"fY\":0.927999997138977,\"fLineColor\":1,\"fLineStyle\":1,\"fLineWidth\":2,\"fLimitFactorSize\":3,\"fOriginSize\":0.0441000014543533}],\"opt\":[\"\",\"hist\",\"\",\"\",\"\"]},\"fExecs\":null,\"fName\":\"cWCandMassTTToSemiLeptonic\",\"fTitle\":\"cWCandMassTTToSemiLeptonic\",\"fNumPaletteColor\":0,\"fNextPaletteColor\":0,\"fDISPLAY\":\"$DISPLAY\",\"fDoubleBuffer\":0,\"fRetained\":true,\"fXsizeUser\":0,\"fYsizeUser\":0,\"fXsizeReal\":20,\"fYsizeReal\":13.33333,\"fWindowTopX\":0,\"fWindowTopY\":0,\"fWindowWidth\":0,\"fWindowHeight\":0,\"fCw\":746,\"fCh\":472,\"fCatt\":{\"_typename\":\"TAttCanvas\",\"fXBetween\":2,\"fYBetween\":2,\"fTitleFromTop\":1.2,\"fXdate\":0.2,\"fYdate\":0.3,\"fAdate\":1},\"kMoveOpaque\":true,\"kResizeOpaque\":true,\"fHighLightColor\":2,\"fBatch\":true,\"kShowEventStatus\":false,\"kAutoExec\":true,\"kMenuBar\":true});\n",
       "       Core.draw(\"root_plot_24\", obj, \"\");\n",
       "     }\n",
       " );\n",
       "</script>\n"
      ],
      "text/plain": [
       "<IPython.core.display.HTML object>"
      ]
     },
     "metadata": {},
     "output_type": "display_data"
    },
    {
     "data": {
      "text/html": [
       "\n",
       "<div id=\"root_plot_25\"\n",
       "     style=\"width: 746px; height: 472px\">\n",
       "</div>\n",
       "\n",
       "<script>\n",
       " requirejs.config({\n",
       "     paths: {\n",
       "       'JSRootCore' : 'https://root.cern.ch/js/notebook//scripts/JSRootCore',\n",
       "     }\n",
       "   });\n",
       " require(['JSRootCore'],\n",
       "     function(Core) {\n",
       "       var obj = Core.JSONR_unref({\"_typename\":\"TCanvas\",\"fUniqueID\":0,\"fBits\":53673992,\"fLineColor\":1,\"fLineStyle\":1,\"fLineWidth\":1,\"fFillColor\":0,\"fFillStyle\":1001,\"fLeftMargin\":0.12,\"fRightMargin\":0.1,\"fBottomMargin\":0.12,\"fTopMargin\":0.09,\"fXfile\":2,\"fYfile\":2,\"fAfile\":1,\"fXstat\":0.99,\"fYstat\":0.99,\"fAstat\":2,\"fFrameFillColor\":0,\"fFrameLineColor\":1,\"fFrameFillStyle\":0,\"fFrameLineStyle\":1,\"fFrameLineWidth\":1,\"fFrameBorderSize\":1,\"fFrameBorderMode\":0,\"fX1\":-3.84615433110289,\"fY1\":-43.0632922561114,\"fX2\":278.205129659975,\"fY2\":315.797471197374,\"fXtoAbsPixelk\":10.1727784854109,\"fXtoPixelk\":10.1727784854109,\"fXtoPixel\":2.64490907271884,\"fYtoAbsPixelk\":415.360049155998,\"fYtoPixelk\":415.360049155998,\"fYtoPixel\":-1.31527335409344,\"fUtoAbsPixelk\":5e-5,\"fUtoPixelk\":5e-5,\"fUtoPixel\":746,\"fVtoAbsPixelk\":472.00005,\"fVtoPixelk\":472,\"fVtoPixel\":-472,\"fAbsPixeltoXk\":-3.84615433110289,\"fPixeltoXk\":-3.84615433110289,\"fPixeltoX\":0.378084831087236,\"fAbsPixeltoYk\":315.797471197374,\"fPixeltoYk\":-43.0632922561114,\"fPixeltoY\":-0.76029822765569,\"fXlowNDC\":0,\"fYlowNDC\":0,\"fXUpNDC\":0,\"fYUpNDC\":0,\"fWNDC\":1,\"fHNDC\":1,\"fAbsXlowNDC\":0,\"fAbsYlowNDC\":0,\"fAbsWNDC\":1,\"fAbsHNDC\":1,\"fUxmin\":30,\"fUymin\":0,\"fUxmax\":250,\"fUymax\":283.5,\"fTheta\":30,\"fPhi\":30,\"fAspectRatio\":0,\"fNumber\":0,\"fTickx\":1,\"fTicky\":1,\"fLogx\":0,\"fLogy\":0,\"fLogz\":0,\"fPadPaint\":0,\"fCrosshair\":0,\"fCrosshairPos\":0,\"fBorderSize\":2,\"fBorderMode\":0,\"fModified\":true,\"fGridx\":false,\"fGridy\":false,\"fAbsCoord\":false,\"fEditable\":true,\"fFixedAspectRatio\":false,\"fPrimitives\":{\"_typename\":\"TList\",\"name\":\"TList\",\"arr\":[{\"_typename\":\"TFrame\",\"fUniqueID\":0,\"fBits\":50331656,\"fLineColor\":1,\"fLineStyle\":1,\"fLineWidth\":1,\"fFillColor\":0,\"fFillStyle\":0,\"fX1\":30,\"fY1\":0,\"fX2\":250,\"fY2\":283.5,\"fBorderSize\":1,\"fBorderMode\":0},{\"_typename\":\"TH1F\",\"fUniqueID\":0,\"fBits\":50332168,\"fName\":\"HiggsCandMass_WHiggs\",\"fTitle\":\"ttHTobb HiggsCandMass_WHiggs\",\"fLineColor\":600,\"fLineStyle\":0,\"fLineWidth\":2,\"fFillColor\":0,\"fFillStyle\":1001,\"fMarkerColor\":1,\"fMarkerStyle\":1,\"fMarkerSize\":1,\"fNcells\":62,\"fXaxis\":{\"_typename\":\"TAxis\",\"fUniqueID\":0,\"fBits\":50333704,\"fName\":\"xaxis\",\"fTitle\":\"Higgs candidate mass [GeV]\",\"fNdivisions\":510,\"fAxisColor\":1,\"fLabelColor\":1,\"fLabelFont\":42,\"fLabelOffset\":0.007,\"fLabelSize\":0.05,\"fTickLength\":0.03,\"fTitleOffset\":0.9,\"fTitleSize\":0.06,\"fTitleColor\":1,\"fTitleFont\":42,\"fNbins\":60,\"fXmin\":0,\"fXmax\":300,\"fXbins\":[],\"fFirst\":7,\"fLast\":50,\"fBits2\":0,\"fTimeDisplay\":false,\"fTimeFormat\":\"\",\"fLabels\":null,\"fModLabs\":null},\"fYaxis\":{\"_typename\":\"TAxis\",\"fUniqueID\":0,\"fBits\":50331656,\"fName\":\"yaxis\",\"fTitle\":\"Events \\/ 5.0\",\"fNdivisions\":510,\"fAxisColor\":1,\"fLabelColor\":1,\"fLabelFont\":42,\"fLabelOffset\":0.007,\"fLabelSize\":0.05,\"fTickLength\":0.03,\"fTitleOffset\":0.9,\"fTitleSize\":0.06,\"fTitleColor\":1,\"fTitleFont\":42,\"fNbins\":1,\"fXmin\":0,\"fXmax\":1,\"fXbins\":[],\"fFirst\":0,\"fLast\":0,\"fBits2\":0,\"fTimeDisplay\":false,\"fTimeFormat\":\"\",\"fLabels\":null,\"fModLabs\":null},\"fZaxis\":{\"_typename\":\"TAxis\",\"fUniqueID\":0,\"fBits\":50331648,\"fName\":\"zaxis\",\"fTitle\":\"\",\"fNdivisions\":510,\"fAxisColor\":1,\"fLabelColor\":1,\"fLabelFont\":42,\"fLabelOffset\":0.007,\"fLabelSize\":0.05,\"fTickLength\":0.03,\"fTitleOffset\":1,\"fTitleSize\":0.06,\"fTitleColor\":1,\"fTitleFont\":42,\"fNbins\":1,\"fXmin\":0,\"fXmax\":1,\"fXbins\":[],\"fFirst\":0,\"fLast\":0,\"fBits2\":0,\"fTimeDisplay\":false,\"fTimeFormat\":\"\",\"fLabels\":null,\"fModLabs\":null},\"fBarOffset\":0,\"fBarWidth\":1000,\"fEntries\":4642,\"fTsumw\":4585,\"fTsumw2\":4585,\"fTsumwx\":468562.5,\"fTsumwx2\":53162056.25,\"fMaximum\":-1111,\"fMinimum\":-1111,\"fNormFactor\":0,\"fContour\":[],\"fSumw2\":[],\"fOption\":\"\",\"fFunctions\":{\"_typename\":\"TList\",\"name\":\"TList\",\"arr\":[],\"opt\":[]},\"fBufferSize\":0,\"fBuffer\":[],\"fBinStatErrOpt\":0,\"fStatOverflows\":2,\"fArray\":[0,18,10,0,2,1,6,28,44,69,88,95,126,159,193,214,248,243,259,270,267,220,233,225,252,238,258,181,137,108,86,60,55,43,37,20,23,24,13,9,15,10,10,6,4,3,4,2,3,2,1,1,1,1,1,2,2,1,1,1,1,8]},{\"_typename\":\"TLatex\",\"fUniqueID\":0,\"fBits\":50348041,\"fName\":\"\",\"fTitle\":\"\",\"fTextAngle\":0,\"fTextSize\":0.054,\"fTextAlign\":31,\"fTextColor\":1,\"fTextFont\":42,\"fX\":0.899999998509884,\"fY\":0.927999997138977,\"fLineColor\":1,\"fLineStyle\":1,\"fLineWidth\":2,\"fLimitFactorSize\":3,\"fOriginSize\":0.04},{\"_typename\":\"TLatex\",\"fUniqueID\":0,\"fBits\":50348041,\"fName\":\"\",\"fTitle\":\"CMS\",\"fTextAngle\":0,\"fTextSize\":0.063,\"fTextAlign\":11,\"fTextColor\":1,\"fTextFont\":61,\"fX\":0.119999997317791,\"fY\":0.927999997138977,\"fLineColor\":1,\"fLineStyle\":1,\"fLineWidth\":2,\"fLimitFactorSize\":3,\"fOriginSize\":0.04},{\"_typename\":\"TLatex\",\"fUniqueID\":0,\"fBits\":50348041,\"fName\":\"\",\"fTitle\":\"Simulation Preliminary\",\"fTextAngle\":0,\"fTextSize\":0.0441,\"fTextAlign\":11,\"fTextColor\":1,\"fTextFont\":52,\"fX\":0.213599997460842,\"fY\":0.927999997138977,\"fLineColor\":1,\"fLineStyle\":1,\"fLineWidth\":2,\"fLimitFactorSize\":3,\"fOriginSize\":0.0441000014543533}],\"opt\":[\"\",\"hist\",\"\",\"\",\"\"]},\"fExecs\":null,\"fName\":\"cHiggsCandMass_WHiggsttHTobb\",\"fTitle\":\"cHiggsCandMass_WHiggsttHTobb\",\"fNumPaletteColor\":0,\"fNextPaletteColor\":0,\"fDISPLAY\":\"$DISPLAY\",\"fDoubleBuffer\":0,\"fRetained\":true,\"fXsizeUser\":0,\"fYsizeUser\":0,\"fXsizeReal\":20,\"fYsizeReal\":13.33333,\"fWindowTopX\":0,\"fWindowTopY\":0,\"fWindowWidth\":0,\"fWindowHeight\":0,\"fCw\":746,\"fCh\":472,\"fCatt\":{\"_typename\":\"TAttCanvas\",\"fXBetween\":2,\"fYBetween\":2,\"fTitleFromTop\":1.2,\"fXdate\":0.2,\"fYdate\":0.3,\"fAdate\":1},\"kMoveOpaque\":true,\"kResizeOpaque\":true,\"fHighLightColor\":2,\"fBatch\":true,\"kShowEventStatus\":false,\"kAutoExec\":true,\"kMenuBar\":true});\n",
       "       Core.draw(\"root_plot_25\", obj, \"\");\n",
       "     }\n",
       " );\n",
       "</script>\n"
      ],
      "text/plain": [
       "<IPython.core.display.HTML object>"
      ]
     },
     "metadata": {},
     "output_type": "display_data"
    },
    {
     "data": {
      "text/html": [
       "\n",
       "<div id=\"root_plot_26\"\n",
       "     style=\"width: 746px; height: 472px\">\n",
       "</div>\n",
       "\n",
       "<script>\n",
       " requirejs.config({\n",
       "     paths: {\n",
       "       'JSRootCore' : 'https://root.cern.ch/js/notebook//scripts/JSRootCore',\n",
       "     }\n",
       "   });\n",
       " require(['JSRootCore'],\n",
       "     function(Core) {\n",
       "       var obj = Core.JSONR_unref({\"_typename\":\"TCanvas\",\"fUniqueID\":0,\"fBits\":53673992,\"fLineColor\":1,\"fLineStyle\":1,\"fLineWidth\":1,\"fFillColor\":0,\"fFillStyle\":1001,\"fLeftMargin\":0.12,\"fRightMargin\":0.1,\"fBottomMargin\":0.12,\"fTopMargin\":0.09,\"fXfile\":2,\"fYfile\":2,\"fAfile\":1,\"fXstat\":0.99,\"fYstat\":0.99,\"fAstat\":2,\"fFrameFillColor\":0,\"fFrameLineColor\":1,\"fFrameFillStyle\":0,\"fFrameLineStyle\":1,\"fFrameLineWidth\":1,\"fFrameBorderSize\":1,\"fFrameBorderMode\":0,\"fX1\":-3.84615433110289,\"fY1\":-256.306335761374,\"fX2\":278.205129659975,\"fY2\":1879.57976375622,\"fXtoAbsPixelk\":10.1727784854109,\"fXtoPixelk\":10.1727784854109,\"fXtoPixel\":2.64490907271884,\"fYtoAbsPixelk\":415.360049155998,\"fYtoPixelk\":415.360049155998,\"fYtoPixel\":-0.220985566649178,\"fUtoAbsPixelk\":5e-5,\"fUtoPixelk\":5e-5,\"fUtoPixel\":746,\"fVtoAbsPixelk\":472.00005,\"fVtoPixelk\":472,\"fVtoPixel\":-472,\"fAbsPixeltoXk\":-3.84615433110289,\"fPixeltoXk\":-3.84615433110289,\"fPixeltoX\":0.378084831087236,\"fAbsPixeltoYk\":1879.57976375622,\"fPixeltoYk\":-256.306335761374,\"fPixeltoY\":-4.5251824142322,\"fXlowNDC\":0,\"fYlowNDC\":0,\"fXUpNDC\":0,\"fYUpNDC\":0,\"fWNDC\":1,\"fHNDC\":1,\"fAbsXlowNDC\":0,\"fAbsYlowNDC\":0,\"fAbsWNDC\":1,\"fAbsHNDC\":1,\"fUxmin\":30,\"fUymin\":0,\"fUxmax\":250,\"fUymax\":1687.35,\"fTheta\":30,\"fPhi\":30,\"fAspectRatio\":0,\"fNumber\":0,\"fTickx\":1,\"fTicky\":1,\"fLogx\":0,\"fLogy\":0,\"fLogz\":0,\"fPadPaint\":0,\"fCrosshair\":0,\"fCrosshairPos\":0,\"fBorderSize\":2,\"fBorderMode\":0,\"fModified\":true,\"fGridx\":false,\"fGridy\":false,\"fAbsCoord\":false,\"fEditable\":true,\"fFixedAspectRatio\":false,\"fPrimitives\":{\"_typename\":\"TList\",\"name\":\"TList\",\"arr\":[{\"_typename\":\"TFrame\",\"fUniqueID\":0,\"fBits\":50331656,\"fLineColor\":1,\"fLineStyle\":1,\"fLineWidth\":1,\"fFillColor\":0,\"fFillStyle\":0,\"fX1\":30,\"fY1\":0,\"fX2\":250,\"fY2\":1687.35,\"fBorderSize\":1,\"fBorderMode\":0},{\"_typename\":\"TH1F\",\"fUniqueID\":0,\"fBits\":50332168,\"fName\":\"HiggsCandMass_WHiggs\",\"fTitle\":\"TTToSemiLeptonic HiggsCandMass_WHiggs\",\"fLineColor\":600,\"fLineStyle\":0,\"fLineWidth\":2,\"fFillColor\":0,\"fFillStyle\":1001,\"fMarkerColor\":1,\"fMarkerStyle\":1,\"fMarkerSize\":1,\"fNcells\":62,\"fXaxis\":{\"_typename\":\"TAxis\",\"fUniqueID\":0,\"fBits\":50333704,\"fName\":\"xaxis\",\"fTitle\":\"Higgs candidate mass [GeV]\",\"fNdivisions\":510,\"fAxisColor\":1,\"fLabelColor\":1,\"fLabelFont\":42,\"fLabelOffset\":0.007,\"fLabelSize\":0.05,\"fTickLength\":0.03,\"fTitleOffset\":0.9,\"fTitleSize\":0.06,\"fTitleColor\":1,\"fTitleFont\":42,\"fNbins\":60,\"fXmin\":0,\"fXmax\":300,\"fXbins\":[],\"fFirst\":7,\"fLast\":50,\"fBits2\":0,\"fTimeDisplay\":false,\"fTimeFormat\":\"\",\"fLabels\":null,\"fModLabs\":null},\"fYaxis\":{\"_typename\":\"TAxis\",\"fUniqueID\":0,\"fBits\":50331656,\"fName\":\"yaxis\",\"fTitle\":\"Events \\/ 5.0\",\"fNdivisions\":510,\"fAxisColor\":1,\"fLabelColor\":1,\"fLabelFont\":42,\"fLabelOffset\":0.007,\"fLabelSize\":0.05,\"fTickLength\":0.03,\"fTitleOffset\":0.9,\"fTitleSize\":0.06,\"fTitleColor\":1,\"fTitleFont\":42,\"fNbins\":1,\"fXmin\":0,\"fXmax\":1,\"fXbins\":[],\"fFirst\":0,\"fLast\":0,\"fBits2\":0,\"fTimeDisplay\":false,\"fTimeFormat\":\"\",\"fLabels\":null,\"fModLabs\":null},\"fZaxis\":{\"_typename\":\"TAxis\",\"fUniqueID\":0,\"fBits\":50331648,\"fName\":\"zaxis\",\"fTitle\":\"\",\"fNdivisions\":510,\"fAxisColor\":1,\"fLabelColor\":1,\"fLabelFont\":42,\"fLabelOffset\":0.007,\"fLabelSize\":0.05,\"fTickLength\":0.03,\"fTitleOffset\":1,\"fTitleSize\":0.06,\"fTitleColor\":1,\"fTitleFont\":42,\"fNbins\":1,\"fXmin\":0,\"fXmax\":1,\"fXbins\":[],\"fFirst\":0,\"fLast\":0,\"fBits2\":0,\"fTimeDisplay\":false,\"fTimeFormat\":\"\",\"fLabels\":null,\"fModLabs\":null},\"fBarOffset\":0,\"fBarWidth\":1000,\"fEntries\":21589,\"fTsumw\":21489,\"fTsumw2\":21489,\"fTsumwx\":2118877.5,\"fTsumwx2\":228694956.25,\"fMaximum\":-1111,\"fMinimum\":-1111,\"fNormFactor\":0,\"fContour\":[],\"fSumw2\":[],\"fOption\":\"\",\"fFunctions\":{\"_typename\":\"TList\",\"name\":\"TList\",\"arr\":[],\"opt\":[]},\"fBufferSize\":0,\"fBuffer\":[],\"fBinStatErrOpt\":0,\"fStatOverflows\":2,\"fArray\":[0,54,14,3,4,1,9,21,79,131,283,401,619,832,1047,1323,1536,1587,1607,1569,1420,1248,1187,1041,916,800,692,555,491,416,319,254,189,173,168,140,119,97,73,58,37,22,7,8,6,8,3,2,2,0,3,1,1,0,0,2,0,0,0,0,2,9]},{\"_typename\":\"TLatex\",\"fUniqueID\":0,\"fBits\":50348041,\"fName\":\"\",\"fTitle\":\"\",\"fTextAngle\":0,\"fTextSize\":0.054,\"fTextAlign\":31,\"fTextColor\":1,\"fTextFont\":42,\"fX\":0.899999998509884,\"fY\":0.927999997138977,\"fLineColor\":1,\"fLineStyle\":1,\"fLineWidth\":2,\"fLimitFactorSize\":3,\"fOriginSize\":0.04},{\"_typename\":\"TLatex\",\"fUniqueID\":0,\"fBits\":50348041,\"fName\":\"\",\"fTitle\":\"CMS\",\"fTextAngle\":0,\"fTextSize\":0.063,\"fTextAlign\":11,\"fTextColor\":1,\"fTextFont\":61,\"fX\":0.119999997317791,\"fY\":0.927999997138977,\"fLineColor\":1,\"fLineStyle\":1,\"fLineWidth\":2,\"fLimitFactorSize\":3,\"fOriginSize\":0.04},{\"_typename\":\"TLatex\",\"fUniqueID\":0,\"fBits\":50348041,\"fName\":\"\",\"fTitle\":\"Simulation Preliminary\",\"fTextAngle\":0,\"fTextSize\":0.0441,\"fTextAlign\":11,\"fTextColor\":1,\"fTextFont\":52,\"fX\":0.213599997460842,\"fY\":0.927999997138977,\"fLineColor\":1,\"fLineStyle\":1,\"fLineWidth\":2,\"fLimitFactorSize\":3,\"fOriginSize\":0.0441000014543533}],\"opt\":[\"\",\"hist\",\"\",\"\",\"\"]},\"fExecs\":null,\"fName\":\"cHiggsCandMass_WHiggsTTToSemiLeptonic\",\"fTitle\":\"cHiggsCandMass_WHiggsTTToSemiLeptonic\",\"fNumPaletteColor\":0,\"fNextPaletteColor\":0,\"fDISPLAY\":\"$DISPLAY\",\"fDoubleBuffer\":0,\"fRetained\":true,\"fXsizeUser\":0,\"fYsizeUser\":0,\"fXsizeReal\":20,\"fYsizeReal\":13.33333,\"fWindowTopX\":0,\"fWindowTopY\":0,\"fWindowWidth\":0,\"fWindowHeight\":0,\"fCw\":746,\"fCh\":472,\"fCatt\":{\"_typename\":\"TAttCanvas\",\"fXBetween\":2,\"fYBetween\":2,\"fTitleFromTop\":1.2,\"fXdate\":0.2,\"fYdate\":0.3,\"fAdate\":1},\"kMoveOpaque\":true,\"kResizeOpaque\":true,\"fHighLightColor\":2,\"fBatch\":true,\"kShowEventStatus\":false,\"kAutoExec\":true,\"kMenuBar\":true});\n",
       "       Core.draw(\"root_plot_26\", obj, \"\");\n",
       "     }\n",
       " );\n",
       "</script>\n"
      ],
      "text/plain": [
       "<IPython.core.display.HTML object>"
      ]
     },
     "metadata": {},
     "output_type": "display_data"
    },
    {
     "data": {
      "text/html": [
       "\n",
       "<div id=\"root_plot_27\"\n",
       "     style=\"width: 746px; height: 472px\">\n",
       "</div>\n",
       "\n",
       "<script>\n",
       " requirejs.config({\n",
       "     paths: {\n",
       "       'JSRootCore' : 'https://root.cern.ch/js/notebook//scripts/JSRootCore',\n",
       "     }\n",
       "   });\n",
       " require(['JSRootCore'],\n",
       "     function(Core) {\n",
       "       var obj = Core.JSONR_unref({\"_typename\":\"TCanvas\",\"fUniqueID\":0,\"fBits\":53673992,\"fLineColor\":1,\"fLineStyle\":1,\"fLineWidth\":1,\"fFillColor\":0,\"fFillStyle\":1001,\"fLeftMargin\":0.12,\"fRightMargin\":0.1,\"fBottomMargin\":0.12,\"fTopMargin\":0.09,\"fXfile\":2,\"fYfile\":2,\"fAfile\":1,\"fXstat\":0.99,\"fYstat\":0.99,\"fAstat\":2,\"fFrameFillColor\":0,\"fFrameLineColor\":1,\"fFrameFillStyle\":0,\"fFrameLineStyle\":1,\"fFrameLineWidth\":1,\"fFrameBorderSize\":1,\"fFrameBorderMode\":0,\"fX1\":3.84615347142049,\"fY1\":-58.8531660833522,\"fX2\":221.794872919072,\"fY2\":431.589877303078,\"fXtoAbsPixelk\":-13.1646545091671,\"fXtoPixelk\":-13.1646545091671,\"fXtoPixel\":3.42282350587144,\"fYtoAbsPixelk\":415.360049155998,\"fYtoPixelk\":415.360049155998,\"fYtoPixel\":-0.962395137141544,\"fUtoAbsPixelk\":5e-5,\"fUtoPixelk\":5e-5,\"fUtoPixel\":746,\"fVtoAbsPixelk\":472.00005,\"fVtoPixelk\":472,\"fVtoPixel\":-472,\"fAbsPixeltoXk\":3.84615347142049,\"fPixeltoXk\":3.84615347142049,\"fPixeltoX\":0.292156460385592,\"fAbsPixeltoYk\":431.589877303078,\"fPixeltoYk\":-58.8531660833522,\"fPixeltoY\":-1.03907424446278,\"fXlowNDC\":0,\"fYlowNDC\":0,\"fXUpNDC\":0,\"fYUpNDC\":0,\"fWNDC\":1,\"fHNDC\":1,\"fAbsXlowNDC\":0,\"fAbsYlowNDC\":0,\"fAbsWNDC\":1,\"fAbsHNDC\":1,\"fUxmin\":30,\"fUymin\":0,\"fUxmax\":200,\"fUymax\":387.45,\"fTheta\":30,\"fPhi\":30,\"fAspectRatio\":0,\"fNumber\":0,\"fTickx\":1,\"fTicky\":1,\"fLogx\":0,\"fLogy\":0,\"fLogz\":0,\"fPadPaint\":0,\"fCrosshair\":0,\"fCrosshairPos\":0,\"fBorderSize\":2,\"fBorderMode\":0,\"fModified\":true,\"fGridx\":false,\"fGridy\":false,\"fAbsCoord\":false,\"fEditable\":true,\"fFixedAspectRatio\":false,\"fPrimitives\":{\"_typename\":\"TList\",\"name\":\"TList\",\"arr\":[{\"_typename\":\"TFrame\",\"fUniqueID\":0,\"fBits\":50331656,\"fLineColor\":1,\"fLineStyle\":1,\"fLineWidth\":1,\"fFillColor\":0,\"fFillStyle\":0,\"fX1\":30,\"fY1\":0,\"fX2\":200,\"fY2\":387.45,\"fBorderSize\":1,\"fBorderMode\":0},{\"_typename\":\"TH1F\",\"fUniqueID\":0,\"fBits\":50332168,\"fName\":\"WCandMass_WHiggs\",\"fTitle\":\"ttHTobb WCandMass_WHiggs\",\"fLineColor\":600,\"fLineStyle\":0,\"fLineWidth\":2,\"fFillColor\":0,\"fFillStyle\":1001,\"fMarkerColor\":1,\"fMarkerStyle\":1,\"fMarkerSize\":1,\"fNcells\":62,\"fXaxis\":{\"_typename\":\"TAxis\",\"fUniqueID\":0,\"fBits\":50333704,\"fName\":\"xaxis\",\"fTitle\":\"W candidate mass [GeV]\",\"fNdivisions\":510,\"fAxisColor\":1,\"fLabelColor\":1,\"fLabelFont\":42,\"fLabelOffset\":0.007,\"fLabelSize\":0.05,\"fTickLength\":0.03,\"fTitleOffset\":0.9,\"fTitleSize\":0.06,\"fTitleColor\":1,\"fTitleFont\":42,\"fNbins\":60,\"fXmin\":0,\"fXmax\":300,\"fXbins\":[],\"fFirst\":7,\"fLast\":40,\"fBits2\":0,\"fTimeDisplay\":false,\"fTimeFormat\":\"\",\"fLabels\":null,\"fModLabs\":null},\"fYaxis\":{\"_typename\":\"TAxis\",\"fUniqueID\":0,\"fBits\":50331656,\"fName\":\"yaxis\",\"fTitle\":\"Events \\/ 5.0\",\"fNdivisions\":510,\"fAxisColor\":1,\"fLabelColor\":1,\"fLabelFont\":42,\"fLabelOffset\":0.007,\"fLabelSize\":0.05,\"fTickLength\":0.03,\"fTitleOffset\":0.9,\"fTitleSize\":0.06,\"fTitleColor\":1,\"fTitleFont\":42,\"fNbins\":1,\"fXmin\":0,\"fXmax\":1,\"fXbins\":[],\"fFirst\":0,\"fLast\":0,\"fBits2\":0,\"fTimeDisplay\":false,\"fTimeFormat\":\"\",\"fLabels\":null,\"fModLabs\":null},\"fZaxis\":{\"_typename\":\"TAxis\",\"fUniqueID\":0,\"fBits\":50331648,\"fName\":\"zaxis\",\"fTitle\":\"\",\"fNdivisions\":510,\"fAxisColor\":1,\"fLabelColor\":1,\"fLabelFont\":42,\"fLabelOffset\":0.007,\"fLabelSize\":0.05,\"fTickLength\":0.03,\"fTitleOffset\":1,\"fTitleSize\":0.06,\"fTitleColor\":1,\"fTitleFont\":42,\"fNbins\":1,\"fXmin\":0,\"fXmax\":1,\"fXbins\":[],\"fFirst\":0,\"fLast\":0,\"fBits2\":0,\"fTimeDisplay\":false,\"fTimeFormat\":\"\",\"fLabels\":null,\"fModLabs\":null},\"fBarOffset\":0,\"fBarWidth\":1000,\"fEntries\":4642,\"fTsumw\":4315,\"fTsumw2\":4315,\"fTsumwx\":428612.5,\"fTsumwx2\":46647268.75,\"fMaximum\":-1111,\"fMinimum\":-1111,\"fNormFactor\":0,\"fContour\":[],\"fSumw2\":[],\"fOption\":\"\",\"fFunctions\":{\"_typename\":\"TList\",\"name\":\"TList\",\"arr\":[],\"opt\":[]},\"fBufferSize\":0,\"fBuffer\":[],\"fBinStatErrOpt\":0,\"fStatOverflows\":2,\"fArray\":[54,183,6,1,3,5,14,19,20,47,63,84,121,122,184,227,273,327,369,306,304,258,212,195,173,179,145,120,95,95,75,62,51,42,42,26,19,19,15,16,10,7,6,10,3,5,6,1,3,2,1,1,1,2,1,1,0,0,0,1,1,9]},{\"_typename\":\"TLatex\",\"fUniqueID\":0,\"fBits\":50348041,\"fName\":\"\",\"fTitle\":\"\",\"fTextAngle\":0,\"fTextSize\":0.054,\"fTextAlign\":31,\"fTextColor\":1,\"fTextFont\":42,\"fX\":0.899999998509884,\"fY\":0.927999997138977,\"fLineColor\":1,\"fLineStyle\":1,\"fLineWidth\":2,\"fLimitFactorSize\":3,\"fOriginSize\":0.04},{\"_typename\":\"TLatex\",\"fUniqueID\":0,\"fBits\":50348041,\"fName\":\"\",\"fTitle\":\"CMS\",\"fTextAngle\":0,\"fTextSize\":0.063,\"fTextAlign\":11,\"fTextColor\":1,\"fTextFont\":61,\"fX\":0.119999997317791,\"fY\":0.927999997138977,\"fLineColor\":1,\"fLineStyle\":1,\"fLineWidth\":2,\"fLimitFactorSize\":3,\"fOriginSize\":0.04},{\"_typename\":\"TLatex\",\"fUniqueID\":0,\"fBits\":50348041,\"fName\":\"\",\"fTitle\":\"Simulation Preliminary\",\"fTextAngle\":0,\"fTextSize\":0.0441,\"fTextAlign\":11,\"fTextColor\":1,\"fTextFont\":52,\"fX\":0.213599997460842,\"fY\":0.927999997138977,\"fLineColor\":1,\"fLineStyle\":1,\"fLineWidth\":2,\"fLimitFactorSize\":3,\"fOriginSize\":0.0441000014543533}],\"opt\":[\"\",\"hist\",\"\",\"\",\"\"]},\"fExecs\":null,\"fName\":\"cWCandMass_WHiggsttHTobb\",\"fTitle\":\"cWCandMass_WHiggsttHTobb\",\"fNumPaletteColor\":0,\"fNextPaletteColor\":0,\"fDISPLAY\":\"$DISPLAY\",\"fDoubleBuffer\":0,\"fRetained\":true,\"fXsizeUser\":0,\"fYsizeUser\":0,\"fXsizeReal\":20,\"fYsizeReal\":13.33333,\"fWindowTopX\":0,\"fWindowTopY\":0,\"fWindowWidth\":0,\"fWindowHeight\":0,\"fCw\":746,\"fCh\":472,\"fCatt\":{\"_typename\":\"TAttCanvas\",\"fXBetween\":2,\"fYBetween\":2,\"fTitleFromTop\":1.2,\"fXdate\":0.2,\"fYdate\":0.3,\"fAdate\":1},\"kMoveOpaque\":true,\"kResizeOpaque\":true,\"fHighLightColor\":2,\"fBatch\":true,\"kShowEventStatus\":false,\"kAutoExec\":true,\"kMenuBar\":true});\n",
       "       Core.draw(\"root_plot_27\", obj, \"\");\n",
       "     }\n",
       " );\n",
       "</script>\n"
      ],
      "text/plain": [
       "<IPython.core.display.HTML object>"
      ]
     },
     "metadata": {},
     "output_type": "display_data"
    },
    {
     "data": {
      "text/html": [
       "\n",
       "<div id=\"root_plot_28\"\n",
       "     style=\"width: 746px; height: 472px\">\n",
       "</div>\n",
       "\n",
       "<script>\n",
       " requirejs.config({\n",
       "     paths: {\n",
       "       'JSRootCore' : 'https://root.cern.ch/js/notebook//scripts/JSRootCore',\n",
       "     }\n",
       "   });\n",
       " require(['JSRootCore'],\n",
       "     function(Core) {\n",
       "       var obj = Core.JSONR_unref({\"_typename\":\"TCanvas\",\"fUniqueID\":0,\"fBits\":53673992,\"fLineColor\":1,\"fLineStyle\":1,\"fLineWidth\":1,\"fFillColor\":0,\"fFillStyle\":1001,\"fLeftMargin\":0.12,\"fRightMargin\":0.1,\"fBottomMargin\":0.12,\"fTopMargin\":0.09,\"fXfile\":2,\"fYfile\":2,\"fAfile\":1,\"fXstat\":0.99,\"fYstat\":0.99,\"fAstat\":2,\"fFrameFillColor\":0,\"fFrameLineColor\":1,\"fFrameFillStyle\":0,\"fFrameLineStyle\":1,\"fFrameLineWidth\":1,\"fFrameBorderSize\":1,\"fFrameBorderMode\":0,\"fX1\":3.84615347142049,\"fY1\":-330.311400971876,\"fX2\":221.794872919072,\"fY2\":2422.28356611023,\"fXtoAbsPixelk\":-13.1646545091671,\"fXtoPixelk\":-13.1646545091671,\"fXtoPixel\":3.42282350587144,\"fYtoAbsPixelk\":415.360049155998,\"fYtoPixelk\":415.360049155998,\"fYtoPixel\":-0.1714745560624,\"fUtoAbsPixelk\":5e-5,\"fUtoPixelk\":5e-5,\"fUtoPixel\":746,\"fVtoAbsPixelk\":472.00005,\"fVtoPixelk\":472,\"fVtoPixel\":-472,\"fAbsPixeltoXk\":3.84615347142049,\"fPixeltoXk\":3.84615347142049,\"fPixeltoX\":0.292156460385592,\"fAbsPixeltoYk\":2422.28356611023,\"fPixeltoYk\":-330.311400971876,\"fPixeltoY\":-5.83176899805531,\"fXlowNDC\":0,\"fYlowNDC\":0,\"fXUpNDC\":0,\"fYUpNDC\":0,\"fWNDC\":1,\"fHNDC\":1,\"fAbsXlowNDC\":0,\"fAbsYlowNDC\":0,\"fAbsWNDC\":1,\"fAbsHNDC\":1,\"fUxmin\":30,\"fUymin\":0,\"fUxmax\":200,\"fUymax\":2174.55,\"fTheta\":30,\"fPhi\":30,\"fAspectRatio\":0,\"fNumber\":0,\"fTickx\":1,\"fTicky\":1,\"fLogx\":0,\"fLogy\":0,\"fLogz\":0,\"fPadPaint\":0,\"fCrosshair\":0,\"fCrosshairPos\":0,\"fBorderSize\":2,\"fBorderMode\":0,\"fModified\":true,\"fGridx\":false,\"fGridy\":false,\"fAbsCoord\":false,\"fEditable\":true,\"fFixedAspectRatio\":false,\"fPrimitives\":{\"_typename\":\"TList\",\"name\":\"TList\",\"arr\":[{\"_typename\":\"TFrame\",\"fUniqueID\":0,\"fBits\":50331656,\"fLineColor\":1,\"fLineStyle\":1,\"fLineWidth\":1,\"fFillColor\":0,\"fFillStyle\":0,\"fX1\":30,\"fY1\":0,\"fX2\":200,\"fY2\":2174.55,\"fBorderSize\":1,\"fBorderMode\":0},{\"_typename\":\"TH1F\",\"fUniqueID\":0,\"fBits\":50332168,\"fName\":\"WCandMass_WHiggs\",\"fTitle\":\"TTToSemiLeptonic WCandMass_WHiggs\",\"fLineColor\":600,\"fLineStyle\":0,\"fLineWidth\":2,\"fFillColor\":0,\"fFillStyle\":1001,\"fMarkerColor\":1,\"fMarkerStyle\":1,\"fMarkerSize\":1,\"fNcells\":62,\"fXaxis\":{\"_typename\":\"TAxis\",\"fUniqueID\":0,\"fBits\":50333704,\"fName\":\"xaxis\",\"fTitle\":\"W candidate mass [GeV]\",\"fNdivisions\":510,\"fAxisColor\":1,\"fLabelColor\":1,\"fLabelFont\":42,\"fLabelOffset\":0.007,\"fLabelSize\":0.05,\"fTickLength\":0.03,\"fTitleOffset\":0.9,\"fTitleSize\":0.06,\"fTitleColor\":1,\"fTitleFont\":42,\"fNbins\":60,\"fXmin\":0,\"fXmax\":300,\"fXbins\":[],\"fFirst\":7,\"fLast\":40,\"fBits2\":0,\"fTimeDisplay\":false,\"fTimeFormat\":\"\",\"fLabels\":null,\"fModLabs\":null},\"fYaxis\":{\"_typename\":\"TAxis\",\"fUniqueID\":0,\"fBits\":50331656,\"fName\":\"yaxis\",\"fTitle\":\"Events \\/ 5.0\",\"fNdivisions\":510,\"fAxisColor\":1,\"fLabelColor\":1,\"fLabelFont\":42,\"fLabelOffset\":0.007,\"fLabelSize\":0.05,\"fTickLength\":0.03,\"fTitleOffset\":0.9,\"fTitleSize\":0.06,\"fTitleColor\":1,\"fTitleFont\":42,\"fNbins\":1,\"fXmin\":0,\"fXmax\":1,\"fXbins\":[],\"fFirst\":0,\"fLast\":0,\"fBits2\":0,\"fTimeDisplay\":false,\"fTimeFormat\":\"\",\"fLabels\":null,\"fModLabs\":null},\"fZaxis\":{\"_typename\":\"TAxis\",\"fUniqueID\":0,\"fBits\":50331648,\"fName\":\"zaxis\",\"fTitle\":\"\",\"fNdivisions\":510,\"fAxisColor\":1,\"fLabelColor\":1,\"fLabelFont\":42,\"fLabelOffset\":0.007,\"fLabelSize\":0.05,\"fTickLength\":0.03,\"fTitleOffset\":1,\"fTitleSize\":0.06,\"fTitleColor\":1,\"fTitleFont\":42,\"fNbins\":1,\"fXmin\":0,\"fXmax\":1,\"fXbins\":[],\"fFirst\":0,\"fLast\":0,\"fBits2\":0,\"fTimeDisplay\":false,\"fTimeFormat\":\"\",\"fLabels\":null,\"fModLabs\":null},\"fBarOffset\":0,\"fBarWidth\":1000,\"fEntries\":21589,\"fTsumw\":20464,\"fTsumw2\":20464,\"fTsumwx\":1990585,\"fTsumwx2\":210160850,\"fMaximum\":-1111,\"fMinimum\":-1111,\"fNormFactor\":0,\"fContour\":[],\"fSumw2\":[],\"fOption\":\"\",\"fFunctions\":{\"_typename\":\"TList\",\"name\":\"TList\",\"arr\":[],\"opt\":[]},\"fBufferSize\":0,\"fBuffer\":[],\"fBinStatErrOpt\":0,\"fStatOverflows\":2,\"fArray\":[193,719,13,1,11,15,26,34,72,147,197,333,446,651,863,1170,1611,1978,2071,1815,1458,1093,965,852,770,655,600,464,427,352,308,227,172,144,139,104,101,83,70,65,27,24,16,13,16,12,6,7,4,10,4,0,2,8,0,5,2,1,1,1,1,14]},{\"_typename\":\"TLatex\",\"fUniqueID\":0,\"fBits\":50348041,\"fName\":\"\",\"fTitle\":\"\",\"fTextAngle\":0,\"fTextSize\":0.054,\"fTextAlign\":31,\"fTextColor\":1,\"fTextFont\":42,\"fX\":0.899999998509884,\"fY\":0.927999997138977,\"fLineColor\":1,\"fLineStyle\":1,\"fLineWidth\":2,\"fLimitFactorSize\":3,\"fOriginSize\":0.04},{\"_typename\":\"TLatex\",\"fUniqueID\":0,\"fBits\":50348041,\"fName\":\"\",\"fTitle\":\"CMS\",\"fTextAngle\":0,\"fTextSize\":0.063,\"fTextAlign\":11,\"fTextColor\":1,\"fTextFont\":61,\"fX\":0.119999997317791,\"fY\":0.927999997138977,\"fLineColor\":1,\"fLineStyle\":1,\"fLineWidth\":2,\"fLimitFactorSize\":3,\"fOriginSize\":0.04},{\"_typename\":\"TLatex\",\"fUniqueID\":0,\"fBits\":50348041,\"fName\":\"\",\"fTitle\":\"Simulation Preliminary\",\"fTextAngle\":0,\"fTextSize\":0.0441,\"fTextAlign\":11,\"fTextColor\":1,\"fTextFont\":52,\"fX\":0.213599997460842,\"fY\":0.927999997138977,\"fLineColor\":1,\"fLineStyle\":1,\"fLineWidth\":2,\"fLimitFactorSize\":3,\"fOriginSize\":0.0441000014543533}],\"opt\":[\"\",\"hist\",\"\",\"\",\"\"]},\"fExecs\":null,\"fName\":\"cWCandMass_WHiggsTTToSemiLeptonic\",\"fTitle\":\"cWCandMass_WHiggsTTToSemiLeptonic\",\"fNumPaletteColor\":0,\"fNextPaletteColor\":0,\"fDISPLAY\":\"$DISPLAY\",\"fDoubleBuffer\":0,\"fRetained\":true,\"fXsizeUser\":0,\"fYsizeUser\":0,\"fXsizeReal\":20,\"fYsizeReal\":13.33333,\"fWindowTopX\":0,\"fWindowTopY\":0,\"fWindowWidth\":0,\"fWindowHeight\":0,\"fCw\":746,\"fCh\":472,\"fCatt\":{\"_typename\":\"TAttCanvas\",\"fXBetween\":2,\"fYBetween\":2,\"fTitleFromTop\":1.2,\"fXdate\":0.2,\"fYdate\":0.3,\"fAdate\":1},\"kMoveOpaque\":true,\"kResizeOpaque\":true,\"fHighLightColor\":2,\"fBatch\":true,\"kShowEventStatus\":false,\"kAutoExec\":true,\"kMenuBar\":true});\n",
       "       Core.draw(\"root_plot_28\", obj, \"\");\n",
       "     }\n",
       " );\n",
       "</script>\n"
      ],
      "text/plain": [
       "<IPython.core.display.HTML object>"
      ]
     },
     "metadata": {},
     "output_type": "display_data"
    },
    {
     "data": {
      "text/html": [
       "\n",
       "<div id=\"root_plot_29\"\n",
       "     style=\"width: 746px; height: 472px\">\n",
       "</div>\n",
       "\n",
       "<script>\n",
       " requirejs.config({\n",
       "     paths: {\n",
       "       'JSRootCore' : 'https://root.cern.ch/js/notebook//scripts/JSRootCore',\n",
       "     }\n",
       "   });\n",
       " require(['JSRootCore'],\n",
       "     function(Core) {\n",
       "       var obj = Core.JSONR_unref({\"_typename\":\"TCanvas\",\"fUniqueID\":0,\"fBits\":53673992,\"fLineColor\":1,\"fLineStyle\":1,\"fLineWidth\":1,\"fFillColor\":0,\"fFillStyle\":1001,\"fLeftMargin\":0.12,\"fRightMargin\":0.1,\"fBottomMargin\":0.12,\"fTopMargin\":0.09,\"fXfile\":2,\"fYfile\":2,\"fAfile\":1,\"fXstat\":0.99,\"fYstat\":0.99,\"fAstat\":2,\"fFrameFillColor\":0,\"fFrameLineColor\":1,\"fFrameFillStyle\":0,\"fFrameLineStyle\":1,\"fFrameLineWidth\":1,\"fFrameBorderSize\":1,\"fFrameBorderMode\":0,\"fX1\":-11.5384621336263,\"fY1\":-45.6151910564735,\"fX2\":334.615386400879,\"fY2\":334.511395416478,\"fXtoAbsPixelk\":24.8667177782933,\"fXtoPixelk\":24.8667177782933,\"fXtoPixel\":2.15511109628942,\"fYtoAbsPixelk\":415.360049155998,\"fYtoPixelk\":415.360049155998,\"fYtoPixel\":-1.24169162799031,\"fUtoAbsPixelk\":5e-5,\"fUtoPixelk\":5e-5,\"fUtoPixel\":746,\"fVtoAbsPixelk\":472.00005,\"fVtoPixelk\":472,\"fVtoPixel\":-472,\"fAbsPixeltoXk\":-11.5384621336263,\"fPixeltoXk\":-11.5384621336263,\"fPixeltoX\":0.464013201788881,\"fAbsPixeltoYk\":334.511395416478,\"fPixeltoYk\":-45.6151910564735,\"fPixeltoY\":-0.805352937442694,\"fXlowNDC\":0,\"fYlowNDC\":0,\"fXUpNDC\":0,\"fYUpNDC\":0,\"fWNDC\":1,\"fHNDC\":1,\"fAbsXlowNDC\":0,\"fAbsYlowNDC\":0,\"fAbsWNDC\":1,\"fAbsHNDC\":1,\"fUxmin\":30,\"fUymin\":0,\"fUxmax\":300,\"fUymax\":300.3,\"fTheta\":30,\"fPhi\":30,\"fAspectRatio\":0,\"fNumber\":0,\"fTickx\":1,\"fTicky\":1,\"fLogx\":0,\"fLogy\":0,\"fLogz\":0,\"fPadPaint\":0,\"fCrosshair\":0,\"fCrosshairPos\":0,\"fBorderSize\":2,\"fBorderMode\":0,\"fModified\":true,\"fGridx\":false,\"fGridy\":false,\"fAbsCoord\":false,\"fEditable\":true,\"fFixedAspectRatio\":false,\"fPrimitives\":{\"_typename\":\"TList\",\"name\":\"TList\",\"arr\":[{\"_typename\":\"TFrame\",\"fUniqueID\":0,\"fBits\":50331656,\"fLineColor\":1,\"fLineStyle\":1,\"fLineWidth\":1,\"fFillColor\":0,\"fFillStyle\":0,\"fX1\":30,\"fY1\":0,\"fX2\":300,\"fY2\":300.3,\"fBorderSize\":1,\"fBorderMode\":0},{\"_typename\":\"TH1F\",\"fUniqueID\":0,\"fBits\":50332168,\"fName\":\"lepTopCandMass_boostedW\",\"fTitle\":\"ttHTobb lepTopCandMass_boostedW\",\"fLineColor\":600,\"fLineStyle\":0,\"fLineWidth\":2,\"fFillColor\":0,\"fFillStyle\":1001,\"fMarkerColor\":1,\"fMarkerStyle\":1,\"fMarkerSize\":1,\"fNcells\":62,\"fXaxis\":{\"_typename\":\"TAxis\",\"fUniqueID\":0,\"fBits\":50333704,\"fName\":\"xaxis\",\"fTitle\":\"Top candidate mass [GeV]\",\"fNdivisions\":510,\"fAxisColor\":1,\"fLabelColor\":1,\"fLabelFont\":42,\"fLabelOffset\":0.007,\"fLabelSize\":0.05,\"fTickLength\":0.03,\"fTitleOffset\":0.9,\"fTitleSize\":0.06,\"fTitleColor\":1,\"fTitleFont\":42,\"fNbins\":60,\"fXmin\":0,\"fXmax\":300,\"fXbins\":[],\"fFirst\":7,\"fLast\":60,\"fBits2\":0,\"fTimeDisplay\":false,\"fTimeFormat\":\"\",\"fLabels\":null,\"fModLabs\":null},\"fYaxis\":{\"_typename\":\"TAxis\",\"fUniqueID\":0,\"fBits\":50331656,\"fName\":\"yaxis\",\"fTitle\":\"Events \\/ 5.0\",\"fNdivisions\":510,\"fAxisColor\":1,\"fLabelColor\":1,\"fLabelFont\":42,\"fLabelOffset\":0.007,\"fLabelSize\":0.05,\"fTickLength\":0.03,\"fTitleOffset\":0.9,\"fTitleSize\":0.06,\"fTitleColor\":1,\"fTitleFont\":42,\"fNbins\":1,\"fXmin\":0,\"fXmax\":1,\"fXbins\":[],\"fFirst\":0,\"fLast\":0,\"fBits2\":0,\"fTimeDisplay\":false,\"fTimeFormat\":\"\",\"fLabels\":null,\"fModLabs\":null},\"fZaxis\":{\"_typename\":\"TAxis\",\"fUniqueID\":0,\"fBits\":50331648,\"fName\":\"zaxis\",\"fTitle\":\"\",\"fNdivisions\":510,\"fAxisColor\":1,\"fLabelColor\":1,\"fLabelFont\":42,\"fLabelOffset\":0.007,\"fLabelSize\":0.05,\"fTickLength\":0.03,\"fTitleOffset\":1,\"fTitleSize\":0.06,\"fTitleColor\":1,\"fTitleFont\":42,\"fNbins\":1,\"fXmin\":0,\"fXmax\":1,\"fXbins\":[],\"fFirst\":0,\"fLast\":0,\"fBits2\":0,\"fTimeDisplay\":false,\"fTimeFormat\":\"\",\"fLabels\":null,\"fModLabs\":null},\"fBarOffset\":0,\"fBarWidth\":1000,\"fEntries\":13736,\"fTsumw\":7783,\"fTsumw2\":7783,\"fTsumwx\":1661712.5,\"fTsumwx2\":372485993.75,\"fMaximum\":-1111,\"fMinimum\":-1111,\"fNormFactor\":0,\"fContour\":[],\"fSumw2\":[],\"fOption\":\"\",\"fFunctions\":{\"_typename\":\"TList\",\"name\":\"TList\",\"arr\":[],\"opt\":[]},\"fBufferSize\":0,\"fBuffer\":[],\"fBinStatErrOpt\":0,\"fStatOverflows\":2,\"fArray\":[0,0,0,0,0,0,0,0,0,0,0,0,0,0,0,0,0,0,1,1,9,13,28,25,50,55,85,92,110,128,179,183,202,212,262,255,258,274,249,263,276,280,286,246,252,252,218,237,247,243,249,232,222,220,205,201,203,215,191,209,165,5953]},{\"_typename\":\"TLatex\",\"fUniqueID\":0,\"fBits\":50348041,\"fName\":\"\",\"fTitle\":\"\",\"fTextAngle\":0,\"fTextSize\":0.054,\"fTextAlign\":31,\"fTextColor\":1,\"fTextFont\":42,\"fX\":0.899999998509884,\"fY\":0.927999997138977,\"fLineColor\":1,\"fLineStyle\":1,\"fLineWidth\":2,\"fLimitFactorSize\":3,\"fOriginSize\":0.04},{\"_typename\":\"TLatex\",\"fUniqueID\":0,\"fBits\":50348041,\"fName\":\"\",\"fTitle\":\"CMS\",\"fTextAngle\":0,\"fTextSize\":0.063,\"fTextAlign\":11,\"fTextColor\":1,\"fTextFont\":61,\"fX\":0.119999997317791,\"fY\":0.927999997138977,\"fLineColor\":1,\"fLineStyle\":1,\"fLineWidth\":2,\"fLimitFactorSize\":3,\"fOriginSize\":0.04},{\"_typename\":\"TLatex\",\"fUniqueID\":0,\"fBits\":50348041,\"fName\":\"\",\"fTitle\":\"Simulation Preliminary\",\"fTextAngle\":0,\"fTextSize\":0.0441,\"fTextAlign\":11,\"fTextColor\":1,\"fTextFont\":52,\"fX\":0.213599997460842,\"fY\":0.927999997138977,\"fLineColor\":1,\"fLineStyle\":1,\"fLineWidth\":2,\"fLimitFactorSize\":3,\"fOriginSize\":0.0441000014543533}],\"opt\":[\"\",\"hist\",\"\",\"\",\"\"]},\"fExecs\":null,\"fName\":\"clepTopCandMass_boostedWttHTobb\",\"fTitle\":\"clepTopCandMass_boostedWttHTobb\",\"fNumPaletteColor\":0,\"fNextPaletteColor\":0,\"fDISPLAY\":\"$DISPLAY\",\"fDoubleBuffer\":0,\"fRetained\":true,\"fXsizeUser\":0,\"fYsizeUser\":0,\"fXsizeReal\":20,\"fYsizeReal\":13.33333,\"fWindowTopX\":0,\"fWindowTopY\":0,\"fWindowWidth\":0,\"fWindowHeight\":0,\"fCw\":746,\"fCh\":472,\"fCatt\":{\"_typename\":\"TAttCanvas\",\"fXBetween\":2,\"fYBetween\":2,\"fTitleFromTop\":1.2,\"fXdate\":0.2,\"fYdate\":0.3,\"fAdate\":1},\"kMoveOpaque\":true,\"kResizeOpaque\":true,\"fHighLightColor\":2,\"fBatch\":true,\"kShowEventStatus\":false,\"kAutoExec\":true,\"kMenuBar\":true});\n",
       "       Core.draw(\"root_plot_29\", obj, \"\");\n",
       "     }\n",
       " );\n",
       "</script>\n"
      ],
      "text/plain": [
       "<IPython.core.display.HTML object>"
      ]
     },
     "metadata": {},
     "output_type": "display_data"
    },
    {
     "data": {
      "text/html": [
       "\n",
       "<div id=\"root_plot_30\"\n",
       "     style=\"width: 746px; height: 472px\">\n",
       "</div>\n",
       "\n",
       "<script>\n",
       " requirejs.config({\n",
       "     paths: {\n",
       "       'JSRootCore' : 'https://root.cern.ch/js/notebook//scripts/JSRootCore',\n",
       "     }\n",
       "   });\n",
       " require(['JSRootCore'],\n",
       "     function(Core) {\n",
       "       var obj = Core.JSONR_unref({\"_typename\":\"TCanvas\",\"fUniqueID\":0,\"fBits\":53673992,\"fLineColor\":1,\"fLineStyle\":1,\"fLineWidth\":1,\"fFillColor\":0,\"fFillStyle\":1001,\"fLeftMargin\":0.12,\"fRightMargin\":0.1,\"fBottomMargin\":0.12,\"fTopMargin\":0.09,\"fXfile\":2,\"fYfile\":2,\"fAfile\":1,\"fXstat\":0.99,\"fYstat\":0.99,\"fAstat\":2,\"fFrameFillColor\":0,\"fFrameLineColor\":1,\"fFrameFillStyle\":0,\"fFrameLineStyle\":1,\"fFrameLineWidth\":1,\"fFrameBorderSize\":1,\"fFrameBorderMode\":0,\"fX1\":-11.5384621336263,\"fY1\":-218.027853755942,\"fX2\":334.615386400879,\"fY2\":1598.87090046967,\"fXtoAbsPixelk\":24.8667177782933,\"fXtoPixelk\":24.8667177782933,\"fXtoPixel\":2.15511109628942,\"fYtoAbsPixelk\":415.360049155998,\"fYtoPixelk\":415.360049155998,\"fYtoPixel\":-0.259783325241573,\"fUtoAbsPixelk\":5e-5,\"fUtoPixelk\":5e-5,\"fUtoPixel\":746,\"fVtoAbsPixelk\":472.00005,\"fVtoPixelk\":472,\"fVtoPixel\":-472,\"fAbsPixeltoXk\":-11.5384621336263,\"fPixeltoXk\":-11.5384621336263,\"fPixeltoX\":0.464013201788881,\"fAbsPixeltoYk\":1598.87090046967,\"fPixeltoYk\":-218.027853755942,\"fPixeltoY\":-3.84936176742714,\"fXlowNDC\":0,\"fYlowNDC\":0,\"fXUpNDC\":0,\"fYUpNDC\":0,\"fWNDC\":1,\"fHNDC\":1,\"fAbsXlowNDC\":0,\"fAbsYlowNDC\":0,\"fAbsWNDC\":1,\"fAbsHNDC\":1,\"fUxmin\":30,\"fUymin\":0,\"fUxmax\":300,\"fUymax\":1435.35,\"fTheta\":30,\"fPhi\":30,\"fAspectRatio\":0,\"fNumber\":0,\"fTickx\":1,\"fTicky\":1,\"fLogx\":0,\"fLogy\":0,\"fLogz\":0,\"fPadPaint\":0,\"fCrosshair\":0,\"fCrosshairPos\":0,\"fBorderSize\":2,\"fBorderMode\":0,\"fModified\":true,\"fGridx\":false,\"fGridy\":false,\"fAbsCoord\":false,\"fEditable\":true,\"fFixedAspectRatio\":false,\"fPrimitives\":{\"_typename\":\"TList\",\"name\":\"TList\",\"arr\":[{\"_typename\":\"TFrame\",\"fUniqueID\":0,\"fBits\":50331656,\"fLineColor\":1,\"fLineStyle\":1,\"fLineWidth\":1,\"fFillColor\":0,\"fFillStyle\":0,\"fX1\":30,\"fY1\":0,\"fX2\":300,\"fY2\":1435.35,\"fBorderSize\":1,\"fBorderMode\":0},{\"_typename\":\"TH1F\",\"fUniqueID\":0,\"fBits\":50332168,\"fName\":\"lepTopCandMass_boostedW\",\"fTitle\":\"TTToSemiLeptonic lepTopCandMass_boostedW\",\"fLineColor\":600,\"fLineStyle\":0,\"fLineWidth\":2,\"fFillColor\":0,\"fFillStyle\":1001,\"fMarkerColor\":1,\"fMarkerStyle\":1,\"fMarkerSize\":1,\"fNcells\":62,\"fXaxis\":{\"_typename\":\"TAxis\",\"fUniqueID\":0,\"fBits\":50333704,\"fName\":\"xaxis\",\"fTitle\":\"Top candidate mass [GeV]\",\"fNdivisions\":510,\"fAxisColor\":1,\"fLabelColor\":1,\"fLabelFont\":42,\"fLabelOffset\":0.007,\"fLabelSize\":0.05,\"fTickLength\":0.03,\"fTitleOffset\":0.9,\"fTitleSize\":0.06,\"fTitleColor\":1,\"fTitleFont\":42,\"fNbins\":60,\"fXmin\":0,\"fXmax\":300,\"fXbins\":[],\"fFirst\":7,\"fLast\":60,\"fBits2\":0,\"fTimeDisplay\":false,\"fTimeFormat\":\"\",\"fLabels\":null,\"fModLabs\":null},\"fYaxis\":{\"_typename\":\"TAxis\",\"fUniqueID\":0,\"fBits\":50331656,\"fName\":\"yaxis\",\"fTitle\":\"Events \\/ 5.0\",\"fNdivisions\":510,\"fAxisColor\":1,\"fLabelColor\":1,\"fLabelFont\":42,\"fLabelOffset\":0.007,\"fLabelSize\":0.05,\"fTickLength\":0.03,\"fTitleOffset\":0.9,\"fTitleSize\":0.06,\"fTitleColor\":1,\"fTitleFont\":42,\"fNbins\":1,\"fXmin\":0,\"fXmax\":1,\"fXbins\":[],\"fFirst\":0,\"fLast\":0,\"fBits2\":0,\"fTimeDisplay\":false,\"fTimeFormat\":\"\",\"fLabels\":null,\"fModLabs\":null},\"fZaxis\":{\"_typename\":\"TAxis\",\"fUniqueID\":0,\"fBits\":50331648,\"fName\":\"zaxis\",\"fTitle\":\"\",\"fNdivisions\":510,\"fAxisColor\":1,\"fLabelColor\":1,\"fLabelFont\":42,\"fLabelOffset\":0.007,\"fLabelSize\":0.05,\"fTickLength\":0.03,\"fTitleOffset\":1,\"fTitleSize\":0.06,\"fTitleColor\":1,\"fTitleFont\":42,\"fNbins\":1,\"fXmin\":0,\"fXmax\":1,\"fXbins\":[],\"fFirst\":0,\"fLast\":0,\"fBits2\":0,\"fTimeDisplay\":false,\"fTimeFormat\":\"\",\"fLabels\":null,\"fModLabs\":null},\"fBarOffset\":0,\"fBarWidth\":1000,\"fEntries\":35702,\"fTsumw\":26353,\"fTsumw2\":26353,\"fTsumwx\":5130477.5,\"fTsumwx2\":1051840006.25,\"fMaximum\":-1111,\"fMinimum\":-1111,\"fNormFactor\":0,\"fContour\":[],\"fSumw2\":[],\"fOption\":\"\",\"fFunctions\":{\"_typename\":\"TList\",\"name\":\"TList\",\"arr\":[],\"opt\":[]},\"fBufferSize\":0,\"fBuffer\":[],\"fBinStatErrOpt\":0,\"fStatOverflows\":2,\"fArray\":[0,0,0,0,0,0,0,0,0,0,0,0,0,0,0,0,0,0,0,7,23,59,114,148,248,287,417,479,629,749,876,970,1186,1238,1300,1367,1367,1272,1112,1086,979,938,837,758,688,668,587,571,510,533,511,487,476,402,365,404,365,380,341,321,298,9349]},{\"_typename\":\"TLatex\",\"fUniqueID\":0,\"fBits\":50348041,\"fName\":\"\",\"fTitle\":\"\",\"fTextAngle\":0,\"fTextSize\":0.054,\"fTextAlign\":31,\"fTextColor\":1,\"fTextFont\":42,\"fX\":0.899999998509884,\"fY\":0.927999997138977,\"fLineColor\":1,\"fLineStyle\":1,\"fLineWidth\":2,\"fLimitFactorSize\":3,\"fOriginSize\":0.04},{\"_typename\":\"TLatex\",\"fUniqueID\":0,\"fBits\":50348041,\"fName\":\"\",\"fTitle\":\"CMS\",\"fTextAngle\":0,\"fTextSize\":0.063,\"fTextAlign\":11,\"fTextColor\":1,\"fTextFont\":61,\"fX\":0.119999997317791,\"fY\":0.927999997138977,\"fLineColor\":1,\"fLineStyle\":1,\"fLineWidth\":2,\"fLimitFactorSize\":3,\"fOriginSize\":0.04},{\"_typename\":\"TLatex\",\"fUniqueID\":0,\"fBits\":50348041,\"fName\":\"\",\"fTitle\":\"Simulation Preliminary\",\"fTextAngle\":0,\"fTextSize\":0.0441,\"fTextAlign\":11,\"fTextColor\":1,\"fTextFont\":52,\"fX\":0.213599997460842,\"fY\":0.927999997138977,\"fLineColor\":1,\"fLineStyle\":1,\"fLineWidth\":2,\"fLimitFactorSize\":3,\"fOriginSize\":0.0441000014543533}],\"opt\":[\"\",\"hist\",\"\",\"\",\"\"]},\"fExecs\":null,\"fName\":\"clepTopCandMass_boostedWTTToSemiLeptonic\",\"fTitle\":\"clepTopCandMass_boostedWTTToSemiLeptonic\",\"fNumPaletteColor\":0,\"fNextPaletteColor\":0,\"fDISPLAY\":\"$DISPLAY\",\"fDoubleBuffer\":0,\"fRetained\":true,\"fXsizeUser\":0,\"fYsizeUser\":0,\"fXsizeReal\":20,\"fYsizeReal\":13.33333,\"fWindowTopX\":0,\"fWindowTopY\":0,\"fWindowWidth\":0,\"fWindowHeight\":0,\"fCw\":746,\"fCh\":472,\"fCatt\":{\"_typename\":\"TAttCanvas\",\"fXBetween\":2,\"fYBetween\":2,\"fTitleFromTop\":1.2,\"fXdate\":0.2,\"fYdate\":0.3,\"fAdate\":1},\"kMoveOpaque\":true,\"kResizeOpaque\":true,\"fHighLightColor\":2,\"fBatch\":true,\"kShowEventStatus\":false,\"kAutoExec\":true,\"kMenuBar\":true});\n",
       "       Core.draw(\"root_plot_30\", obj, \"\");\n",
       "     }\n",
       " );\n",
       "</script>\n"
      ],
      "text/plain": [
       "<IPython.core.display.HTML object>"
      ]
     },
     "metadata": {},
     "output_type": "display_data"
    },
    {
     "data": {
      "text/html": [
       "\n",
       "<div id=\"root_plot_31\"\n",
       "     style=\"width: 746px; height: 472px\">\n",
       "</div>\n",
       "\n",
       "<script>\n",
       " requirejs.config({\n",
       "     paths: {\n",
       "       'JSRootCore' : 'https://root.cern.ch/js/notebook//scripts/JSRootCore',\n",
       "     }\n",
       "   });\n",
       " require(['JSRootCore'],\n",
       "     function(Core) {\n",
       "       var obj = Core.JSONR_unref({\"_typename\":\"TCanvas\",\"fUniqueID\":0,\"fBits\":53673992,\"fLineColor\":1,\"fLineStyle\":1,\"fLineWidth\":1,\"fFillColor\":0,\"fFillStyle\":1001,\"fLeftMargin\":0.12,\"fRightMargin\":0.1,\"fBottomMargin\":0.12,\"fTopMargin\":0.09,\"fXfile\":2,\"fYfile\":2,\"fAfile\":1,\"fXstat\":0.99,\"fYstat\":0.99,\"fAstat\":2,\"fFrameFillColor\":0,\"fFrameLineColor\":1,\"fFrameFillStyle\":0,\"fFrameLineStyle\":1,\"fFrameLineWidth\":1,\"fFrameBorderSize\":1,\"fFrameBorderMode\":0,\"fX1\":-11.5384621336263,\"fY1\":-42.9037985810887,\"fX2\":334.615386400879,\"fY2\":314.62785093368,\"fXtoAbsPixelk\":24.8667177782933,\"fXtoPixelk\":24.8667177782933,\"fXtoPixel\":2.15511109628942,\"fYtoAbsPixelk\":415.360049155998,\"fYtoPixelk\":415.360049155998,\"fYtoPixel\":-1.3201628461161,\"fUtoAbsPixelk\":5e-5,\"fUtoPixelk\":5e-5,\"fUtoPixel\":746,\"fVtoAbsPixelk\":472.00005,\"fVtoPixelk\":472,\"fVtoPixel\":-472,\"fAbsPixeltoXk\":-11.5384621336263,\"fPixeltoXk\":-11.5384621336263,\"fPixeltoX\":0.464013201788881,\"fAbsPixeltoYk\":314.62785093368,\"fPixeltoYk\":-42.9037985810887,\"fPixeltoY\":-0.757482308294002,\"fXlowNDC\":0,\"fYlowNDC\":0,\"fXUpNDC\":0,\"fYUpNDC\":0,\"fWNDC\":1,\"fHNDC\":1,\"fAbsXlowNDC\":0,\"fAbsYlowNDC\":0,\"fAbsWNDC\":1,\"fAbsHNDC\":1,\"fUxmin\":30,\"fUymin\":0,\"fUxmax\":300,\"fUymax\":282.45,\"fTheta\":30,\"fPhi\":30,\"fAspectRatio\":0,\"fNumber\":0,\"fTickx\":1,\"fTicky\":1,\"fLogx\":0,\"fLogy\":0,\"fLogz\":0,\"fPadPaint\":0,\"fCrosshair\":0,\"fCrosshairPos\":0,\"fBorderSize\":2,\"fBorderMode\":0,\"fModified\":true,\"fGridx\":false,\"fGridy\":false,\"fAbsCoord\":false,\"fEditable\":true,\"fFixedAspectRatio\":false,\"fPrimitives\":{\"_typename\":\"TList\",\"name\":\"TList\",\"arr\":[{\"_typename\":\"TFrame\",\"fUniqueID\":0,\"fBits\":50331656,\"fLineColor\":1,\"fLineStyle\":1,\"fLineWidth\":1,\"fFillColor\":0,\"fFillStyle\":0,\"fX1\":30,\"fY1\":0,\"fX2\":300,\"fY2\":282.45,\"fBorderSize\":1,\"fBorderMode\":0},{\"_typename\":\"TH1F\",\"fUniqueID\":0,\"fBits\":50332168,\"fName\":\"hadTopCandMass_boostedW\",\"fTitle\":\"ttHTobb hadTopCandMass_boostedW\",\"fLineColor\":600,\"fLineStyle\":0,\"fLineWidth\":2,\"fFillColor\":0,\"fFillStyle\":1001,\"fMarkerColor\":1,\"fMarkerStyle\":1,\"fMarkerSize\":1,\"fNcells\":62,\"fXaxis\":{\"_typename\":\"TAxis\",\"fUniqueID\":0,\"fBits\":50333704,\"fName\":\"xaxis\",\"fTitle\":\"Top candidate mass [GeV]\",\"fNdivisions\":510,\"fAxisColor\":1,\"fLabelColor\":1,\"fLabelFont\":42,\"fLabelOffset\":0.007,\"fLabelSize\":0.05,\"fTickLength\":0.03,\"fTitleOffset\":0.9,\"fTitleSize\":0.06,\"fTitleColor\":1,\"fTitleFont\":42,\"fNbins\":60,\"fXmin\":0,\"fXmax\":300,\"fXbins\":[],\"fFirst\":7,\"fLast\":60,\"fBits2\":0,\"fTimeDisplay\":false,\"fTimeFormat\":\"\",\"fLabels\":null,\"fModLabs\":null},\"fYaxis\":{\"_typename\":\"TAxis\",\"fUniqueID\":0,\"fBits\":50331656,\"fName\":\"yaxis\",\"fTitle\":\"Events \\/ 5.0\",\"fNdivisions\":510,\"fAxisColor\":1,\"fLabelColor\":1,\"fLabelFont\":42,\"fLabelOffset\":0.007,\"fLabelSize\":0.05,\"fTickLength\":0.03,\"fTitleOffset\":0.9,\"fTitleSize\":0.06,\"fTitleColor\":1,\"fTitleFont\":42,\"fNbins\":1,\"fXmin\":0,\"fXmax\":1,\"fXbins\":[],\"fFirst\":0,\"fLast\":0,\"fBits2\":0,\"fTimeDisplay\":false,\"fTimeFormat\":\"\",\"fLabels\":null,\"fModLabs\":null},\"fZaxis\":{\"_typename\":\"TAxis\",\"fUniqueID\":0,\"fBits\":50331648,\"fName\":\"zaxis\",\"fTitle\":\"\",\"fNdivisions\":510,\"fAxisColor\":1,\"fLabelColor\":1,\"fLabelFont\":42,\"fLabelOffset\":0.007,\"fLabelSize\":0.05,\"fTickLength\":0.03,\"fTitleOffset\":1,\"fTitleSize\":0.06,\"fTitleColor\":1,\"fTitleFont\":42,\"fNbins\":1,\"fXmin\":0,\"fXmax\":1,\"fXbins\":[],\"fFirst\":0,\"fLast\":0,\"fBits2\":0,\"fTimeDisplay\":false,\"fTimeFormat\":\"\",\"fLabels\":null,\"fModLabs\":null},\"fBarOffset\":0,\"fBarWidth\":1000,\"fEntries\":13736,\"fTsumw\":6808,\"fTsumw2\":6808,\"fTsumwx\":1522885,\"fTsumwx2\":355128400,\"fMaximum\":-1111,\"fMinimum\":-1111,\"fNormFactor\":0,\"fContour\":[],\"fSumw2\":[],\"fOption\":\"\",\"fFunctions\":{\"_typename\":\"TList\",\"name\":\"TList\",\"arr\":[],\"opt\":[]},\"fBufferSize\":0,\"fBuffer\":[],\"fBinStatErrOpt\":0,\"fStatOverflows\":2,\"fArray\":[0,0,0,0,0,0,0,0,0,0,0,0,0,1,2,1,3,2,6,8,9,14,15,21,19,43,38,39,57,61,85,95,107,133,140,208,188,213,228,206,206,212,257,235,231,256,244,244,233,231,243,269,214,217,257,233,211,240,250,213,170,6928]},{\"_typename\":\"TLatex\",\"fUniqueID\":0,\"fBits\":50348041,\"fName\":\"\",\"fTitle\":\"\",\"fTextAngle\":0,\"fTextSize\":0.054,\"fTextAlign\":31,\"fTextColor\":1,\"fTextFont\":42,\"fX\":0.899999998509884,\"fY\":0.927999997138977,\"fLineColor\":1,\"fLineStyle\":1,\"fLineWidth\":2,\"fLimitFactorSize\":3,\"fOriginSize\":0.04},{\"_typename\":\"TLatex\",\"fUniqueID\":0,\"fBits\":50348041,\"fName\":\"\",\"fTitle\":\"CMS\",\"fTextAngle\":0,\"fTextSize\":0.063,\"fTextAlign\":11,\"fTextColor\":1,\"fTextFont\":61,\"fX\":0.119999997317791,\"fY\":0.927999997138977,\"fLineColor\":1,\"fLineStyle\":1,\"fLineWidth\":2,\"fLimitFactorSize\":3,\"fOriginSize\":0.04},{\"_typename\":\"TLatex\",\"fUniqueID\":0,\"fBits\":50348041,\"fName\":\"\",\"fTitle\":\"Simulation Preliminary\",\"fTextAngle\":0,\"fTextSize\":0.0441,\"fTextAlign\":11,\"fTextColor\":1,\"fTextFont\":52,\"fX\":0.213599997460842,\"fY\":0.927999997138977,\"fLineColor\":1,\"fLineStyle\":1,\"fLineWidth\":2,\"fLimitFactorSize\":3,\"fOriginSize\":0.0441000014543533}],\"opt\":[\"\",\"hist\",\"\",\"\",\"\"]},\"fExecs\":null,\"fName\":\"chadTopCandMass_boostedWttHTobb\",\"fTitle\":\"chadTopCandMass_boostedWttHTobb\",\"fNumPaletteColor\":0,\"fNextPaletteColor\":0,\"fDISPLAY\":\"$DISPLAY\",\"fDoubleBuffer\":0,\"fRetained\":true,\"fXsizeUser\":0,\"fYsizeUser\":0,\"fXsizeReal\":20,\"fYsizeReal\":13.33333,\"fWindowTopX\":0,\"fWindowTopY\":0,\"fWindowWidth\":0,\"fWindowHeight\":0,\"fCw\":746,\"fCh\":472,\"fCatt\":{\"_typename\":\"TAttCanvas\",\"fXBetween\":2,\"fYBetween\":2,\"fTitleFromTop\":1.2,\"fXdate\":0.2,\"fYdate\":0.3,\"fAdate\":1},\"kMoveOpaque\":true,\"kResizeOpaque\":true,\"fHighLightColor\":2,\"fBatch\":true,\"kShowEventStatus\":false,\"kAutoExec\":true,\"kMenuBar\":true});\n",
       "       Core.draw(\"root_plot_31\", obj, \"\");\n",
       "     }\n",
       " );\n",
       "</script>\n"
      ],
      "text/plain": [
       "<IPython.core.display.HTML object>"
      ]
     },
     "metadata": {},
     "output_type": "display_data"
    },
    {
     "data": {
      "text/html": [
       "\n",
       "<div id=\"root_plot_32\"\n",
       "     style=\"width: 746px; height: 472px\">\n",
       "</div>\n",
       "\n",
       "<script>\n",
       " requirejs.config({\n",
       "     paths: {\n",
       "       'JSRootCore' : 'https://root.cern.ch/js/notebook//scripts/JSRootCore',\n",
       "     }\n",
       "   });\n",
       " require(['JSRootCore'],\n",
       "     function(Core) {\n",
       "       var obj = Core.JSONR_unref({\"_typename\":\"TCanvas\",\"fUniqueID\":0,\"fBits\":53673992,\"fLineColor\":1,\"fLineStyle\":1,\"fLineWidth\":1,\"fFillColor\":0,\"fFillStyle\":1001,\"fLeftMargin\":0.12,\"fRightMargin\":0.1,\"fBottomMargin\":0.12,\"fTopMargin\":0.09,\"fXfile\":2,\"fYfile\":2,\"fAfile\":1,\"fXstat\":0.99,\"fYstat\":0.99,\"fAstat\":2,\"fFrameFillColor\":0,\"fFrameLineColor\":1,\"fFrameFillStyle\":0,\"fFrameLineStyle\":1,\"fFrameLineWidth\":1,\"fFrameBorderSize\":1,\"fFrameBorderMode\":0,\"fX1\":-11.5384621336263,\"fY1\":-273.850640013864,\"fX2\":334.615386400879,\"fY2\":2008.23799276256,\"fXtoAbsPixelk\":24.8667177782933,\"fXtoPixelk\":24.8667177782933,\"fXtoPixel\":2.15511109628942,\"fYtoAbsPixelk\":415.360049155998,\"fYtoPixelk\":415.360049155998,\"fYtoPixel\":-0.206828075483535,\"fUtoAbsPixelk\":5e-5,\"fUtoPixelk\":5e-5,\"fUtoPixel\":746,\"fVtoAbsPixelk\":472.00005,\"fVtoPixelk\":472,\"fVtoPixel\":-472,\"fAbsPixeltoXk\":-11.5384621336263,\"fPixeltoXk\":-11.5384621336263,\"fPixeltoX\":0.464013201788881,\"fAbsPixeltoYk\":2008.23799276256,\"fPixeltoYk\":-273.850640013864,\"fPixeltoY\":-4.83493354401785,\"fXlowNDC\":0,\"fYlowNDC\":0,\"fXUpNDC\":0,\"fYUpNDC\":0,\"fWNDC\":1,\"fHNDC\":1,\"fAbsXlowNDC\":0,\"fAbsYlowNDC\":0,\"fAbsWNDC\":1,\"fAbsHNDC\":1,\"fUxmin\":30,\"fUymin\":0,\"fUxmax\":300,\"fUymax\":1802.85,\"fTheta\":30,\"fPhi\":30,\"fAspectRatio\":0,\"fNumber\":0,\"fTickx\":1,\"fTicky\":1,\"fLogx\":0,\"fLogy\":0,\"fLogz\":0,\"fPadPaint\":0,\"fCrosshair\":0,\"fCrosshairPos\":0,\"fBorderSize\":2,\"fBorderMode\":0,\"fModified\":true,\"fGridx\":false,\"fGridy\":false,\"fAbsCoord\":false,\"fEditable\":true,\"fFixedAspectRatio\":false,\"fPrimitives\":{\"_typename\":\"TList\",\"name\":\"TList\",\"arr\":[{\"_typename\":\"TFrame\",\"fUniqueID\":0,\"fBits\":50331656,\"fLineColor\":1,\"fLineStyle\":1,\"fLineWidth\":1,\"fFillColor\":0,\"fFillStyle\":0,\"fX1\":30,\"fY1\":0,\"fX2\":300,\"fY2\":1802.85,\"fBorderSize\":1,\"fBorderMode\":0},{\"_typename\":\"TH1F\",\"fUniqueID\":0,\"fBits\":50332168,\"fName\":\"hadTopCandMass_boostedW\",\"fTitle\":\"TTToSemiLeptonic hadTopCandMass_boostedW\",\"fLineColor\":600,\"fLineStyle\":0,\"fLineWidth\":2,\"fFillColor\":0,\"fFillStyle\":1001,\"fMarkerColor\":1,\"fMarkerStyle\":1,\"fMarkerSize\":1,\"fNcells\":62,\"fXaxis\":{\"_typename\":\"TAxis\",\"fUniqueID\":0,\"fBits\":50333704,\"fName\":\"xaxis\",\"fTitle\":\"Top candidate mass [GeV]\",\"fNdivisions\":510,\"fAxisColor\":1,\"fLabelColor\":1,\"fLabelFont\":42,\"fLabelOffset\":0.007,\"fLabelSize\":0.05,\"fTickLength\":0.03,\"fTitleOffset\":0.9,\"fTitleSize\":0.06,\"fTitleColor\":1,\"fTitleFont\":42,\"fNbins\":60,\"fXmin\":0,\"fXmax\":300,\"fXbins\":[],\"fFirst\":7,\"fLast\":60,\"fBits2\":0,\"fTimeDisplay\":false,\"fTimeFormat\":\"\",\"fLabels\":null,\"fModLabs\":null},\"fYaxis\":{\"_typename\":\"TAxis\",\"fUniqueID\":0,\"fBits\":50331656,\"fName\":\"yaxis\",\"fTitle\":\"Events \\/ 5.0\",\"fNdivisions\":510,\"fAxisColor\":1,\"fLabelColor\":1,\"fLabelFont\":42,\"fLabelOffset\":0.007,\"fLabelSize\":0.05,\"fTickLength\":0.03,\"fTitleOffset\":0.9,\"fTitleSize\":0.06,\"fTitleColor\":1,\"fTitleFont\":42,\"fNbins\":1,\"fXmin\":0,\"fXmax\":1,\"fXbins\":[],\"fFirst\":0,\"fLast\":0,\"fBits2\":0,\"fTimeDisplay\":false,\"fTimeFormat\":\"\",\"fLabels\":null,\"fModLabs\":null},\"fZaxis\":{\"_typename\":\"TAxis\",\"fUniqueID\":0,\"fBits\":50331648,\"fName\":\"zaxis\",\"fTitle\":\"\",\"fNdivisions\":510,\"fAxisColor\":1,\"fLabelColor\":1,\"fLabelFont\":42,\"fLabelOffset\":0.007,\"fLabelSize\":0.05,\"fTickLength\":0.03,\"fTitleOffset\":1,\"fTitleSize\":0.06,\"fTitleColor\":1,\"fTitleFont\":42,\"fNbins\":1,\"fXmin\":0,\"fXmax\":1,\"fXbins\":[],\"fFirst\":0,\"fLast\":0,\"fBits2\":0,\"fTimeDisplay\":false,\"fTimeFormat\":\"\",\"fLabels\":null,\"fModLabs\":null},\"fBarOffset\":0,\"fBarWidth\":1000,\"fEntries\":35702,\"fTsumw\":25134,\"fTsumw2\":25134,\"fTsumwx\":4878070,\"fTsumwx2\":997532637.5,\"fMaximum\":-1111,\"fMinimum\":-1111,\"fNormFactor\":0,\"fContour\":[],\"fSumw2\":[],\"fOption\":\"\",\"fFunctions\":{\"_typename\":\"TList\",\"name\":\"TList\",\"arr\":[],\"opt\":[]},\"fBufferSize\":0,\"fBuffer\":[],\"fBinStatErrOpt\":0,\"fStatOverflows\":2,\"fArray\":[0,0,0,0,0,0,0,0,0,0,0,1,0,5,1,4,17,30,50,77,90,128,165,182,218,253,285,307,361,446,579,748,968,1223,1396,1612,1717,1560,1364,1200,984,843,721,624,563,514,467,510,451,435,398,447,395,363,343,366,367,329,364,336,327,10568]},{\"_typename\":\"TLatex\",\"fUniqueID\":0,\"fBits\":50348041,\"fName\":\"\",\"fTitle\":\"\",\"fTextAngle\":0,\"fTextSize\":0.054,\"fTextAlign\":31,\"fTextColor\":1,\"fTextFont\":42,\"fX\":0.899999998509884,\"fY\":0.927999997138977,\"fLineColor\":1,\"fLineStyle\":1,\"fLineWidth\":2,\"fLimitFactorSize\":3,\"fOriginSize\":0.04},{\"_typename\":\"TLatex\",\"fUniqueID\":0,\"fBits\":50348041,\"fName\":\"\",\"fTitle\":\"CMS\",\"fTextAngle\":0,\"fTextSize\":0.063,\"fTextAlign\":11,\"fTextColor\":1,\"fTextFont\":61,\"fX\":0.119999997317791,\"fY\":0.927999997138977,\"fLineColor\":1,\"fLineStyle\":1,\"fLineWidth\":2,\"fLimitFactorSize\":3,\"fOriginSize\":0.04},{\"_typename\":\"TLatex\",\"fUniqueID\":0,\"fBits\":50348041,\"fName\":\"\",\"fTitle\":\"Simulation Preliminary\",\"fTextAngle\":0,\"fTextSize\":0.0441,\"fTextAlign\":11,\"fTextColor\":1,\"fTextFont\":52,\"fX\":0.213599997460842,\"fY\":0.927999997138977,\"fLineColor\":1,\"fLineStyle\":1,\"fLineWidth\":2,\"fLimitFactorSize\":3,\"fOriginSize\":0.0441000014543533}],\"opt\":[\"\",\"hist\",\"\",\"\",\"\"]},\"fExecs\":null,\"fName\":\"chadTopCandMass_boostedWTTToSemiLeptonic\",\"fTitle\":\"chadTopCandMass_boostedWTTToSemiLeptonic\",\"fNumPaletteColor\":0,\"fNextPaletteColor\":0,\"fDISPLAY\":\"$DISPLAY\",\"fDoubleBuffer\":0,\"fRetained\":true,\"fXsizeUser\":0,\"fYsizeUser\":0,\"fXsizeReal\":20,\"fYsizeReal\":13.33333,\"fWindowTopX\":0,\"fWindowTopY\":0,\"fWindowWidth\":0,\"fWindowHeight\":0,\"fCw\":746,\"fCh\":472,\"fCatt\":{\"_typename\":\"TAttCanvas\",\"fXBetween\":2,\"fYBetween\":2,\"fTitleFromTop\":1.2,\"fXdate\":0.2,\"fYdate\":0.3,\"fAdate\":1},\"kMoveOpaque\":true,\"kResizeOpaque\":true,\"fHighLightColor\":2,\"fBatch\":true,\"kShowEventStatus\":false,\"kAutoExec\":true,\"kMenuBar\":true});\n",
       "       Core.draw(\"root_plot_32\", obj, \"\");\n",
       "     }\n",
       " );\n",
       "</script>\n"
      ],
      "text/plain": [
       "<IPython.core.display.HTML object>"
      ]
     },
     "metadata": {},
     "output_type": "display_data"
    },
    {
     "data": {
      "text/html": [
       "\n",
       "<div id=\"root_plot_33\"\n",
       "     style=\"width: 746px; height: 472px\">\n",
       "</div>\n",
       "\n",
       "<script>\n",
       " requirejs.config({\n",
       "     paths: {\n",
       "       'JSRootCore' : 'https://root.cern.ch/js/notebook//scripts/JSRootCore',\n",
       "     }\n",
       "   });\n",
       " require(['JSRootCore'],\n",
       "     function(Core) {\n",
       "       var obj = Core.JSONR_unref({\"_typename\":\"TCanvas\",\"fUniqueID\":0,\"fBits\":53673992,\"fLineColor\":1,\"fLineStyle\":1,\"fLineWidth\":1,\"fFillColor\":0,\"fFillStyle\":1001,\"fLeftMargin\":0.12,\"fRightMargin\":0.1,\"fBottomMargin\":0.12,\"fTopMargin\":0.09,\"fXfile\":2,\"fYfile\":2,\"fAfile\":1,\"fXstat\":0.99,\"fYstat\":0.99,\"fAstat\":2,\"fFrameFillColor\":0,\"fFrameLineColor\":1,\"fFrameFillStyle\":0,\"fFrameLineStyle\":1,\"fFrameLineWidth\":1,\"fFrameBorderSize\":1,\"fFrameBorderMode\":0,\"fX1\":-3.84615433110289,\"fY1\":-28.2303804790063,\"fX2\":278.205129659975,\"fY2\":207.022786673834,\"fXtoAbsPixelk\":10.1727784854109,\"fXtoPixelk\":10.1727784854109,\"fXtoPixel\":2.64490907271884,\"fYtoAbsPixelk\":415.360049155998,\"fYtoPixelk\":415.360049155998,\"fYtoPixel\":-2.00634918421034,\"fUtoAbsPixelk\":5e-5,\"fUtoPixelk\":5e-5,\"fUtoPixel\":746,\"fVtoAbsPixelk\":472.00005,\"fVtoPixelk\":472,\"fVtoPixel\":-472,\"fAbsPixeltoXk\":-3.84615433110289,\"fPixeltoXk\":-3.84615433110289,\"fPixeltoX\":0.378084831087236,\"fAbsPixeltoYk\":207.022786673834,\"fPixeltoYk\":-28.2303804790063,\"fPixeltoY\":-0.49841772701873,\"fXlowNDC\":0,\"fYlowNDC\":0,\"fXUpNDC\":0,\"fYUpNDC\":0,\"fWNDC\":1,\"fHNDC\":1,\"fAbsXlowNDC\":0,\"fAbsYlowNDC\":0,\"fAbsWNDC\":1,\"fAbsHNDC\":1,\"fUxmin\":30,\"fUymin\":0,\"fUxmax\":250,\"fUymax\":185.85,\"fTheta\":30,\"fPhi\":30,\"fAspectRatio\":0,\"fNumber\":0,\"fTickx\":1,\"fTicky\":1,\"fLogx\":0,\"fLogy\":0,\"fLogz\":0,\"fPadPaint\":0,\"fCrosshair\":0,\"fCrosshairPos\":0,\"fBorderSize\":2,\"fBorderMode\":0,\"fModified\":true,\"fGridx\":false,\"fGridy\":false,\"fAbsCoord\":false,\"fEditable\":true,\"fFixedAspectRatio\":false,\"fPrimitives\":{\"_typename\":\"TList\",\"name\":\"TList\",\"arr\":[{\"_typename\":\"TFrame\",\"fUniqueID\":0,\"fBits\":50331656,\"fLineColor\":1,\"fLineStyle\":1,\"fLineWidth\":1,\"fFillColor\":0,\"fFillStyle\":0,\"fX1\":30,\"fY1\":0,\"fX2\":250,\"fY2\":185.85,\"fBorderSize\":1,\"fBorderMode\":0},{\"_typename\":\"TH1F\",\"fUniqueID\":0,\"fBits\":50332168,\"fName\":\"boostedHiggsCandMass_boostedW\",\"fTitle\":\"ttHTobb boostedHiggsCandMass_boostedW\",\"fLineColor\":600,\"fLineStyle\":0,\"fLineWidth\":2,\"fFillColor\":0,\"fFillStyle\":1001,\"fMarkerColor\":1,\"fMarkerStyle\":1,\"fMarkerSize\":1,\"fNcells\":62,\"fXaxis\":{\"_typename\":\"TAxis\",\"fUniqueID\":0,\"fBits\":50333704,\"fName\":\"xaxis\",\"fTitle\":\"Higgs candidate mass [GeV]\",\"fNdivisions\":510,\"fAxisColor\":1,\"fLabelColor\":1,\"fLabelFont\":42,\"fLabelOffset\":0.007,\"fLabelSize\":0.05,\"fTickLength\":0.03,\"fTitleOffset\":0.9,\"fTitleSize\":0.06,\"fTitleColor\":1,\"fTitleFont\":42,\"fNbins\":60,\"fXmin\":0,\"fXmax\":300,\"fXbins\":[],\"fFirst\":7,\"fLast\":50,\"fBits2\":0,\"fTimeDisplay\":false,\"fTimeFormat\":\"\",\"fLabels\":null,\"fModLabs\":null},\"fYaxis\":{\"_typename\":\"TAxis\",\"fUniqueID\":0,\"fBits\":50331656,\"fName\":\"yaxis\",\"fTitle\":\"Events \\/ 5.0\",\"fNdivisions\":510,\"fAxisColor\":1,\"fLabelColor\":1,\"fLabelFont\":42,\"fLabelOffset\":0.007,\"fLabelSize\":0.05,\"fTickLength\":0.03,\"fTitleOffset\":0.9,\"fTitleSize\":0.06,\"fTitleColor\":1,\"fTitleFont\":42,\"fNbins\":1,\"fXmin\":0,\"fXmax\":1,\"fXbins\":[],\"fFirst\":0,\"fLast\":0,\"fBits2\":0,\"fTimeDisplay\":false,\"fTimeFormat\":\"\",\"fLabels\":null,\"fModLabs\":null},\"fZaxis\":{\"_typename\":\"TAxis\",\"fUniqueID\":0,\"fBits\":50331648,\"fName\":\"zaxis\",\"fTitle\":\"\",\"fNdivisions\":510,\"fAxisColor\":1,\"fLabelColor\":1,\"fLabelFont\":42,\"fLabelOffset\":0.007,\"fLabelSize\":0.05,\"fTickLength\":0.03,\"fTitleOffset\":1,\"fTitleSize\":0.06,\"fTitleColor\":1,\"fTitleFont\":42,\"fNbins\":1,\"fXmin\":0,\"fXmax\":1,\"fXbins\":[],\"fFirst\":0,\"fLast\":0,\"fBits2\":0,\"fTimeDisplay\":false,\"fTimeFormat\":\"\",\"fLabels\":null,\"fModLabs\":null},\"fBarOffset\":0,\"fBarWidth\":1000,\"fEntries\":13736,\"fTsumw\":3037,\"fTsumw2\":3037,\"fTsumwx\":308713.296386719,\"fTsumwx2\":35281795.8627412,\"fMaximum\":-1111,\"fMinimum\":-1111,\"fNormFactor\":0,\"fContour\":[],\"fSumw2\":[],\"fOption\":\"\",\"fFunctions\":{\"_typename\":\"TList\",\"name\":\"TList\",\"arr\":[],\"opt\":[]},\"fBufferSize\":0,\"fBuffer\":[],\"fBinStatErrOpt\":0,\"fStatOverflows\":2,\"fArray\":[10696,13,8,0,0,1,6,19,29,42,59,67,84,103,133,152,149,155,167,176,175,146,147,138,160,153,177,124,93,74,55,38,36,31,30,8,15,15,7,3,13,5,9,2,2,3,4,1,2,1,0,1,1,1,0,2,0,0,1,1,0,3]},{\"_typename\":\"TLatex\",\"fUniqueID\":0,\"fBits\":50348041,\"fName\":\"\",\"fTitle\":\"\",\"fTextAngle\":0,\"fTextSize\":0.054,\"fTextAlign\":31,\"fTextColor\":1,\"fTextFont\":42,\"fX\":0.899999998509884,\"fY\":0.927999997138977,\"fLineColor\":1,\"fLineStyle\":1,\"fLineWidth\":2,\"fLimitFactorSize\":3,\"fOriginSize\":0.04},{\"_typename\":\"TLatex\",\"fUniqueID\":0,\"fBits\":50348041,\"fName\":\"\",\"fTitle\":\"CMS\",\"fTextAngle\":0,\"fTextSize\":0.063,\"fTextAlign\":11,\"fTextColor\":1,\"fTextFont\":61,\"fX\":0.119999997317791,\"fY\":0.927999997138977,\"fLineColor\":1,\"fLineStyle\":1,\"fLineWidth\":2,\"fLimitFactorSize\":3,\"fOriginSize\":0.04},{\"_typename\":\"TLatex\",\"fUniqueID\":0,\"fBits\":50348041,\"fName\":\"\",\"fTitle\":\"Simulation Preliminary\",\"fTextAngle\":0,\"fTextSize\":0.0441,\"fTextAlign\":11,\"fTextColor\":1,\"fTextFont\":52,\"fX\":0.213599997460842,\"fY\":0.927999997138977,\"fLineColor\":1,\"fLineStyle\":1,\"fLineWidth\":2,\"fLimitFactorSize\":3,\"fOriginSize\":0.0441000014543533}],\"opt\":[\"\",\"hist\",\"\",\"\",\"\"]},\"fExecs\":null,\"fName\":\"cboostedHiggsCandMass_boostedWttHTobb\",\"fTitle\":\"cboostedHiggsCandMass_boostedWttHTobb\",\"fNumPaletteColor\":0,\"fNextPaletteColor\":0,\"fDISPLAY\":\"$DISPLAY\",\"fDoubleBuffer\":0,\"fRetained\":true,\"fXsizeUser\":0,\"fYsizeUser\":0,\"fXsizeReal\":20,\"fYsizeReal\":13.33333,\"fWindowTopX\":0,\"fWindowTopY\":0,\"fWindowWidth\":0,\"fWindowHeight\":0,\"fCw\":746,\"fCh\":472,\"fCatt\":{\"_typename\":\"TAttCanvas\",\"fXBetween\":2,\"fYBetween\":2,\"fTitleFromTop\":1.2,\"fXdate\":0.2,\"fYdate\":0.3,\"fAdate\":1},\"kMoveOpaque\":true,\"kResizeOpaque\":true,\"fHighLightColor\":2,\"fBatch\":true,\"kShowEventStatus\":false,\"kAutoExec\":true,\"kMenuBar\":true});\n",
       "       Core.draw(\"root_plot_33\", obj, \"\");\n",
       "     }\n",
       " );\n",
       "</script>\n"
      ],
      "text/plain": [
       "<IPython.core.display.HTML object>"
      ]
     },
     "metadata": {},
     "output_type": "display_data"
    },
    {
     "data": {
      "text/html": [
       "\n",
       "<div id=\"root_plot_34\"\n",
       "     style=\"width: 746px; height: 472px\">\n",
       "</div>\n",
       "\n",
       "<script>\n",
       " requirejs.config({\n",
       "     paths: {\n",
       "       'JSRootCore' : 'https://root.cern.ch/js/notebook//scripts/JSRootCore',\n",
       "     }\n",
       "   });\n",
       " require(['JSRootCore'],\n",
       "     function(Core) {\n",
       "       var obj = Core.JSONR_unref({\"_typename\":\"TCanvas\",\"fUniqueID\":0,\"fBits\":53673992,\"fLineColor\":1,\"fLineStyle\":1,\"fLineWidth\":1,\"fFillColor\":0,\"fFillStyle\":1001,\"fLeftMargin\":0.12,\"fRightMargin\":0.1,\"fBottomMargin\":0.12,\"fTopMargin\":0.09,\"fXfile\":2,\"fYfile\":2,\"fAfile\":1,\"fXstat\":0.99,\"fYstat\":0.99,\"fAstat\":2,\"fFrameFillColor\":0,\"fFrameLineColor\":1,\"fFrameFillStyle\":0,\"fFrameLineStyle\":1,\"fFrameLineWidth\":1,\"fFrameBorderSize\":1,\"fFrameBorderMode\":0,\"fX1\":-3.84615433110289,\"fY1\":-126.159496942904,\"fX2\":278.205129659975,\"fY2\":925.169628581937,\"fXtoAbsPixelk\":10.1727784854109,\"fXtoPixelk\":10.1727784854109,\"fXtoPixel\":2.64490907271884,\"fYtoAbsPixelk\":415.360049155998,\"fYtoPixelk\":415.360049155998,\"fYtoPixel\":-0.448955506454146,\"fUtoAbsPixelk\":5e-5,\"fUtoPixelk\":5e-5,\"fUtoPixel\":746,\"fVtoAbsPixelk\":472.00005,\"fVtoPixelk\":472,\"fVtoPixel\":-472,\"fAbsPixeltoXk\":-3.84615433110289,\"fPixeltoXk\":-3.84615433110289,\"fPixeltoX\":0.378084831087236,\"fAbsPixeltoYk\":925.169628581937,\"fPixeltoYk\":-126.159496942904,\"fPixeltoY\":-2.227392215095,\"fXlowNDC\":0,\"fYlowNDC\":0,\"fXUpNDC\":0,\"fYUpNDC\":0,\"fWNDC\":1,\"fHNDC\":1,\"fAbsXlowNDC\":0,\"fAbsYlowNDC\":0,\"fAbsWNDC\":1,\"fAbsHNDC\":1,\"fUxmin\":30,\"fUymin\":0,\"fUxmax\":250,\"fUymax\":830.55,\"fTheta\":30,\"fPhi\":30,\"fAspectRatio\":0,\"fNumber\":0,\"fTickx\":1,\"fTicky\":1,\"fLogx\":0,\"fLogy\":0,\"fLogz\":0,\"fPadPaint\":0,\"fCrosshair\":0,\"fCrosshairPos\":0,\"fBorderSize\":2,\"fBorderMode\":0,\"fModified\":true,\"fGridx\":false,\"fGridy\":false,\"fAbsCoord\":false,\"fEditable\":true,\"fFixedAspectRatio\":false,\"fPrimitives\":{\"_typename\":\"TList\",\"name\":\"TList\",\"arr\":[{\"_typename\":\"TFrame\",\"fUniqueID\":0,\"fBits\":50331656,\"fLineColor\":1,\"fLineStyle\":1,\"fLineWidth\":1,\"fFillColor\":0,\"fFillStyle\":0,\"fX1\":30,\"fY1\":0,\"fX2\":250,\"fY2\":830.55,\"fBorderSize\":1,\"fBorderMode\":0},{\"_typename\":\"TH1F\",\"fUniqueID\":0,\"fBits\":50332168,\"fName\":\"boostedHiggsCandMass_boostedW\",\"fTitle\":\"TTToSemiLeptonic boostedHiggsCandMass_boostedW\",\"fLineColor\":600,\"fLineStyle\":0,\"fLineWidth\":2,\"fFillColor\":0,\"fFillStyle\":1001,\"fMarkerColor\":1,\"fMarkerStyle\":1,\"fMarkerSize\":1,\"fNcells\":62,\"fXaxis\":{\"_typename\":\"TAxis\",\"fUniqueID\":0,\"fBits\":50333704,\"fName\":\"xaxis\",\"fTitle\":\"Higgs candidate mass [GeV]\",\"fNdivisions\":510,\"fAxisColor\":1,\"fLabelColor\":1,\"fLabelFont\":42,\"fLabelOffset\":0.007,\"fLabelSize\":0.05,\"fTickLength\":0.03,\"fTitleOffset\":0.9,\"fTitleSize\":0.06,\"fTitleColor\":1,\"fTitleFont\":42,\"fNbins\":60,\"fXmin\":0,\"fXmax\":300,\"fXbins\":[],\"fFirst\":7,\"fLast\":50,\"fBits2\":0,\"fTimeDisplay\":false,\"fTimeFormat\":\"\",\"fLabels\":null,\"fModLabs\":null},\"fYaxis\":{\"_typename\":\"TAxis\",\"fUniqueID\":0,\"fBits\":50331656,\"fName\":\"yaxis\",\"fTitle\":\"Events \\/ 5.0\",\"fNdivisions\":510,\"fAxisColor\":1,\"fLabelColor\":1,\"fLabelFont\":42,\"fLabelOffset\":0.007,\"fLabelSize\":0.05,\"fTickLength\":0.03,\"fTitleOffset\":0.9,\"fTitleSize\":0.06,\"fTitleColor\":1,\"fTitleFont\":42,\"fNbins\":1,\"fXmin\":0,\"fXmax\":1,\"fXbins\":[],\"fFirst\":0,\"fLast\":0,\"fBits2\":0,\"fTimeDisplay\":false,\"fTimeFormat\":\"\",\"fLabels\":null,\"fModLabs\":null},\"fZaxis\":{\"_typename\":\"TAxis\",\"fUniqueID\":0,\"fBits\":50331648,\"fName\":\"zaxis\",\"fTitle\":\"\",\"fNdivisions\":510,\"fAxisColor\":1,\"fLabelColor\":1,\"fLabelFont\":42,\"fLabelOffset\":0.007,\"fLabelSize\":0.05,\"fTickLength\":0.03,\"fTitleOffset\":1,\"fTitleSize\":0.06,\"fTitleColor\":1,\"fTitleFont\":42,\"fNbins\":1,\"fXmin\":0,\"fXmax\":1,\"fXbins\":[],\"fFirst\":0,\"fLast\":0,\"fBits2\":0,\"fTimeDisplay\":false,\"fTimeFormat\":\"\",\"fLabels\":null,\"fModLabs\":null},\"fBarOffset\":0,\"fBarWidth\":1000,\"fEntries\":35702,\"fTsumw\":10861,\"fTsumw2\":10861,\"fTsumwx\":1077946.16650391,\"fTsumwx2\":117395627.196742,\"fMaximum\":-1111,\"fMinimum\":-1111,\"fNormFactor\":0,\"fContour\":[],\"fSumw2\":[],\"fOption\":\"\",\"fFunctions\":{\"_typename\":\"TList\",\"name\":\"TList\",\"arr\":[],\"opt\":[]},\"fBufferSize\":0,\"fBuffer\":[],\"fBinStatErrOpt\":0,\"fStatOverflows\":2,\"fArray\":[24838,25,6,0,1,1,3,8,33,58,123,194,282,406,550,633,770,775,771,791,752,643,627,531,440,403,360,279,266,226,167,139,93,94,90,76,64,58,46,31,22,6,2,2,3,3,1,1,1,0,2,1,0,0,0,1,0,0,0,0,1,3]},{\"_typename\":\"TLatex\",\"fUniqueID\":0,\"fBits\":50348041,\"fName\":\"\",\"fTitle\":\"\",\"fTextAngle\":0,\"fTextSize\":0.054,\"fTextAlign\":31,\"fTextColor\":1,\"fTextFont\":42,\"fX\":0.899999998509884,\"fY\":0.927999997138977,\"fLineColor\":1,\"fLineStyle\":1,\"fLineWidth\":2,\"fLimitFactorSize\":3,\"fOriginSize\":0.04},{\"_typename\":\"TLatex\",\"fUniqueID\":0,\"fBits\":50348041,\"fName\":\"\",\"fTitle\":\"CMS\",\"fTextAngle\":0,\"fTextSize\":0.063,\"fTextAlign\":11,\"fTextColor\":1,\"fTextFont\":61,\"fX\":0.119999997317791,\"fY\":0.927999997138977,\"fLineColor\":1,\"fLineStyle\":1,\"fLineWidth\":2,\"fLimitFactorSize\":3,\"fOriginSize\":0.04},{\"_typename\":\"TLatex\",\"fUniqueID\":0,\"fBits\":50348041,\"fName\":\"\",\"fTitle\":\"Simulation Preliminary\",\"fTextAngle\":0,\"fTextSize\":0.0441,\"fTextAlign\":11,\"fTextColor\":1,\"fTextFont\":52,\"fX\":0.213599997460842,\"fY\":0.927999997138977,\"fLineColor\":1,\"fLineStyle\":1,\"fLineWidth\":2,\"fLimitFactorSize\":3,\"fOriginSize\":0.0441000014543533}],\"opt\":[\"\",\"hist\",\"\",\"\",\"\"]},\"fExecs\":null,\"fName\":\"cboostedHiggsCandMass_boostedWTTToSemiLeptonic\",\"fTitle\":\"cboostedHiggsCandMass_boostedWTTToSemiLeptonic\",\"fNumPaletteColor\":0,\"fNextPaletteColor\":0,\"fDISPLAY\":\"$DISPLAY\",\"fDoubleBuffer\":0,\"fRetained\":true,\"fXsizeUser\":0,\"fYsizeUser\":0,\"fXsizeReal\":20,\"fYsizeReal\":13.33333,\"fWindowTopX\":0,\"fWindowTopY\":0,\"fWindowWidth\":0,\"fWindowHeight\":0,\"fCw\":746,\"fCh\":472,\"fCatt\":{\"_typename\":\"TAttCanvas\",\"fXBetween\":2,\"fYBetween\":2,\"fTitleFromTop\":1.2,\"fXdate\":0.2,\"fYdate\":0.3,\"fAdate\":1},\"kMoveOpaque\":true,\"kResizeOpaque\":true,\"fHighLightColor\":2,\"fBatch\":true,\"kShowEventStatus\":false,\"kAutoExec\":true,\"kMenuBar\":true});\n",
       "       Core.draw(\"root_plot_34\", obj, \"\");\n",
       "     }\n",
       " );\n",
       "</script>\n"
      ],
      "text/plain": [
       "<IPython.core.display.HTML object>"
      ]
     },
     "metadata": {},
     "output_type": "display_data"
    },
    {
     "data": {
      "text/html": [
       "\n",
       "<div id=\"root_plot_35\"\n",
       "     style=\"width: 746px; height: 472px\">\n",
       "</div>\n",
       "\n",
       "<script>\n",
       " requirejs.config({\n",
       "     paths: {\n",
       "       'JSRootCore' : 'https://root.cern.ch/js/notebook//scripts/JSRootCore',\n",
       "     }\n",
       "   });\n",
       " require(['JSRootCore'],\n",
       "     function(Core) {\n",
       "       var obj = Core.JSONR_unref({\"_typename\":\"TCanvas\",\"fUniqueID\":0,\"fBits\":53673992,\"fLineColor\":1,\"fLineStyle\":1,\"fLineWidth\":1,\"fFillColor\":0,\"fFillStyle\":1001,\"fLeftMargin\":0.12,\"fRightMargin\":0.1,\"fBottomMargin\":0.12,\"fTopMargin\":0.09,\"fXfile\":2,\"fYfile\":2,\"fAfile\":1,\"fXstat\":0.99,\"fYstat\":0.99,\"fAstat\":2,\"fFrameFillColor\":0,\"fFrameLineColor\":1,\"fFrameFillStyle\":0,\"fFrameLineStyle\":1,\"fFrameLineWidth\":1,\"fFrameBorderSize\":1,\"fFrameBorderMode\":0,\"fX1\":-3.84615433110289,\"fY1\":10.2799986274898,\"fX2\":278.205129659975,\"fY2\":451.280003493662,\"fXtoAbsPixelk\":10.1727784854109,\"fXtoPixelk\":10.1727784854109,\"fXtoPixel\":2.64490907271884,\"fYtoAbsPixelk\":483.00267879509,\"fYtoPixelk\":483.00267879509,\"fYtoPixel\":-1.07029477277043,\"fUtoAbsPixelk\":5e-5,\"fUtoPixelk\":5e-5,\"fUtoPixel\":746,\"fVtoAbsPixelk\":472.00005,\"fVtoPixelk\":472,\"fVtoPixel\":-472,\"fAbsPixeltoXk\":-3.84615433110289,\"fPixeltoXk\":-3.84615433110289,\"fPixeltoX\":0.378084831087236,\"fAbsPixeltoYk\":451.280003493662,\"fPixeltoYk\":10.2799986274898,\"fPixeltoY\":-0.934322044207992,\"fXlowNDC\":0,\"fYlowNDC\":0,\"fXUpNDC\":0,\"fYUpNDC\":0,\"fWNDC\":1,\"fHNDC\":1,\"fAbsXlowNDC\":0,\"fAbsYlowNDC\":0,\"fAbsWNDC\":1,\"fAbsHNDC\":1,\"fUxmin\":30,\"fUymin\":63.2,\"fUxmax\":250,\"fUymax\":411.59,\"fTheta\":30,\"fPhi\":30,\"fAspectRatio\":0,\"fNumber\":0,\"fTickx\":1,\"fTicky\":1,\"fLogx\":0,\"fLogy\":0,\"fLogz\":0,\"fPadPaint\":0,\"fCrosshair\":0,\"fCrosshairPos\":0,\"fBorderSize\":2,\"fBorderMode\":0,\"fModified\":true,\"fGridx\":false,\"fGridy\":false,\"fAbsCoord\":false,\"fEditable\":true,\"fFixedAspectRatio\":false,\"fPrimitives\":{\"_typename\":\"TList\",\"name\":\"TList\",\"arr\":[{\"_typename\":\"TFrame\",\"fUniqueID\":0,\"fBits\":50331656,\"fLineColor\":1,\"fLineStyle\":1,\"fLineWidth\":1,\"fFillColor\":0,\"fFillStyle\":0,\"fX1\":30,\"fY1\":63.2,\"fX2\":250,\"fY2\":411.59,\"fBorderSize\":1,\"fBorderMode\":0},{\"_typename\":\"TH1F\",\"fUniqueID\":0,\"fBits\":50332168,\"fName\":\"resolvedHiggsCandMass_boostedW\",\"fTitle\":\"ttHTobb resolvedHiggsCandMass_boostedW\",\"fLineColor\":600,\"fLineStyle\":0,\"fLineWidth\":2,\"fFillColor\":0,\"fFillStyle\":1001,\"fMarkerColor\":1,\"fMarkerStyle\":1,\"fMarkerSize\":1,\"fNcells\":62,\"fXaxis\":{\"_typename\":\"TAxis\",\"fUniqueID\":0,\"fBits\":50333704,\"fName\":\"xaxis\",\"fTitle\":\"Higgs candidate mass [GeV]\",\"fNdivisions\":510,\"fAxisColor\":1,\"fLabelColor\":1,\"fLabelFont\":42,\"fLabelOffset\":0.007,\"fLabelSize\":0.05,\"fTickLength\":0.03,\"fTitleOffset\":0.9,\"fTitleSize\":0.06,\"fTitleColor\":1,\"fTitleFont\":42,\"fNbins\":60,\"fXmin\":0,\"fXmax\":300,\"fXbins\":[],\"fFirst\":7,\"fLast\":50,\"fBits2\":0,\"fTimeDisplay\":false,\"fTimeFormat\":\"\",\"fLabels\":null,\"fModLabs\":null},\"fYaxis\":{\"_typename\":\"TAxis\",\"fUniqueID\":0,\"fBits\":50331656,\"fName\":\"yaxis\",\"fTitle\":\"Events \\/ 5.0\",\"fNdivisions\":510,\"fAxisColor\":1,\"fLabelColor\":1,\"fLabelFont\":42,\"fLabelOffset\":0.007,\"fLabelSize\":0.05,\"fTickLength\":0.03,\"fTitleOffset\":0.9,\"fTitleSize\":0.06,\"fTitleColor\":1,\"fTitleFont\":42,\"fNbins\":1,\"fXmin\":0,\"fXmax\":1,\"fXbins\":[],\"fFirst\":0,\"fLast\":0,\"fBits2\":0,\"fTimeDisplay\":false,\"fTimeFormat\":\"\",\"fLabels\":null,\"fModLabs\":null},\"fZaxis\":{\"_typename\":\"TAxis\",\"fUniqueID\":0,\"fBits\":50331648,\"fName\":\"zaxis\",\"fTitle\":\"\",\"fNdivisions\":510,\"fAxisColor\":1,\"fLabelColor\":1,\"fLabelFont\":42,\"fLabelOffset\":0.007,\"fLabelSize\":0.05,\"fTickLength\":0.03,\"fTitleOffset\":1,\"fTitleSize\":0.06,\"fTitleColor\":1,\"fTitleFont\":42,\"fNbins\":1,\"fXmin\":0,\"fXmax\":1,\"fXbins\":[],\"fFirst\":0,\"fLast\":0,\"fBits2\":0,\"fTimeDisplay\":false,\"fTimeFormat\":\"\",\"fLabels\":null,\"fModLabs\":null},\"fBarOffset\":0,\"fBarWidth\":1000,\"fEntries\":11057,\"fTsumw\":9542,\"fTsumw2\":9542,\"fTsumwx\":1298394.90456206,\"fTsumwx2\":217293360.717586,\"fMaximum\":-1111,\"fMinimum\":-1111,\"fNormFactor\":0,\"fContour\":[],\"fSumw2\":[],\"fOption\":\"\",\"fFunctions\":{\"_typename\":\"TList\",\"name\":\"TList\",\"arr\":[],\"opt\":[]},\"fBufferSize\":0,\"fBuffer\":[],\"fBinStatErrOpt\":0,\"fStatOverflows\":2,\"fArray\":[0,0,23,121,146,108,101,92,97,91,79,126,119,131,156,171,177,210,226,265,311,333,379,353,378,386,395,296,322,246,258,225,198,202,192,194,149,157,154,135,159,122,133,119,122,100,104,101,81,83,87,76,77,74,72,58,57,61,63,37,54,1515]},{\"_typename\":\"TLatex\",\"fUniqueID\":0,\"fBits\":50348041,\"fName\":\"\",\"fTitle\":\"\",\"fTextAngle\":0,\"fTextSize\":0.054,\"fTextAlign\":31,\"fTextColor\":1,\"fTextFont\":42,\"fX\":0.899999998509884,\"fY\":0.927999997138977,\"fLineColor\":1,\"fLineStyle\":1,\"fLineWidth\":2,\"fLimitFactorSize\":3,\"fOriginSize\":0.04},{\"_typename\":\"TLatex\",\"fUniqueID\":0,\"fBits\":50348041,\"fName\":\"\",\"fTitle\":\"CMS\",\"fTextAngle\":0,\"fTextSize\":0.063,\"fTextAlign\":11,\"fTextColor\":1,\"fTextFont\":61,\"fX\":0.119999997317791,\"fY\":0.927999997138977,\"fLineColor\":1,\"fLineStyle\":1,\"fLineWidth\":2,\"fLimitFactorSize\":3,\"fOriginSize\":0.04},{\"_typename\":\"TLatex\",\"fUniqueID\":0,\"fBits\":50348041,\"fName\":\"\",\"fTitle\":\"Simulation Preliminary\",\"fTextAngle\":0,\"fTextSize\":0.0441,\"fTextAlign\":11,\"fTextColor\":1,\"fTextFont\":52,\"fX\":0.213599997460842,\"fY\":0.927999997138977,\"fLineColor\":1,\"fLineStyle\":1,\"fLineWidth\":2,\"fLimitFactorSize\":3,\"fOriginSize\":0.0441000014543533}],\"opt\":[\"\",\"hist\",\"\",\"\",\"\"]},\"fExecs\":null,\"fName\":\"cresolvedHiggsCandMass_boostedWttHTobb\",\"fTitle\":\"cresolvedHiggsCandMass_boostedWttHTobb\",\"fNumPaletteColor\":0,\"fNextPaletteColor\":0,\"fDISPLAY\":\"$DISPLAY\",\"fDoubleBuffer\":0,\"fRetained\":true,\"fXsizeUser\":0,\"fYsizeUser\":0,\"fXsizeReal\":20,\"fYsizeReal\":13.33333,\"fWindowTopX\":0,\"fWindowTopY\":0,\"fWindowWidth\":0,\"fWindowHeight\":0,\"fCw\":746,\"fCh\":472,\"fCatt\":{\"_typename\":\"TAttCanvas\",\"fXBetween\":2,\"fYBetween\":2,\"fTitleFromTop\":1.2,\"fXdate\":0.2,\"fYdate\":0.3,\"fAdate\":1},\"kMoveOpaque\":true,\"kResizeOpaque\":true,\"fHighLightColor\":2,\"fBatch\":true,\"kShowEventStatus\":false,\"kAutoExec\":true,\"kMenuBar\":true});\n",
       "       Core.draw(\"root_plot_35\", obj, \"\");\n",
       "     }\n",
       " );\n",
       "</script>\n"
      ],
      "text/plain": [
       "<IPython.core.display.HTML object>"
      ]
     },
     "metadata": {},
     "output_type": "display_data"
    },
    {
     "data": {
      "text/html": [
       "\n",
       "<div id=\"root_plot_36\"\n",
       "     style=\"width: 746px; height: 472px\">\n",
       "</div>\n",
       "\n",
       "<script>\n",
       " requirejs.config({\n",
       "     paths: {\n",
       "       'JSRootCore' : 'https://root.cern.ch/js/notebook//scripts/JSRootCore',\n",
       "     }\n",
       "   });\n",
       " require(['JSRootCore'],\n",
       "     function(Core) {\n",
       "       var obj = Core.JSONR_unref({\"_typename\":\"TCanvas\",\"fUniqueID\":0,\"fBits\":53673992,\"fLineColor\":1,\"fLineStyle\":1,\"fLineWidth\":1,\"fFillColor\":0,\"fFillStyle\":1001,\"fLeftMargin\":0.12,\"fRightMargin\":0.1,\"fBottomMargin\":0.12,\"fTopMargin\":0.09,\"fXfile\":2,\"fYfile\":2,\"fAfile\":1,\"fXstat\":0.99,\"fYstat\":0.99,\"fAstat\":2,\"fFrameFillColor\":0,\"fFrameLineColor\":1,\"fFrameFillStyle\":0,\"fFrameLineStyle\":1,\"fFrameLineWidth\":1,\"fFrameBorderSize\":1,\"fFrameBorderMode\":0,\"fX1\":-3.84615433110289,\"fY1\":0.92177019303135,\"fX2\":278.205129659975,\"fY2\":630.323675872284,\"fXtoAbsPixelk\":10.1727784854109,\"fXtoPixelk\":10.1727784854109,\"fXtoPixel\":2.64490907271884,\"fYtoAbsPixelk\":472.691302325716,\"fYtoPixelk\":472.691302325716,\"fYtoPixel\":-0.749918288681723,\"fUtoAbsPixelk\":5e-5,\"fUtoPixelk\":5e-5,\"fUtoPixel\":746,\"fVtoAbsPixelk\":472.00005,\"fVtoPixelk\":472,\"fVtoPixel\":-472,\"fAbsPixeltoXk\":-3.84615433110289,\"fPixeltoXk\":-3.84615433110289,\"fPixeltoX\":0.378084831087236,\"fAbsPixeltoYk\":630.323675872284,\"fPixeltoYk\":0.92177019303135,\"fPixeltoY\":-1.33347861372723,\"fXlowNDC\":0,\"fYlowNDC\":0,\"fXUpNDC\":0,\"fYUpNDC\":0,\"fWNDC\":1,\"fHNDC\":1,\"fAbsXlowNDC\":0,\"fAbsYlowNDC\":0,\"fAbsWNDC\":1,\"fAbsHNDC\":1,\"fUxmin\":30,\"fUymin\":76.45,\"fUxmax\":250,\"fUymax\":573.6775,\"fTheta\":30,\"fPhi\":30,\"fAspectRatio\":0,\"fNumber\":0,\"fTickx\":1,\"fTicky\":1,\"fLogx\":0,\"fLogy\":0,\"fLogz\":0,\"fPadPaint\":0,\"fCrosshair\":0,\"fCrosshairPos\":0,\"fBorderSize\":2,\"fBorderMode\":0,\"fModified\":true,\"fGridx\":false,\"fGridy\":false,\"fAbsCoord\":false,\"fEditable\":true,\"fFixedAspectRatio\":false,\"fPrimitives\":{\"_typename\":\"TList\",\"name\":\"TList\",\"arr\":[{\"_typename\":\"TFrame\",\"fUniqueID\":0,\"fBits\":50331656,\"fLineColor\":1,\"fLineStyle\":1,\"fLineWidth\":1,\"fFillColor\":0,\"fFillStyle\":0,\"fX1\":30,\"fY1\":76.45,\"fX2\":250,\"fY2\":573.6775,\"fBorderSize\":1,\"fBorderMode\":0},{\"_typename\":\"TH1F\",\"fUniqueID\":0,\"fBits\":50332168,\"fName\":\"resolvedHiggsCandMass_boostedW\",\"fTitle\":\"TTToSemiLeptonic resolvedHiggsCandMass_boostedW\",\"fLineColor\":600,\"fLineStyle\":0,\"fLineWidth\":2,\"fFillColor\":0,\"fFillStyle\":1001,\"fMarkerColor\":1,\"fMarkerStyle\":1,\"fMarkerSize\":1,\"fNcells\":62,\"fXaxis\":{\"_typename\":\"TAxis\",\"fUniqueID\":0,\"fBits\":50333704,\"fName\":\"xaxis\",\"fTitle\":\"Higgs candidate mass [GeV]\",\"fNdivisions\":510,\"fAxisColor\":1,\"fLabelColor\":1,\"fLabelFont\":42,\"fLabelOffset\":0.007,\"fLabelSize\":0.05,\"fTickLength\":0.03,\"fTitleOffset\":0.9,\"fTitleSize\":0.06,\"fTitleColor\":1,\"fTitleFont\":42,\"fNbins\":60,\"fXmin\":0,\"fXmax\":300,\"fXbins\":[],\"fFirst\":7,\"fLast\":50,\"fBits2\":0,\"fTimeDisplay\":false,\"fTimeFormat\":\"\",\"fLabels\":null,\"fModLabs\":null},\"fYaxis\":{\"_typename\":\"TAxis\",\"fUniqueID\":0,\"fBits\":50331656,\"fName\":\"yaxis\",\"fTitle\":\"Events \\/ 5.0\",\"fNdivisions\":510,\"fAxisColor\":1,\"fLabelColor\":1,\"fLabelFont\":42,\"fLabelOffset\":0.007,\"fLabelSize\":0.05,\"fTickLength\":0.03,\"fTitleOffset\":0.9,\"fTitleSize\":0.06,\"fTitleColor\":1,\"fTitleFont\":42,\"fNbins\":1,\"fXmin\":0,\"fXmax\":1,\"fXbins\":[],\"fFirst\":0,\"fLast\":0,\"fBits2\":0,\"fTimeDisplay\":false,\"fTimeFormat\":\"\",\"fLabels\":null,\"fModLabs\":null},\"fZaxis\":{\"_typename\":\"TAxis\",\"fUniqueID\":0,\"fBits\":50331648,\"fName\":\"zaxis\",\"fTitle\":\"\",\"fNdivisions\":510,\"fAxisColor\":1,\"fLabelColor\":1,\"fLabelFont\":42,\"fLabelOffset\":0.007,\"fLabelSize\":0.05,\"fTickLength\":0.03,\"fTitleOffset\":1,\"fTitleSize\":0.06,\"fTitleColor\":1,\"fTitleFont\":42,\"fNbins\":1,\"fXmin\":0,\"fXmax\":1,\"fXbins\":[],\"fFirst\":0,\"fLast\":0,\"fBits2\":0,\"fTimeDisplay\":false,\"fTimeFormat\":\"\",\"fLabels\":null,\"fModLabs\":null},\"fBarOffset\":0,\"fBarWidth\":1000,\"fEntries\":22258,\"fTsumw\":16987,\"fTsumw2\":16987,\"fTsumwx\":2527957.57781311,\"fTsumwx2\":454905275.305927,\"fMaximum\":-1111,\"fMinimum\":-1111,\"fNormFactor\":0,\"fContour\":[],\"fSumw2\":[],\"fOption\":\"\",\"fFunctions\":{\"_typename\":\"TList\",\"name\":\"TList\",\"arr\":[],\"opt\":[]},\"fBufferSize\":0,\"fBuffer\":[],\"fBinStatErrOpt\":0,\"fStatOverflows\":2,\"fArray\":[0,0,14,102,87,84,81,99,112,141,181,211,228,270,299,365,381,380,462,448,479,521,513,528,550,510,502,533,468,474,455,445,425,416,372,327,339,284,321,297,227,253,247,253,250,213,235,209,204,181,187,215,209,181,186,198,182,165,167,167,154,5271]},{\"_typename\":\"TLatex\",\"fUniqueID\":0,\"fBits\":50348041,\"fName\":\"\",\"fTitle\":\"\",\"fTextAngle\":0,\"fTextSize\":0.054,\"fTextAlign\":31,\"fTextColor\":1,\"fTextFont\":42,\"fX\":0.899999998509884,\"fY\":0.927999997138977,\"fLineColor\":1,\"fLineStyle\":1,\"fLineWidth\":2,\"fLimitFactorSize\":3,\"fOriginSize\":0.04},{\"_typename\":\"TLatex\",\"fUniqueID\":0,\"fBits\":50348041,\"fName\":\"\",\"fTitle\":\"CMS\",\"fTextAngle\":0,\"fTextSize\":0.063,\"fTextAlign\":11,\"fTextColor\":1,\"fTextFont\":61,\"fX\":0.119999997317791,\"fY\":0.927999997138977,\"fLineColor\":1,\"fLineStyle\":1,\"fLineWidth\":2,\"fLimitFactorSize\":3,\"fOriginSize\":0.04},{\"_typename\":\"TLatex\",\"fUniqueID\":0,\"fBits\":50348041,\"fName\":\"\",\"fTitle\":\"Simulation Preliminary\",\"fTextAngle\":0,\"fTextSize\":0.0441,\"fTextAlign\":11,\"fTextColor\":1,\"fTextFont\":52,\"fX\":0.213599997460842,\"fY\":0.927999997138977,\"fLineColor\":1,\"fLineStyle\":1,\"fLineWidth\":2,\"fLimitFactorSize\":3,\"fOriginSize\":0.0441000014543533}],\"opt\":[\"\",\"hist\",\"\",\"\",\"\"]},\"fExecs\":null,\"fName\":\"cresolvedHiggsCandMass_boostedWTTToSemiLeptonic\",\"fTitle\":\"cresolvedHiggsCandMass_boostedWTTToSemiLeptonic\",\"fNumPaletteColor\":0,\"fNextPaletteColor\":0,\"fDISPLAY\":\"$DISPLAY\",\"fDoubleBuffer\":0,\"fRetained\":true,\"fXsizeUser\":0,\"fYsizeUser\":0,\"fXsizeReal\":20,\"fYsizeReal\":13.33333,\"fWindowTopX\":0,\"fWindowTopY\":0,\"fWindowWidth\":0,\"fWindowHeight\":0,\"fCw\":746,\"fCh\":472,\"fCatt\":{\"_typename\":\"TAttCanvas\",\"fXBetween\":2,\"fYBetween\":2,\"fTitleFromTop\":1.2,\"fXdate\":0.2,\"fYdate\":0.3,\"fAdate\":1},\"kMoveOpaque\":true,\"kResizeOpaque\":true,\"fHighLightColor\":2,\"fBatch\":true,\"kShowEventStatus\":false,\"kAutoExec\":true,\"kMenuBar\":true});\n",
       "       Core.draw(\"root_plot_36\", obj, \"\");\n",
       "     }\n",
       " );\n",
       "</script>\n"
      ],
      "text/plain": [
       "<IPython.core.display.HTML object>"
      ]
     },
     "metadata": {},
     "output_type": "display_data"
    }
   ],
   "source": [
    "histos = [\n",
    "    ['ngoodEvents', 'Categories', 0, 8, 1, True ],\n",
    "    ['TopCandMass', 'Top candidate mass [GeV]', 30, 300, 1, False ],\n",
    "    ['HiggsCandMass', 'Higgs candidate mass [GeV]', 30, 250, 1, False ],\n",
    "    ['WCandMass', 'W candidate mass [GeV]', 30, 200, 1, False ],\n",
    "    ['HiggsCandMass_WHiggs', 'Higgs candidate mass [GeV]', 30, 250, 1, False ],\n",
    "    ['WCandMass_WHiggs', 'W candidate mass [GeV]', 30, 200, 1, False ],\n",
    "    ['lepTopCandMass_boostedW', 'Top candidate mass [GeV]', 30, 300, 1, False ],\n",
    "    ['hadTopCandMass_boostedW', 'Top candidate mass [GeV]', 30, 300, 1, False ],\n",
    "    ['boostedHiggsCandMass_boostedW', 'Higgs candidate mass [GeV]', 30, 250, 1, False ],\n",
    "    ['resolvedHiggsCandMass_boostedW', 'Higgs candidate mass [GeV]', 30, 250, 1, False ],\n",
    "]\n",
    "\n",
    "isample = {}\n",
    "isample['ttHTobb'] = signalFiles['ttHTobb']\n",
    "isample[\"TTToSemiLeptonic\"] = bkgFiles[\"TTToSemiLeptonic\"]\n",
    "\n",
    "for h in histos:\n",
    "    for s in isample:\n",
    "        print(h[0])\n",
    "        plotSimple( isample[s][0], s, h[0], axisX=h[1], xmin=h[2], xmax=h[3], rebinX=h[4], log=h[5])\n"
   ]
  },
  {
   "cell_type": "markdown",
   "metadata": {},
   "source": [
    "### Signal and background plots"
   ]
  },
  {
   "cell_type": "code",
   "execution_count": 6,
   "metadata": {},
   "outputs": [],
   "source": [
    "canvas = {}\n",
    "#def plotSimple( inFile, sample, name, rebinX='', xmin='', xmax='', labX=0.92, labY=0.50, axisX='', axisY='', log=False, ext='png', version=versionRootfiles, Norm=False ):\n",
    "def plotSignalBkg( signalFiles, bkgFiles, name, xmin, xmax, rebinX, labX=0.92, labY=0.50, log=False, \n",
    "                      version=versionRootfiles, addRatioFit=False, Norm=False, ext='png' ):\n",
    "    \"\"\"function to plot s and b histos\"\"\"\n",
    "\n",
    "    outputFileName = name+'_PlusBkg_AnalysisPlots_'+version+'.'+ext \n",
    "    if log: outputFileName = outputFileName.replace('Plots','Plots_Log')\n",
    "    print('Processing.......', outputFileName)\n",
    "\n",
    "    legend=ROOT.TLegend(0.60,0.75,0.90,0.90)\n",
    "    legend.SetFillStyle(0)\n",
    "    legend.SetTextSize(0.04)\n",
    "\n",
    "#\tif 'DATA' in args.process:\n",
    "#\t\tdataHistos = {}\n",
    "#\t\tdataHistos[ 'DATA' ] = dataFile.Get( nameInRoot+'_JetHT_Run2016'+tmpRegion if args.miniTree else args.boosted+'AnalysisPlots'+('' if 'pruned' in args.grooming else args.grooming)+'/'+nameInRoot  )\n",
    "#\t\tif 'massAve' in nameInRoot: \n",
    "#\t\t\tdataHistos[ 'DATA' ] = dataHistos[ 'DATA' ].Rebin( len( boostedMassAveBins )-1, dataHistos[ 'DATA' ].GetName(), boostedMassAveBins )\n",
    "#\t\t\tdataHistos[ 'DATA' ].Scale ( 1, 'width' )\n",
    "#\t\telif rebinX > 1: dataHistos[ 'DATA' ] = dataHistos[ 'DATA' ].Rebin( rebinX )\n",
    "#        legend.AddEntry( dataHistos[ 'DATA' ], 'Data', 'lep' )\n",
    "#        if Norm: dataHistos[ 'DATA' ].Scale( 1 /dataHistos['DATA'].Integral() )\n",
    "\n",
    "    bkgHistos = OrderedDict()\n",
    "    binWidth = 0\n",
    "    maxList = []\n",
    "    bkgInMassWindow = 0\n",
    "    bkgInMassWindowErr = 0\n",
    "    if len(bkgFiles) > 0:\n",
    "        for bkgSamples in bkgFiles:\n",
    "            bkgHistos[ bkgSamples ] = bkgFiles[ bkgSamples ][0].Get( 'tthbb13/'+name )\n",
    "            bkgHistos[ bkgSamples ].SetTitle(bkgSamples)\n",
    "            if bkgFiles[ bkgSamples ][1] != 1: bkgHistos[ bkgSamples ].Scale( bkgFiles[ bkgSamples ][1] )\n",
    "            print(bkgHistos[ bkgSamples ].Integral())\n",
    "            if rebinX > 1: bkgHistos[ bkgSamples ] = bkgHistos[ bkgSamples ].Rebin( rebinX )\n",
    "            legend.AddEntry( bkgHistos[ bkgSamples ], bkgSamples, 'l' if Norm else 'f' )\n",
    "\n",
    "            if Norm:\n",
    "                bkgHistos[ bkgSamples ].SetLineColor( bkgFiles[ bkgSamples ][2] )\n",
    "                bkgHistos[ bkgSamples ].SetLineWidth( 2 )\n",
    "                bkgHistos[ bkgSamples ].Scale( 1 / bkgHistos[ bkgSamples ].Integral() )\n",
    "                maxList.append( bkgHistos[ bkgSamples ].GetMaximum() )\n",
    "            else:\n",
    "                bkgHistos[ bkgSamples ].SetFillStyle( 1001 )\n",
    "                bkgHistos[ bkgSamples ].SetFillColor( int(bkgFiles[ bkgSamples ][2]) )\n",
    "\n",
    "    signalHistos = OrderedDict()\n",
    "    if len(signalFiles) > 0:\n",
    "        dummySig=0\n",
    "        for sigSamples in signalFiles:\n",
    "            signalHistos[ sigSamples ] = signalFiles[ sigSamples ][0].Get( 'tthbb13/'+name )\n",
    "            if signalFiles[ sigSamples ][1] != 1: signalHistos[ sigSamples ].Scale( signalFiles[ sigSamples ][1] ) \n",
    "            legend.AddEntry( signalHistos[ sigSamples ], sigSamples, 'l' if Norm else 'f' )\n",
    "#\t\t\tif 'massAve' in nameInRoot: \n",
    "#\t\t\t\tsignalHistos[ sigSamples ].Scale( twoProngSF * antiTau32SF ) \n",
    "#\t\t\t\tsignalHistos[ sigSamples ] = signalHistos[ sigSamples ].Rebin( len( boostedMassAveBins )-1, signalHistos[ sigSamples ].GetName(), boostedMassAveBins )\n",
    "#\t\t\t\tsignalHistos[ sigSamples ].Scale ( 1, 'width' )\n",
    "#\t\t\t\ttotalIntegralSig = signalHistos[ sigSamples ].Integral()\n",
    "#\t\t\t\tnEntriesTotalSig = signalHistos[ sigSamples ].GetEntries()\n",
    "#\t\t\t\ttotalSF = totalIntegralSig/nEntriesTotalSig\n",
    "#\t\t\t\twindowIntegralSigErr = Double(0)\n",
    "#\t\t\t\twindowIntegralSig = signalHistos[ sigSamples ].IntegralAndError((args.mass-10)/rebinX, (args.mass+10)/rebinX, windowIntegralSigErr ) \n",
    "#\t\t\t\tprint sigSamples, round(totalIntegralSig,2), nEntriesTotalSig, totalSF\n",
    "#\t\t\t\tprint sigSamples, 'in mass window', round(windowIntegralSig,2), ', nEntries', windowIntegralSig/totalSF, windowIntegralSigErr\n",
    "            if rebinX > 1: signalHistos[ sigSamples ] = signalHistos[ sigSamples ].Rebin( rebinX )\n",
    "            if Norm:\n",
    "                signalHistos[ sigSamples ].SetLineColor( signalFiles[ sigSamples ][2] )\n",
    "                signalHistos[ sigSamples ].SetLineWidth( 3 )\n",
    "                signalHistos[ sigSamples ].SetLineStyle( 10-dummySig )\n",
    "                signalHistos[ sigSamples ].Scale( 1 / signalHistos[ sigSamples ].Integral() )\n",
    "                maxList.append( signalHistos[ sigSamples ].GetMaximum() )\n",
    "            else:\n",
    "#\t\t\t\tif 'DATA' in args.process:\n",
    "#\t\t\t\t\tsignalHistos[ sigSamples ].SetLineColor( signalFiles[ sigSamples ][3] )\n",
    "#\t\t\t\t\tsignalHistos[ sigSamples ].SetFillColor(0)\n",
    "#\t\t\t\t\tsignalHistos[ sigSamples ].SetLineWidth(3)\n",
    "#\t\t\t\t\tsignalHistos[ sigSamples ].SetLineStyle(2+dummySig)\n",
    "#\t\t\t\telse:\n",
    "                signalHistos[ sigSamples ].SetFillStyle( 1001 )\n",
    "                signalHistos[ sigSamples ].SetFillColor( signalFiles[ sigSamples ][2] )\n",
    "                signalHistos[ sigSamples ].SetLineColor( signalFiles[ sigSamples ][2] )\n",
    "            binWidth = int(signalHistos[ sigSamples ].GetBinWidth( 1 ))\n",
    "            dummySig+=8\n",
    "\n",
    "\n",
    "    hBkg = bkgHistos[next(iter(bkgHistos))].Clone()\n",
    "    hBkg.Reset()\n",
    "\n",
    "    if not Norm:\n",
    "\n",
    "        stackHisto = ROOT.THStack('stackHisto'+name, 'stack'+name)\n",
    "        for samples in bkgHistos: \n",
    "            stackHisto.Add( bkgHistos[ samples ].Clone() )\n",
    "            hBkg.Add( bkgHistos[ samples ].Clone() )\n",
    "\n",
    "        canvas[outputFileName] = ROOT.TCanvas('c1'+name, 'c1'+name,  10, 10, 750, 500 )\n",
    "        #tdrStyle.SetPadRightMargin(0.05)\n",
    "        #tdrStyle.SetPadLeftMargin(0.15)\n",
    "        #pad1 = ROOT.TPad(\"pad1\", \"Fit\",0,0.207,1.00,1.00,-1)\n",
    "        #pad2 = ROOT.TPad(\"pad2\", \"Pull\",0,0.00,1.00,0.30,-1);\n",
    "        #pad1.Draw()\n",
    "        #pad2.Draw()\n",
    "\n",
    "        #pad1.cd()\n",
    "        #if log and not args.final: pad1.SetLogy()\n",
    "        if log: can.SetLogy()\n",
    "        stackHisto.Draw('hist')\n",
    "\n",
    "        if xmax: stackHisto.GetXaxis().SetRangeUser( xmin, xmax )\n",
    "        stackHisto.SetMaximum( hBkg.GetMaximum()*1.2 ) \n",
    "        stackHisto.GetYaxis().SetTitleOffset( 0.8 )\n",
    "\n",
    "        #stackHisto.SetMinimum( 0.1 ) \n",
    "        #hBkg.SetFillStyle(0)\n",
    "        hBkg.SetLineColor(ROOT.kBlack)\n",
    "        hBkg.SetLineStyle(1)\n",
    "        hBkg.SetLineWidth(1)\n",
    "        #hBkg.SetFillStyle(3004)\n",
    "        #hBkg.SetFillColor( kRed )\n",
    "        #hBkg.Draw(\"same\")\n",
    "\n",
    "        stackHisto.GetYaxis().SetTitle( 'Events / '+str(binWidth)+' GeV' )\n",
    "\n",
    "#\t\tif 'DATA' in args.process: \n",
    "#\t\t\tdataHistos[ 'DATA' ].SetMarkerStyle(8)\n",
    "#\t\t\tdataHistos[ 'DATA' ].Draw('same')\n",
    "#\t\t\tCMS_lumi.extraText = \"\"#\"Preliminary\"\n",
    "#\t\t\tlegend.SetNColumns(2)\n",
    "#\t\t\tif not 'Tau32' in args.cut:\n",
    "#\t\t\t\tfor sample in signalHistos: \n",
    "#\t\t\t\t\tif 'massAve' in nameInRoot: \n",
    "#\t\t\t\t\t\t#lowEdgeWindow = int(int(sample) - ( int( massWidthList[int(sample)])*3 ))\n",
    "#\t\t\t\t\t\t#highEdgeWindow = int(int(sample) + ( int( massWidthList[int(sample)])*3 ))\n",
    "#\t\t\t\t\t\ttmpResolution = 2*(-1.78 + ( 0.1097 * int(sample)) + ( -0.0002897 * int(sample)*int(sample) ) + ( 3.18e-07 * int(sample)*int(sample)*int(sample)))\n",
    "#\t\t\t\t\t\tlowEdgeWindow = int(int(sample) - tmpResolution )\n",
    "#\t\t\t\t\t\thighEdgeWindow = int(int(sample) + tmpResolution )\n",
    "#\t\t\t\t\t\tsignalHistos[ sample ].GetXaxis().SetRangeUser( lowEdgeWindow, highEdgeWindow )\n",
    "#\t\t\t\t\tsignalHistos[ sample ].Draw(\"hist same\")\n",
    "#\t\telse:  \n",
    "        \n",
    "        tmpHisto = {}\n",
    "        for sample in signalHistos: \n",
    "            tmpHisto[ sample ] = signalHistos[ sample ].Clone()\n",
    "            tmpHisto[ sample ].SetFillColor(0)\n",
    "            tmpHisto[ sample ].SetLineStyle(2)\n",
    "            tmpHisto[ sample ].SetLineWidth(3)\n",
    "            tmpHisto[ sample ].Draw(\"hist same\")\n",
    "\n",
    "        CMS_lumi.extraText = \"Simulation Preliminary\"\n",
    "        CMS_lumi.lumi_13TeV = str( round( (lumi/1000.), 1 ) )+\" fb^{-1}\"\n",
    "        #CMS_lumi.relPosX = 0.14\n",
    "        CMS_lumi.CMS_lumi( canvas[outputFileName], 4, 0)\n",
    "        legend.Draw()\n",
    "\n",
    "#         if not args.final:\n",
    "# \t\t\tpad2.cd()\n",
    "# \t\t\tpad2.SetGrid()\n",
    "# \t\t\tpad2.SetTopMargin(0)\n",
    "# \t\t\tpad2.SetBottomMargin(0.3)\n",
    "\t\t\t\n",
    "# \t\t\tif 'DATA' in args.process:\n",
    "# \t\t\t\ttmpPad2= pad2.DrawFrame(xmin,0.5,xmax,1.5)\n",
    "# \t\t\t\tlabelAxis( name.replace( args.cut, ''), tmpPad2, ( 'softDrop' if 'Puppi' in args.grooming else args.grooming ) )\n",
    "# \t\t\t\ttmpPad2.GetYaxis().SetTitle( \"Data/Bkg\" )\n",
    "# \t\t\t\ttmpPad2.GetYaxis().SetTitleOffset( 0.5 )\n",
    "# \t\t\t\ttmpPad2.GetYaxis().CenterTitle()\n",
    "# \t\t\t\ttmpPad2.SetLabelSize(0.12, 'x')\n",
    "# \t\t\t\ttmpPad2.SetTitleSize(0.12, 'x')\n",
    "# \t\t\t\ttmpPad2.SetLabelSize(0.12, 'y')\n",
    "# \t\t\t\ttmpPad2.SetTitleSize(0.12, 'y')\n",
    "# \t\t\t\ttmpPad2.SetNdivisions(505, 'x')\n",
    "# \t\t\t\ttmpPad2.SetNdivisions(505, 'y')\n",
    "# \t\t\t\tpad2.Modified()\n",
    "# \t\t\t\thRatio = TGraphAsymmErrors()\n",
    "# \t\t\t\thRatio.Divide( dataHistos[ 'DATA' ], hBkg, 'pois' )\n",
    "# \t\t\t\thRatio.SetMarkerStyle(8)\n",
    "# \t\t\t\thRatio.Draw('P')\n",
    "\t\t\t\t\n",
    "# \t\t\telse:\n",
    "# \t\t\t\thRatio = signalHistos[ args.mass ].Clone()\n",
    "# \t\t\t\thRatio.Reset()\n",
    "# \t\t\t\tallBkgWindow = 0\n",
    "# \t\t\t\tallSigWindow = 0\n",
    "# \t\t\t\tfor ibin in range((args.mass-10)/rebinX, (args.mass+10)/rebinX+1 ): \n",
    "# \t\t\t\t\tbinContSignal = signalHistos[ args.mass ].GetBinContent(ibin)\n",
    "# \t\t\t\t\tallSigWindow += binContSignal\n",
    "# \t\t\t\t\tbinContBkg = hBkg.GetBinContent(ibin)\n",
    "# \t\t\t\t\tallBkgWindow += binContBkg\n",
    "# \t\t\t\t\ttry: value = binContSignal / TMath.Sqrt( binContBkg )\n",
    "# \t\t\t\t\t#try: value = binContSignal / TMath.Sqrt( binContSignal + binContBkg )\n",
    "# \t\t\t\t\t#try: value = binContSignal / ( binContSignal + binContBkg )\n",
    "# \t\t\t\t\texcept ZeroDivisionError: continue\n",
    "# \t\t\t\t\thRatio.SetBinContent( ibin, value )\n",
    "# \t\t\t\tratioLabel = \"S / #sqrt{B}\"\n",
    "# \t\t\t\tprint 's/sqrt(B) ', allSigWindow/TMath.Sqrt(allBkgWindow), allSigWindow, allBkgWindow, allSigWindow/allBkgWindow\n",
    "# \t\t\t\tprint '2 ( sqrt(B+S) - sqrt(B) )', 2*( TMath.Sqrt( allBkgWindow+allSigWindow ) - TMath.Sqrt( allBkgWindow ) ) \n",
    "\t\t\t\n",
    "# \t\t\t\tlabelAxis( name, hRatio, ( 'softDrop' if 'Puppi' in args.grooming else args.grooming) )\n",
    "# \t\t\t\thRatio.GetYaxis().SetTitleOffset(1.2)\n",
    "# \t\t\t\thRatio.GetXaxis().SetLabelSize(0.12)\n",
    "# \t\t\t\thRatio.GetXaxis().SetTitleSize(0.12)\n",
    "# \t\t\t\thRatio.GetYaxis().SetTitle( ratioLabel )\n",
    "# \t\t\t\thRatio.GetYaxis().SetLabelSize(0.12)\n",
    "# \t\t\t\thRatio.GetYaxis().SetTitleSize(0.12)\n",
    "# \t\t\t\thRatio.GetYaxis().SetTitleOffset(0.45)\n",
    "# \t\t\t\thRatio.GetYaxis().CenterTitle()\n",
    "# \t\t\t\t#hRatio.SetMaximum(0.7)\n",
    "# \t\t\t\tif xmax: hRatio.GetXaxis().SetRangeUser( xmin, xmax )\n",
    "# \t\t\t\thRatio.Draw( (\"PES\" if 'DATA' in args.process else \"hist\" ) )\n",
    "\n",
    "# \t\t\tif addRatioFit:\n",
    "# \t\t\t\ttmpFit = TF1( 'tmpFit', 'pol0', 120, 240 )\n",
    "# \t\t\t\thRatio.Fit( 'tmpFit', '', '', 120, 240 )\n",
    "# \t\t\t\ttmpFit.SetLineColor( kGreen )\n",
    "# \t\t\t\ttmpFit.SetLineWidth( 2 )\n",
    "# \t\t\t\ttmpFit.Draw(\"sames\")\n",
    "# \t\t\t\tchi2Test = TLatex( 0.7, 0.8, '#splitline{#chi^{2}/ndF = '+ str( round( tmpFit.GetChisquare(), 2 ) )+'/'+str( int( tmpFit.GetNDF() ) )+'}{p0 = '+ str( round( tmpFit.GetParameter( 0 ), 2 ) ) +' #pm '+str(  round( tmpFit.GetParError( 0 ), 2 ) )+'}' )\n",
    "# \t\t\t\tchi2Test.SetNDC()\n",
    "# \t\t\t\tchi2Test.SetTextFont(42) ### 62 is bold, 42 is normal\n",
    "# \t\t\t\tchi2Test.SetTextSize(0.10)\n",
    "# \t\t\t\tchi2Test.Draw('same')\n",
    "\n",
    "# \t\t\tif 'DATA' in args.process: \n",
    "# \t\t\t\thRatio.GetYaxis().SetNdivisions(505)\n",
    "# \t\t\t\tline.Draw('same')\n",
    "\n",
    "        canvas[outputFileName].SaveAs( 'Plots/'+outputFileName )\n",
    "        #del canvas[outputFileName]"
   ]
  },
  {
   "cell_type": "code",
   "execution_count": 7,
   "metadata": {},
   "outputs": [
    {
     "name": "stdout",
     "output_type": "stream",
     "text": [
      "HiggsCandMass_WHiggs\n",
      "Processing....... HiggsCandMass_WHiggs_PlusBkg_AnalysisPlots_v02.png\n",
      "79.77909323200583\n",
      "452.8164862021804\n",
      "WCandMass_WHiggs\n",
      "Processing....... WCandMass_WHiggs_PlusBkg_AnalysisPlots_v02.png\n",
      "78.88459284044802\n",
      "431.2176784276962\n"
     ]
    },
    {
     "name": "stderr",
     "output_type": "stream",
     "text": [
      "Info in <TCanvas::Print>: png file Plots/HiggsCandMass_WHiggs_PlusBkg_AnalysisPlots_v02.png has been created\n",
      "Info in <TCanvas::Print>: png file Plots/WCandMass_WHiggs_PlusBkg_AnalysisPlots_v02.png has been created\n"
     ]
    },
    {
     "data": {
      "text/html": [
       "\n",
       "<div id=\"root_plot_13\"\n",
       "     style=\"width: 746px; height: 472px\">\n",
       "</div>\n",
       "\n",
       "<script>\n",
       " requirejs.config({\n",
       "     paths: {\n",
       "       'JSRootCore' : 'https://root.cern.ch/js/notebook//scripts/JSRootCore',\n",
       "     }\n",
       "   });\n",
       " require(['JSRootCore'],\n",
       "     function(Core) {\n",
       "       var obj = Core.JSONR_unref({\"_typename\":\"TCanvas\",\"fUniqueID\":0,\"fBits\":53673992,\"fLineColor\":1,\"fLineStyle\":1,\"fLineWidth\":1,\"fFillColor\":0,\"fFillStyle\":1001,\"fLeftMargin\":0.12,\"fRightMargin\":0.1,\"fBottomMargin\":0.12,\"fTopMargin\":0.09,\"fXfile\":2,\"fYfile\":2,\"fAfile\":1,\"fXstat\":0.99,\"fYstat\":0.99,\"fAstat\":2,\"fFrameFillColor\":0,\"fFrameLineColor\":1,\"fFrameFillStyle\":0,\"fFrameLineStyle\":1,\"fFrameLineWidth\":1,\"fFrameBorderSize\":1,\"fFrameBorderMode\":0,\"fX1\":-3.84615433110289,\"fY1\":-7.55293351845809,\"fX2\":278.205129659975,\"fY2\":55.3881781974636,\"fXtoAbsPixelk\":10.1727784854109,\"fXtoPixelk\":10.1727784854109,\"fXtoPixel\":2.64490907271884,\"fYtoAbsPixelk\":415.360049155998,\"fYtoPixelk\":415.360049155998,\"fYtoPixel\":-7.49907313570062,\"fUtoAbsPixelk\":5e-5,\"fUtoPixelk\":5e-5,\"fUtoPixel\":746,\"fVtoAbsPixelk\":472.00005,\"fVtoPixelk\":472,\"fVtoPixel\":-472,\"fAbsPixeltoXk\":-3.84615433110289,\"fPixeltoXk\":-3.84615433110289,\"fPixeltoX\":0.378084831087236,\"fAbsPixeltoYk\":55.3881781974636,\"fPixeltoYk\":-7.55293351845809,\"fPixeltoY\":-0.133349812957461,\"fXlowNDC\":0,\"fYlowNDC\":0,\"fXUpNDC\":0,\"fYUpNDC\":0,\"fWNDC\":1,\"fHNDC\":1,\"fAbsXlowNDC\":0,\"fAbsYlowNDC\":0,\"fAbsWNDC\":1,\"fAbsHNDC\":1,\"fUxmin\":30,\"fUymin\":0,\"fUxmax\":250,\"fUymax\":49.7234777069092,\"fTheta\":30,\"fPhi\":30,\"fAspectRatio\":0,\"fNumber\":0,\"fTickx\":1,\"fTicky\":1,\"fLogx\":0,\"fLogy\":0,\"fLogz\":0,\"fPadPaint\":0,\"fCrosshair\":0,\"fCrosshairPos\":0,\"fBorderSize\":2,\"fBorderMode\":0,\"fModified\":false,\"fGridx\":false,\"fGridy\":false,\"fAbsCoord\":false,\"fEditable\":true,\"fFixedAspectRatio\":false,\"fPrimitives\":{\"_typename\":\"TList\",\"name\":\"TList\",\"arr\":[{\"_typename\":\"TFrame\",\"fUniqueID\":0,\"fBits\":50331656,\"fLineColor\":1,\"fLineStyle\":1,\"fLineWidth\":1,\"fFillColor\":0,\"fFillStyle\":0,\"fX1\":30,\"fY1\":0,\"fX2\":250,\"fY2\":49.7234777069092,\"fBorderSize\":1,\"fBorderMode\":0},{\"_typename\":\"TLatex\",\"fUniqueID\":0,\"fBits\":50348041,\"fName\":\"\",\"fTitle\":\"41.5 fb^{-1}\",\"fTextAngle\":0,\"fTextSize\":0.054,\"fTextAlign\":31,\"fTextColor\":1,\"fTextFont\":42,\"fX\":0.899999998509884,\"fY\":0.927999997138977,\"fLineColor\":1,\"fLineStyle\":1,\"fLineWidth\":2,\"fLimitFactorSize\":3,\"fOriginSize\":0.0540000014007092},{\"_typename\":\"TLatex\",\"fUniqueID\":0,\"fBits\":50348041,\"fName\":\"\",\"fTitle\":\"CMS\",\"fTextAngle\":0,\"fTextSize\":0.063,\"fTextAlign\":11,\"fTextColor\":1,\"fTextFont\":61,\"fX\":0.119999997317791,\"fY\":0.927999997138977,\"fLineColor\":1,\"fLineStyle\":1,\"fLineWidth\":2,\"fLimitFactorSize\":3,\"fOriginSize\":0.04},{\"_typename\":\"TLatex\",\"fUniqueID\":0,\"fBits\":50348041,\"fName\":\"\",\"fTitle\":\"Simulation Preliminary\",\"fTextAngle\":0,\"fTextSize\":0.0441,\"fTextAlign\":11,\"fTextColor\":1,\"fTextFont\":52,\"fX\":0.213599997460842,\"fY\":0.927999997138977,\"fLineColor\":1,\"fLineStyle\":1,\"fLineWidth\":2,\"fLimitFactorSize\":3,\"fOriginSize\":0.0441000014543533}],\"opt\":[\"\",\"\",\"\",\"\"]},\"fExecs\":null,\"fName\":\"c1HiggsCandMass_WHiggs\",\"fTitle\":\"c1HiggsCandMass_WHiggs\",\"fNumPaletteColor\":0,\"fNextPaletteColor\":0,\"fDISPLAY\":\"$DISPLAY\",\"fDoubleBuffer\":0,\"fRetained\":true,\"fXsizeUser\":0,\"fYsizeUser\":0,\"fXsizeReal\":20,\"fYsizeReal\":13.33333,\"fWindowTopX\":0,\"fWindowTopY\":0,\"fWindowWidth\":0,\"fWindowHeight\":0,\"fCw\":746,\"fCh\":472,\"fCatt\":{\"_typename\":\"TAttCanvas\",\"fXBetween\":2,\"fYBetween\":2,\"fTitleFromTop\":1.2,\"fXdate\":0.2,\"fYdate\":0.3,\"fAdate\":1},\"kMoveOpaque\":true,\"kResizeOpaque\":true,\"fHighLightColor\":2,\"fBatch\":true,\"kShowEventStatus\":false,\"kAutoExec\":true,\"kMenuBar\":true});\n",
       "       Core.draw(\"root_plot_13\", obj, \"\");\n",
       "     }\n",
       " );\n",
       "</script>\n"
      ],
      "text/plain": [
       "<IPython.core.display.HTML object>"
      ]
     },
     "metadata": {},
     "output_type": "display_data"
    },
    {
     "data": {
      "text/html": [
       "\n",
       "<div id=\"root_plot_14\"\n",
       "     style=\"width: 746px; height: 472px\">\n",
       "</div>\n",
       "\n",
       "<script>\n",
       " requirejs.config({\n",
       "     paths: {\n",
       "       'JSRootCore' : 'https://root.cern.ch/js/notebook//scripts/JSRootCore',\n",
       "     }\n",
       "   });\n",
       " require(['JSRootCore'],\n",
       "     function(Core) {\n",
       "       var obj = Core.JSONR_unref({\"_typename\":\"TCanvas\",\"fUniqueID\":0,\"fBits\":53673992,\"fLineColor\":1,\"fLineStyle\":1,\"fLineWidth\":1,\"fFillColor\":0,\"fFillStyle\":1001,\"fLeftMargin\":0.12,\"fRightMargin\":0.1,\"fBottomMargin\":0.12,\"fTopMargin\":0.09,\"fXfile\":2,\"fYfile\":2,\"fAfile\":1,\"fXstat\":0.99,\"fYstat\":0.99,\"fAstat\":2,\"fFrameFillColor\":0,\"fFrameLineColor\":1,\"fFrameFillStyle\":0,\"fFrameLineStyle\":1,\"fFrameLineWidth\":1,\"fFrameBorderSize\":1,\"fFrameBorderMode\":0,\"fX1\":3.84615347142049,\"fY1\":-9.24313108828448,\"fX2\":221.794872919072,\"fY2\":67.7829601663079,\"fXtoAbsPixelk\":-13.1646545091671,\"fXtoPixelk\":-13.1646545091671,\"fXtoPixel\":3.42282350587144,\"fYtoAbsPixelk\":415.360049155998,\"fYtoPixelk\":415.360049155998,\"fYtoPixel\":-6.12779374251136,\"fUtoAbsPixelk\":5e-5,\"fUtoPixelk\":5e-5,\"fUtoPixel\":746,\"fVtoAbsPixelk\":472.00005,\"fVtoPixelk\":472,\"fVtoPixel\":-472,\"fAbsPixeltoXk\":3.84615347142049,\"fPixeltoXk\":3.84615347142049,\"fPixeltoX\":0.292156460385592,\"fAbsPixeltoYk\":67.7829601663079,\"fPixeltoYk\":-9.24313108828448,\"fPixeltoY\":-0.163190871302103,\"fXlowNDC\":0,\"fYlowNDC\":0,\"fXUpNDC\":0,\"fYUpNDC\":0,\"fWNDC\":1,\"fHNDC\":1,\"fAbsXlowNDC\":0,\"fAbsYlowNDC\":0,\"fAbsWNDC\":1,\"fAbsHNDC\":1,\"fUxmin\":30,\"fUymin\":0,\"fUxmax\":200,\"fUymax\":60.8506114196777,\"fTheta\":30,\"fPhi\":30,\"fAspectRatio\":0,\"fNumber\":0,\"fTickx\":1,\"fTicky\":1,\"fLogx\":0,\"fLogy\":0,\"fLogz\":0,\"fPadPaint\":0,\"fCrosshair\":0,\"fCrosshairPos\":0,\"fBorderSize\":2,\"fBorderMode\":0,\"fModified\":false,\"fGridx\":false,\"fGridy\":false,\"fAbsCoord\":false,\"fEditable\":true,\"fFixedAspectRatio\":false,\"fPrimitives\":{\"_typename\":\"TList\",\"name\":\"TList\",\"arr\":[{\"_typename\":\"TFrame\",\"fUniqueID\":0,\"fBits\":50331656,\"fLineColor\":1,\"fLineStyle\":1,\"fLineWidth\":1,\"fFillColor\":0,\"fFillStyle\":0,\"fX1\":30,\"fY1\":0,\"fX2\":200,\"fY2\":60.8506114196777,\"fBorderSize\":1,\"fBorderMode\":0},{\"_typename\":\"TLatex\",\"fUniqueID\":0,\"fBits\":50348041,\"fName\":\"\",\"fTitle\":\"41.5 fb^{-1}\",\"fTextAngle\":0,\"fTextSize\":0.054,\"fTextAlign\":31,\"fTextColor\":1,\"fTextFont\":42,\"fX\":0.899999998509884,\"fY\":0.927999997138977,\"fLineColor\":1,\"fLineStyle\":1,\"fLineWidth\":2,\"fLimitFactorSize\":3,\"fOriginSize\":0.0540000014007092},{\"_typename\":\"TLatex\",\"fUniqueID\":0,\"fBits\":50348041,\"fName\":\"\",\"fTitle\":\"CMS\",\"fTextAngle\":0,\"fTextSize\":0.063,\"fTextAlign\":11,\"fTextColor\":1,\"fTextFont\":61,\"fX\":0.119999997317791,\"fY\":0.927999997138977,\"fLineColor\":1,\"fLineStyle\":1,\"fLineWidth\":2,\"fLimitFactorSize\":3,\"fOriginSize\":0.04},{\"_typename\":\"TLatex\",\"fUniqueID\":0,\"fBits\":50348041,\"fName\":\"\",\"fTitle\":\"Simulation Preliminary\",\"fTextAngle\":0,\"fTextSize\":0.0441,\"fTextAlign\":11,\"fTextColor\":1,\"fTextFont\":52,\"fX\":0.213599997460842,\"fY\":0.927999997138977,\"fLineColor\":1,\"fLineStyle\":1,\"fLineWidth\":2,\"fLimitFactorSize\":3,\"fOriginSize\":0.0441000014543533}],\"opt\":[\"\",\"\",\"\",\"\"]},\"fExecs\":null,\"fName\":\"c1WCandMass_WHiggs\",\"fTitle\":\"c1WCandMass_WHiggs\",\"fNumPaletteColor\":0,\"fNextPaletteColor\":0,\"fDISPLAY\":\"$DISPLAY\",\"fDoubleBuffer\":0,\"fRetained\":true,\"fXsizeUser\":0,\"fYsizeUser\":0,\"fXsizeReal\":20,\"fYsizeReal\":13.33333,\"fWindowTopX\":0,\"fWindowTopY\":0,\"fWindowWidth\":0,\"fWindowHeight\":0,\"fCw\":746,\"fCh\":472,\"fCatt\":{\"_typename\":\"TAttCanvas\",\"fXBetween\":2,\"fYBetween\":2,\"fTitleFromTop\":1.2,\"fXdate\":0.2,\"fYdate\":0.3,\"fAdate\":1},\"kMoveOpaque\":true,\"kResizeOpaque\":true,\"fHighLightColor\":2,\"fBatch\":true,\"kShowEventStatus\":false,\"kAutoExec\":true,\"kMenuBar\":true});\n",
       "       Core.draw(\"root_plot_14\", obj, \"\");\n",
       "     }\n",
       " );\n",
       "</script>\n"
      ],
      "text/plain": [
       "<IPython.core.display.HTML object>"
      ]
     },
     "metadata": {},
     "output_type": "display_data"
    }
   ],
   "source": [
    "histos = [\n",
    "    ['HiggsCandMass_WHiggs', 'Higgs candidate mass [GeV]', 30, 250, 1, False ],\n",
    "    ['WCandMass_WHiggs', 'W candidate mass [GeV]', 30, 200, 1, False ],\n",
    "]\n",
    "\n",
    "tmpSig = {'ttHTobb': signalFiles['ttHTobb']}\n",
    "tmpBkg = {k: bkgFiles[k] for k in ('TTTo2L2Nu', 'TTToSemiLeptonic' )}\n",
    "\n",
    "for h in histos:\n",
    "    print(h[0])\n",
    "    plotSignalBkg( tmpSig, tmpBkg, h[0], h[2], h[3], h[4], log=h[5] )\n",
    "ROOT.gROOT.GetListOfCanvases().Draw()"
   ]
  },
  {
   "cell_type": "code",
   "execution_count": null,
   "metadata": {},
   "outputs": [],
   "source": []
  },
  {
   "cell_type": "code",
   "execution_count": null,
   "metadata": {},
   "outputs": [],
   "source": []
  }
 ],
 "metadata": {
  "kernelspec": {
   "display_name": "Python 3",
   "language": "python",
   "name": "python3"
  },
  "language_info": {
   "codemirror_mode": {
    "name": "ipython",
    "version": 3
   },
   "file_extension": ".py",
   "mimetype": "text/x-python",
   "name": "python",
   "nbconvert_exporter": "python",
   "pygments_lexer": "ipython3",
   "version": "3.7.3"
  }
 },
 "nbformat": 4,
 "nbformat_minor": 2
}
